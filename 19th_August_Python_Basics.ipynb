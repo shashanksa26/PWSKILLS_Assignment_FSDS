{
 "cells": [
  {
   "cell_type": "markdown",
   "id": "0e6e14b1",
   "metadata": {},
   "source": [
    "# TOPIC: Python Basics Variable"
   ]
  },
  {
   "cell_type": "code",
   "execution_count": 2,
   "id": "930c1251",
   "metadata": {},
   "outputs": [
    {
     "name": "stdout",
     "output_type": "stream",
     "text": [
      "x:30 y:10\n"
     ]
    }
   ],
   "source": [
    "'''1. Declare two variables, `x` and `y`, and assign them integer values. Swap the\n",
    "values of these variables without using any temporary variable.'''\n",
    "x = 10\n",
    "y = 30\n",
    "x,y = y,x\n",
    "print(f\"x:{x} y:{y}\")"
   ]
  },
  {
   "cell_type": "code",
   "execution_count": 4,
   "id": "b5fc7c62",
   "metadata": {},
   "outputs": [
    {
     "name": "stdout",
     "output_type": "stream",
     "text": [
      "Enter the length of the rectangle: 4\n",
      "Enter the width of the rectangle: 5\n",
      "The area of rectangle is: 20.0\n"
     ]
    }
   ],
   "source": [
    "'''2. Create a program that calculates the area of a rectangle. Take the length and\n",
    "width as inputs from the user and store them in variables. Calculate and\n",
    "display the area.'''\n",
    "length = float(input(\"Enter the length of the rectangle: \"))\n",
    "width = float(input(\"Enter the width of the rectangle: \"))\n",
    "area = length * width\n",
    "print(f\"The area of rectangle is: {area}\")"
   ]
  },
  {
   "cell_type": "code",
   "execution_count": 7,
   "id": "17c1fb9c",
   "metadata": {},
   "outputs": [
    {
     "name": "stdout",
     "output_type": "stream",
     "text": [
      "Enter temperature in celcius: 37\n",
      "98.6\n"
     ]
    }
   ],
   "source": [
    "'''3. Write a Python program that converts temperatures from Celsius to\n",
    "Fahrenheit. Take the temperature in Celsius as input, store it in a variable,\n",
    "convert it to Fahrenheit, and display the result.'''\n",
    "celsius = float(input(\"Enter temperature in celcius: \"))\n",
    "fahrenheit = (celsius * 9/5) + 32\n",
    "print(fahrenheit)"
   ]
  },
  {
   "cell_type": "markdown",
   "id": "49c649d2",
   "metadata": {},
   "source": [
    "# TOPIC: String Based Questions"
   ]
  },
  {
   "cell_type": "code",
   "execution_count": 10,
   "id": "b79e7ca9",
   "metadata": {},
   "outputs": [
    {
     "name": "stdout",
     "output_type": "stream",
     "text": [
      "Enter srting: hello world\n",
      "11\n"
     ]
    }
   ],
   "source": [
    "'''1. Write a Python program that takes a string as input and prints the length of\n",
    "the string.'''\n",
    "str = input(\"Enter srting: \")\n",
    "print(len(str))"
   ]
  },
  {
   "cell_type": "code",
   "execution_count": 13,
   "id": "d7e57b38",
   "metadata": {},
   "outputs": [
    {
     "name": "stdout",
     "output_type": "stream",
     "text": [
      "Enter a sentence: hello everyone checking for VOWEL\n",
      "The total count of Vowel in the given sentence is: 11\n"
     ]
    }
   ],
   "source": [
    "'''2. Create a program that takes a sentence from the user and counts the number\n",
    "of vowels (a, e, i, o, u) in the string.'''\n",
    "sentence = input(\"Enter a sentence: \")\n",
    "vowels = \"aeiouAEIOU\"\n",
    "count = 0\n",
    "for char in sentence:\n",
    "    if char in vowels:\n",
    "        count +=1\n",
    "print(f\"The total count of Vowel in the given sentence is: {count}\")"
   ]
  },
  {
   "cell_type": "code",
   "execution_count": 14,
   "id": "0b1cd3a6",
   "metadata": {},
   "outputs": [
    {
     "name": "stdout",
     "output_type": "stream",
     "text": [
      "Enter a string: HELLO WORLD\n",
      "DLROW OLLEH\n"
     ]
    }
   ],
   "source": [
    "'''3. Given a string, reverse the order of characters using string slicing and print\n",
    "the reversed string.'''\n",
    "original_string = input(\"Enter a string: \")\n",
    "reverse_string = original_string[::-1]\n",
    "print(reverse_string)"
   ]
  },
  {
   "cell_type": "code",
   "execution_count": 19,
   "id": "b1f8d5f2",
   "metadata": {},
   "outputs": [
    {
     "name": "stdout",
     "output_type": "stream",
     "text": [
      "Enter a string: LOl\n",
      "The given string is Palindrome\n"
     ]
    }
   ],
   "source": [
    "'''4. Write a program that takes a string as input and checks if it is a palindrome\n",
    "(reads the same forwards and backwards).'''\n",
    "original_string = input(\"Enter a string: \").lower()\n",
    "reverse_string = original_string[::-1]\n",
    "if original_string == reverse_string:\n",
    "    print(\"The given string is Palindrome\")\n",
    "else:\n",
    "    print(\"The given string is not Palindrome\")"
   ]
  },
  {
   "cell_type": "code",
   "execution_count": 20,
   "id": "a7939de7",
   "metadata": {},
   "outputs": [
    {
     "name": "stdout",
     "output_type": "stream",
     "text": [
      "Enter a string: hello world of pwskills\n",
      "Modified string without space: helloworldofpwskills\n"
     ]
    }
   ],
   "source": [
    "'''5. Create a program that takes a string as input and removes all the spaces from\n",
    "it. Print the modified string without spaces.'''\n",
    "original_string = input(\"Enter a string: \")\n",
    "modified_string = original_string.replace(\" \",\"\")\n",
    "print(f\"Modified string without space: {modified_string}\")"
   ]
  }
 ],
 "metadata": {
  "kernelspec": {
   "display_name": "Python 3 (ipykernel)",
   "language": "python",
   "name": "python3"
  },
  "language_info": {
   "codemirror_mode": {
    "name": "ipython",
    "version": 3
   },
   "file_extension": ".py",
   "mimetype": "text/x-python",
   "name": "python",
   "nbconvert_exporter": "python",
   "pygments_lexer": "ipython3",
   "version": "3.11.7"
  }
 },
 "nbformat": 4,
 "nbformat_minor": 5
}
