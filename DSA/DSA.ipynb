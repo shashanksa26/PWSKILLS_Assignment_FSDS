{
 "cells": [
  {
   "cell_type": "code",
   "execution_count": 4,
   "id": "5ca34d5b",
   "metadata": {},
   "outputs": [
    {
     "name": "stdout",
     "output_type": "stream",
     "text": [
      "5 -> 4 -> 3 -> 2 -> 1"
     ]
    }
   ],
   "source": [
    "'''Problem 1: Reverse a singly linked list.'''\n",
    "class ListNode:\n",
    "    def __init__(self, val=0, next=None):\n",
    "        self.val = val\n",
    "        self.next = next\n",
    "\n",
    "def reverse_list(head):\n",
    "    prev = None\n",
    "    current = head\n",
    "    while current:\n",
    "        next_node = current.next\n",
    "        current.next = prev\n",
    "        prev = current\n",
    "        current = next_node\n",
    "    return prev\n",
    "\n",
    "# Example usage:\n",
    "head = ListNode(1, ListNode(2, ListNode(3, ListNode(4, ListNode(5)))))\n",
    "reversed_head = reverse_list(head)\n",
    "while reversed_head:\n",
    "    print(reversed_head.val, end=\" -> \" if reversed_head.next else \"\")\n",
    "    reversed_head = reversed_head.next\n"
   ]
  },
  {
   "cell_type": "code",
   "execution_count": 5,
   "id": "3afb08d0",
   "metadata": {},
   "outputs": [
    {
     "name": "stdout",
     "output_type": "stream",
     "text": [
      "1 -> 2 -> 3 -> 4 -> 5 -> 6"
     ]
    }
   ],
   "source": [
    "'''Problem 2: Merge two sorted linked lists into one sorted linked list.'''\n",
    "def merge_two_lists(l1, l2):\n",
    "    dummy = ListNode()\n",
    "    current = dummy\n",
    "    while l1 and l2:\n",
    "        if l1.val < l2.val:\n",
    "            current.next = l1\n",
    "            l1 = l1.next\n",
    "        else:\n",
    "            current.next = l2\n",
    "            l2 = l2.next\n",
    "        current = current.next\n",
    "    current.next = l1 or l2\n",
    "    return dummy.next\n",
    "\n",
    "# Example usage:\n",
    "l1 = ListNode(1, ListNode(3, ListNode(5)))\n",
    "l2 = ListNode(2, ListNode(4, ListNode(6)))\n",
    "merged_head = merge_two_lists(l1, l2)\n",
    "while merged_head:\n",
    "    print(merged_head.val, end=\" -> \" if merged_head.next else \"\")\n",
    "    merged_head = merged_head.next\n"
   ]
  },
  {
   "cell_type": "code",
   "execution_count": 6,
   "id": "4b6ba14b",
   "metadata": {},
   "outputs": [
    {
     "name": "stdout",
     "output_type": "stream",
     "text": [
      "1 -> 2 -> 3 -> 5"
     ]
    }
   ],
   "source": [
    "'''Problem 3: Remove the nth node from the end of a linked list.'''\n",
    "def remove_nth_from_end(head, n):\n",
    "    dummy = ListNode(0)\n",
    "    dummy.next = head\n",
    "    fast = slow = dummy\n",
    "    for _ in range(n + 1):\n",
    "        fast = fast.next\n",
    "    while fast:\n",
    "        fast = fast.next\n",
    "        slow = slow.next\n",
    "    slow.next = slow.next.next\n",
    "    return dummy.next\n",
    "\n",
    "# Example usage:\n",
    "head = ListNode(1, ListNode(2, ListNode(3, ListNode(4, ListNode(5)))))\n",
    "new_head = remove_nth_from_end(head, 2)\n",
    "while new_head:\n",
    "    print(new_head.val, end=\" -> \" if new_head.next else \"\")\n",
    "    new_head = new_head.next\n"
   ]
  },
  {
   "cell_type": "code",
   "execution_count": 7,
   "id": "784705a8",
   "metadata": {},
   "outputs": [
    {
     "name": "stdout",
     "output_type": "stream",
     "text": [
      "Node with value 3\n"
     ]
    }
   ],
   "source": [
    "'''Problem 4: Find the Intersection Point of Two Linked Lists'''\n",
    "def get_intersection_node(headA, headB):\n",
    "    if not headA or not headB:\n",
    "        return None\n",
    "    a, b = headA, headB\n",
    "    while a != b:\n",
    "        a = a.next if a else headB\n",
    "        b = b.next if b else headA\n",
    "    return a\n",
    "\n",
    "# Example usage:\n",
    "list1 = ListNode(1, ListNode(2, ListNode(3, ListNode(4))))\n",
    "list2 = ListNode(9, ListNode(8, list1.next.next))  # Intersection at node with value 3\n",
    "intersection = get_intersection_node(list1, list2)\n",
    "print(f\"Node with value {intersection.val}\" if intersection else \"No intersection\")\n"
   ]
  },
  {
   "cell_type": "code",
   "execution_count": 8,
   "id": "72b09e78",
   "metadata": {},
   "outputs": [
    {
     "name": "stdout",
     "output_type": "stream",
     "text": [
      "1 -> 2 -> 3"
     ]
    }
   ],
   "source": [
    "'''Problem 5: Remove Duplicates from a Sorted Linked List'''\n",
    "\n",
    "\n",
    "def remove_duplicates(head):\n",
    "    current = head\n",
    "    while current and current.next:\n",
    "        if current.val == current.next.val:\n",
    "            current.next = current.next.next\n",
    "        else:\n",
    "            current = current.next\n",
    "    return head\n",
    "\n",
    "# Example usage:\n",
    "head = ListNode(1, ListNode(1, ListNode(2, ListNode(3, ListNode(3)))))\n",
    "new_head = remove_duplicates(head)\n",
    "while new_head:\n",
    "    print(new_head.val, end=\" -> \" if new_head.next else \"\")\n",
    "    new_head = new_head.next"
   ]
  },
  {
   "cell_type": "code",
   "execution_count": 9,
   "id": "41ec1e1b",
   "metadata": {},
   "outputs": [
    {
     "name": "stdout",
     "output_type": "stream",
     "text": [
      "7 -> 0 -> 8"
     ]
    }
   ],
   "source": [
    "'''Problem 6: Add Two Numbers Represented by Linked Lists'''\n",
    "def add_two_numbers(l1, l2):\n",
    "    dummy = ListNode()\n",
    "    current = dummy\n",
    "    carry = 0\n",
    "    while l1 or l2 or carry:\n",
    "        val1 = l1.val if l1 else 0\n",
    "        val2 = l2.val if l2 else 0\n",
    "        carry, out = divmod(val1 + val2 + carry, 10)\n",
    "        current.next = ListNode(out)\n",
    "        current = current.next\n",
    "        l1 = l1.next if l1 else None\n",
    "        l2 = l2.next if l2 else None\n",
    "    return dummy.next\n",
    "\n",
    "# Example usage:\n",
    "l1 = ListNode(2, ListNode(4, ListNode(3)))\n",
    "l2 = ListNode(5, ListNode(6, ListNode(4)))\n",
    "sum_head = add_two_numbers(l1, l2)\n",
    "while sum_head:\n",
    "    print(sum_head.val, end=\" -> \" if sum_head.next else \"\")\n",
    "    sum_head = sum_head.next\n"
   ]
  },
  {
   "cell_type": "code",
   "execution_count": 10,
   "id": "af2e42f0",
   "metadata": {},
   "outputs": [
    {
     "name": "stdout",
     "output_type": "stream",
     "text": [
      "2 -> 1 -> 4 -> 3"
     ]
    }
   ],
   "source": [
    "'''Problem 7: Swap nodes in pairs in a linked list.'''\n",
    "def swap_pairs(head):\n",
    "    dummy = ListNode(0)\n",
    "    dummy.next = head\n",
    "    prev, current = dummy, head\n",
    "    while current and current.next:\n",
    "        next_pair = current.next.next\n",
    "        second = current.next\n",
    "        second.next = current\n",
    "        current.next = next_pair\n",
    "        prev.next = second\n",
    "        prev = current\n",
    "        current = next_pair\n",
    "    return dummy.next\n",
    "\n",
    "# Example usage:\n",
    "head = ListNode(1, ListNode(2, ListNode(3, ListNode(4))))\n",
    "new_head = swap_pairs(head)\n",
    "while new_head:\n",
    "    print(new_head.val, end=\" -> \" if new_head.next else \"\")\n",
    "    new_head = new_head.next\n"
   ]
  },
  {
   "cell_type": "code",
   "execution_count": 11,
   "id": "fa18d445",
   "metadata": {},
   "outputs": [
    {
     "name": "stdout",
     "output_type": "stream",
     "text": [
      "3 -> 2 -> 1 -> 4 -> 5"
     ]
    }
   ],
   "source": [
    "'''Problem 8: Reverse nodes in a linked list in groups of k.'''\n",
    "def reverse_k_group(head, k):\n",
    "    def reverse_linked_list(head, k):\n",
    "        prev, current = None, head\n",
    "        while k:\n",
    "            next_node = current.next\n",
    "            current.next = prev\n",
    "            prev = current\n",
    "            current = next_node\n",
    "            k -= 1\n",
    "        return prev\n",
    "\n",
    "    count = 0\n",
    "    current = head\n",
    "    while current and count != k:\n",
    "        current = current.next\n",
    "        count += 1\n",
    "    if count == k:\n",
    "        reversed_head = reverse_linked_list(head, k)\n",
    "        head.next = reverse_k_group(current, k)\n",
    "        return reversed_head\n",
    "    return head\n",
    "\n",
    "# Example usage:\n",
    "head = ListNode(1, ListNode(2, ListNode(3, ListNode(4, ListNode(5)))))\n",
    "new_head = reverse_k_group(head, 3)\n",
    "while new_head:\n",
    "    print(new_head.val, end=\" -> \" if new_head.next else \"\")\n",
    "    new_head = new_head.next\n"
   ]
  },
  {
   "cell_type": "code",
   "execution_count": 12,
   "id": "d91663fd",
   "metadata": {},
   "outputs": [
    {
     "name": "stdout",
     "output_type": "stream",
     "text": [
      "True\n"
     ]
    }
   ],
   "source": [
    "'''Problem 9: Determine if a linked list is a palindrome.'''\n",
    "def is_palindrome(head):\n",
    "    fast = slow = head\n",
    "    stack = []\n",
    "    while fast and fast.next:\n",
    "        stack.append(slow.val)\n",
    "        slow = slow.next\n",
    "        fast = fast.next.next\n",
    "    if fast:\n",
    "        slow = slow.next\n",
    "    while slow:\n",
    "        if stack.pop() != slow.val:\n",
    "            return False\n",
    "        slow = slow.next\n",
    "    return True\n",
    "\n",
    "# Example usage:\n",
    "head = ListNode(1, ListNode(2, ListNode(2, ListNode(1))))\n",
    "print(is_palindrome(head))  # Output: True\n"
   ]
  },
  {
   "cell_type": "code",
   "execution_count": null,
   "id": "72994da6",
   "metadata": {},
   "outputs": [],
   "source": []
  }
 ],
 "metadata": {
  "kernelspec": {
   "display_name": "Python 3 (ipykernel)",
   "language": "python",
   "name": "python3"
  },
  "language_info": {
   "codemirror_mode": {
    "name": "ipython",
    "version": 3
   },
   "file_extension": ".py",
   "mimetype": "text/x-python",
   "name": "python",
   "nbconvert_exporter": "python",
   "pygments_lexer": "ipython3",
   "version": "3.11.7"
  }
 },
 "nbformat": 4,
 "nbformat_minor": 5
}
