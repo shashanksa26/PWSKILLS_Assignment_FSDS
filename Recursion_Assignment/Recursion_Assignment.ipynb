{
 "cells": [
  {
   "cell_type": "code",
   "execution_count": 2,
   "id": "162424e7",
   "metadata": {},
   "outputs": [
    {
     "name": "stdout",
     "output_type": "stream",
     "text": [
      "Move disk 1 from A to C\n",
      "Move disk 2 from A to B\n",
      "Move disk 1 from C to B\n",
      "Move disk 3 from A to C\n",
      "Move disk 1 from B to A\n",
      "Move disk 2 from B to C\n",
      "Move disk 1 from A to C\n"
     ]
    }
   ],
   "source": [
    "'''Q.1 Can you explain the logic and working of the Tower of Hanoi algorithm by writing a Java program?\n",
    "How does the recursion work, and how are the movements of disks between rods accomplished?'''\n",
    "\n",
    "'''\n",
    "Logic and Working: The Tower of Hanoi is a classic problem that involves moving a set of disks from one rod (source) to another rod (destination) using a third rod (auxiliary). The goal is to move all the disks from the source to the destination, following these rules:\n",
    "\n",
    "Only one disk can be moved at a time.\n",
    "A disk can only be moved if it is the uppermost disk on a rod.\n",
    "No disk may be placed on top of a smaller disk.\n",
    "'''\n",
    "def tower_of_hanoi(n, source, auxiliary, destination):\n",
    "    if n == 1:\n",
    "        print(f\"Move disk 1 from {source} to {destination}\")\n",
    "        return\n",
    "    # Move n-1 disks from source to auxiliary, using destination as temporary storage\n",
    "    tower_of_hanoi(n - 1, source, destination, auxiliary)\n",
    "    # Move the nth disk from source to destination\n",
    "    print(f\"Move disk {n} from {source} to {destination}\")\n",
    "    # Move n-1 disks from auxiliary to destination, using source as temporary storage\n",
    "    tower_of_hanoi(n - 1, auxiliary, source, destination)\n",
    "\n",
    "# Test with 3 disks\n",
    "tower_of_hanoi(3, 'A', 'B', 'C')\n"
   ]
  },
  {
   "cell_type": "code",
   "execution_count": 3,
   "id": "5ac5ca3e",
   "metadata": {},
   "outputs": [
    {
     "name": "stdout",
     "output_type": "stream",
     "text": [
      "3\n",
      "5\n"
     ]
    }
   ],
   "source": [
    "'''Q.2 Given two strings word1 and word2, return the minimum number of operations required to convert word1\n",
    "to word2.\n",
    "'''\n",
    "def min_distance(word1, word2):\n",
    "    m, n = len(word1), len(word2)\n",
    "    # Create a DP table to store the minimum operations\n",
    "    dp = [[0] * (n + 1) for _ in range(m + 1)]\n",
    "    \n",
    "    # Fill the table\n",
    "    for i in range(m + 1):\n",
    "        for j in range(n + 1):\n",
    "            if i == 0:\n",
    "                dp[i][j] = j  # Insert all characters of word2\n",
    "            elif j == 0:\n",
    "                dp[i][j] = i  # Remove all characters of word1\n",
    "            elif word1[i - 1] == word2[j - 1]:\n",
    "                dp[i][j] = dp[i - 1][j - 1]\n",
    "            else:\n",
    "                dp[i][j] = 1 + min(dp[i - 1][j],    # Remove\n",
    "                                   dp[i][j - 1],    # Insert\n",
    "                                   dp[i - 1][j - 1])  # Replace\n",
    "    return dp[m][n]\n",
    "\n",
    "# Test cases\n",
    "print(min_distance(\"horse\", \"ros\"))        # Output: 3\n",
    "print(min_distance(\"intention\", \"execution\"))  # Output: 5\n"
   ]
  },
  {
   "cell_type": "code",
   "execution_count": 4,
   "id": "3d74415f",
   "metadata": {},
   "outputs": [
    {
     "name": "stdout",
     "output_type": "stream",
     "text": [
      "22\n"
     ]
    }
   ],
   "source": [
    "'''Q. 3 Print the max value of the array [ 13, 1, -3, 22, 5].\n",
    "'''\n",
    "arr = [13, 1, -3, 22, 5]\n",
    "max_value = max(arr)\n",
    "print(max_value)  # Output: 22\n"
   ]
  },
  {
   "cell_type": "code",
   "execution_count": 5,
   "id": "c0e3ad80",
   "metadata": {},
   "outputs": [
    {
     "name": "stdout",
     "output_type": "stream",
     "text": [
      "120\n"
     ]
    }
   ],
   "source": [
    "'''Q.4 Find the sum of the values of the array [92, 23, 15, -20, 10].\n",
    "'''\n",
    "arr = [92, 23, 15, -20, 10]\n",
    "sum_value = sum(arr)\n",
    "print(sum_value)  # Output: 120\n"
   ]
  },
  {
   "cell_type": "code",
   "execution_count": 6,
   "id": "3c4212dd",
   "metadata": {},
   "outputs": [
    {
     "name": "stdout",
     "output_type": "stream",
     "text": [
      "True\n",
      "False\n"
     ]
    }
   ],
   "source": [
    "'''Q.5 Given a number n. Print if it is an armstrong number or not.An armstrong number is a number if the sum\n",
    "of every digit in that number raised to the power of total digits in that number is equal to the number'''\n",
    "def is_armstrong(n):\n",
    "    num_str = str(n)\n",
    "    power = len(num_str)\n",
    "    sum_of_digits = sum(int(digit) ** power for digit in num_str)\n",
    "    return sum_of_digits == n\n",
    "\n",
    "# Test cases\n",
    "print(is_armstrong(153))  # Output: Yes\n",
    "print(is_armstrong(134))  # Output: No\n"
   ]
  },
  {
   "cell_type": "code",
   "execution_count": null,
   "id": "dfc27ac1",
   "metadata": {},
   "outputs": [],
   "source": []
  }
 ],
 "metadata": {
  "kernelspec": {
   "display_name": "Python 3 (ipykernel)",
   "language": "python",
   "name": "python3"
  },
  "language_info": {
   "codemirror_mode": {
    "name": "ipython",
    "version": 3
   },
   "file_extension": ".py",
   "mimetype": "text/x-python",
   "name": "python",
   "nbconvert_exporter": "python",
   "pygments_lexer": "ipython3",
   "version": "3.11.7"
  }
 },
 "nbformat": 4,
 "nbformat_minor": 5
}
