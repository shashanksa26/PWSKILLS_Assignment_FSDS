{
 "cells": [
  {
   "cell_type": "code",
   "execution_count": 1,
   "metadata": {},
   "outputs": [
    {
     "data": {
      "text/plain": [
       "'# 1. Find the value of T(2) for the recurrence relation T(n) = 3T(n-1) + 12n, given that T(0)=5.\\n\\nTo find the value of T(2) for the given recurrence relation \\nT(n)    =3T(n-1)+12n\\nwith the initial condition T(0)=5, we can recursively apply the relation:\\n\\nT(1)    =3T(0)+12⋅1\\n        =3⋅5+12\\n        =15+12\\n        =27\\nNow, we can find T(2):\\nT(2)    =3T(1)+12⋅2\\n        =3⋅27+24\\n        =81+24\\n        =105\\nTherefore,T(2)=105.\\n'"
      ]
     },
     "execution_count": 1,
     "metadata": {},
     "output_type": "execute_result"
    }
   ],
   "source": [
    "'''# 1. Find the value of T(2) for the recurrence relation T(n) = 3T(n-1) + 12n, given that T(0)=5.\n",
    "\n",
    "To find the value of T(2) for the given recurrence relation \n",
    "T(n)    =3T(n-1)+12n\n",
    "with the initial condition T(0)=5, we can recursively apply the relation:\n",
    "\n",
    "T(1)    =3T(0)+12⋅1\n",
    "        =3⋅5+12\n",
    "        =15+12\n",
    "        =27\n",
    "Now, we can find T(2):\n",
    "T(2)    =3T(1)+12⋅2\n",
    "        =3⋅27+24\n",
    "        =81+24\n",
    "        =105\n",
    "Therefore,T(2)=105.\n",
    "'''"
   ]
  },
  {
   "cell_type": "code",
   "execution_count": 2,
   "metadata": {},
   "outputs": [
    {
     "data": {
      "text/plain": [
       "\"\\nthe recurrence relation T(n) = T(n-1) + c using the substitution method:\\n1.\\tInitial Equation: T(n)=T(n−1)+c\\n2.\\tGuess a Solution: Let's guess that T(n) is a linear function of n: T(n)=an+b, where a and b are constants.\\n3.\\tSubstitute and Simplify: Substitute T(n) into the original recurrence relation: an+b=a(n−1)+b+c\\nSimplify the equation: an+b=an−a+b+c\\nCombine like terms: a=c\\nNow, we know a=c.\\n4.\\tFinal Solution: Substitute a back into the guessed solution T(n)=an+b: T(n)=cn+b\\nSo, the solution to the recurrence relation T(n)=T(n−1)+c is T(n)=cn+b, where c is a constant.\\n\""
      ]
     },
     "execution_count": 2,
     "metadata": {},
     "output_type": "execute_result"
    }
   ],
   "source": [
    "# 2. Given a recurrence relation, solve it using the substitution method:\n",
    "# a. T(n) = T(n-1) + c\n",
    "'''\n",
    "the recurrence relation T(n) = T(n-1) + c using the substitution method:\n",
    "1.\tInitial Equation: T(n)=T(n−1)+c\n",
    "2.\tGuess a Solution: Let's guess that T(n) is a linear function of n: T(n)=an+b, where a and b are constants.\n",
    "3.\tSubstitute and Simplify: Substitute T(n) into the original recurrence relation: an+b=a(n−1)+b+c\n",
    "Simplify the equation: an+b=an−a+b+c\n",
    "Combine like terms: a=c\n",
    "Now, we know a=c.\n",
    "4.\tFinal Solution: Substitute a back into the guessed solution T(n)=an+b: T(n)=cn+b\n",
    "So, the solution to the recurrence relation T(n)=T(n−1)+c is T(n)=cn+b, where c is a constant.\n",
    "'''"
   ]
  },
  {
   "cell_type": "code",
   "execution_count": 3,
   "metadata": {},
   "outputs": [
    {
     "data": {
      "text/plain": [
       "'\\n1.\\t\\nInitial Equation(n)=2T(2n) +n\\n2.\\tGuess a Solution: Let’s guess that T(n) is O(nlogn). So t(n)=an logn + bn, where a and b are constants.\\n3.\\tSubstitute and Simplify : SubstituteT(n)intotheoriginalrecurrencerelation:anlogn+bn=2a(2n)log(2n)+n\\nSimplify the equation: an logn + bn = an logn − an+n\\nCombine like terms: bn =−an + n\\nDivide through by n(assuming n=0):b=−a+1\\nNow, we know b=−a+1.\\n4.\\tFinal Solution :Substitute b back into the guessed solution T(n)=an logn + bn: T(n)=an logn + (1−a)n\\nSo, the solution to the recurrence relation T(n)=2T(2n)+n is T(n)=anlogn+(1−a)n, where a is a constant.\\n\\n'"
      ]
     },
     "execution_count": 3,
     "metadata": {},
     "output_type": "execute_result"
    }
   ],
   "source": [
    "# Given a recurrence relation, solve it using the substitution method:\n",
    "# b. T(n) = 2T(n/2) + n\n",
    "\n",
    "'''\n",
    "1.\t\n",
    "Initial Equation(n)=2T(2n) +n\n",
    "2.\tGuess a Solution: Let’s guess that T(n) is O(nlogn). So t(n)=an logn + bn, where a and b are constants.\n",
    "3.\tSubstitute and Simplify : SubstituteT(n)intotheoriginalrecurrencerelation:anlogn+bn=2a(2n)log(2n)+n\n",
    "Simplify the equation: an logn + bn = an logn − an+n\n",
    "Combine like terms: bn =−an + n\n",
    "Divide through by n(assuming n=0):b=−a+1\n",
    "Now, we know b=−a+1.\n",
    "4.\tFinal Solution :Substitute b back into the guessed solution T(n)=an logn + bn: T(n)=an logn + (1−a)n\n",
    "So, the solution to the recurrence relation T(n)=2T(2n)+n is T(n)=anlogn+(1−a)n, where a is a constant.\n",
    "\n",
    "'''"
   ]
  },
  {
   "cell_type": "code",
   "execution_count": 4,
   "metadata": {},
   "outputs": [
    {
     "data": {
      "text/plain": [
       "\"the recurrence relation T(n) = 2T(2n)+c using the substitution method:\\n1.\\tInitial Equation: T(n) = 2T(2n)+c\\n2.\\tGuess a Solution: Let's guess that T(n) is O(nlogn). So, T(n) = anlogn + bn, where a and b are constants.\\n3.\\tSubstitute and Simplify: Substitute T(n) into the original recurrence relation: an logn + bn = 2a(2n) log(2n)+c\\nSimplify the equation: an logn + bn  =  an logn+c\\nCombine like terms: bn = c\\nNow, we know b = nc.\\n4.\\tFinal Solution: Substitute b back into the guessed solution T(n) = an logn + bn: \\n5.\\tT(n) = an logn + ncn\\nSimplify further: T(n) = an logn + c\\nSo, the solution to the recurrence relation T(n) = 2T(2n)+c is T(n) = an logn + c, where a is a constant.\\n\\n\""
      ]
     },
     "execution_count": 4,
     "metadata": {},
     "output_type": "execute_result"
    }
   ],
   "source": [
    "# 2. Given a recurrence relation, solve it %sing the substitution method:\n",
    "# c. T(n) = 2T(n/2) + c\n",
    "'''the recurrence relation T(n) = 2T(2n)+c using the substitution method:\n",
    "1.\tInitial Equation: T(n) = 2T(2n)+c\n",
    "2.\tGuess a Solution: Let's guess that T(n) is O(nlogn). So, T(n) = anlogn + bn, where a and b are constants.\n",
    "3.\tSubstitute and Simplify: Substitute T(n) into the original recurrence relation: an logn + bn = 2a(2n) log(2n)+c\n",
    "Simplify the equation: an logn + bn  =  an logn+c\n",
    "Combine like terms: bn = c\n",
    "Now, we know b = nc.\n",
    "4.\tFinal Solution: Substitute b back into the guessed solution T(n) = an logn + bn: \n",
    "5.\tT(n) = an logn + ncn\n",
    "Simplify further: T(n) = an logn + c\n",
    "So, the solution to the recurrence relation T(n) = 2T(2n)+c is T(n) = an logn + c, where a is a constant.\n",
    "\n",
    "'''"
   ]
  },
  {
   "cell_type": "code",
   "execution_count": 5,
   "metadata": {},
   "outputs": [
    {
     "data": {
      "text/plain": [
       "\"the recurrence relation  T(n) = T(2n)+c using the substitution method:\\n1.\\tInitial Equation:  T(n) = T(2n)+c\\n2.\\tGuess a Solution: Let's guess that  O(logn). So,  T(n) = alogn+b, where  a and  b are constants.\\n3.\\tSubstitute and Simplify: Substitute  into the original recurrence relation: alogn+b = alog(2n)+b+c\\nSimplify the equation: alogn+b = a(logn−1)+b+c\\nCombine like terms: alogn+b = alogn−a+b+c\\nCancel b from both sides: alogn = alogn−a+c\\nSolve for a = c\\nNow, we know a = c.\\n4.\\tFinal Solution: Substitute a back into the guessed solution T(n) = alogn+b: T(n) = clogn+b\\nSo, the solution to the recurrence relation T(n) = T(2n)+c is T(n) = clogn+b, where c and b are constants.\\n\\n\""
      ]
     },
     "execution_count": 5,
     "metadata": {},
     "output_type": "execute_result"
    }
   ],
   "source": [
    "# 2. Given a recurrence relation, solve it %sing the substitution method:\n",
    "# d. T(n) = T(n/2) + c\n",
    "\n",
    "'''the recurrence relation  T(n) = T(2n)+c using the substitution method:\n",
    "1.\tInitial Equation:  T(n) = T(2n)+c\n",
    "2.\tGuess a Solution: Let's guess that  O(logn). So,  T(n) = alogn+b, where  a and  b are constants.\n",
    "3.\tSubstitute and Simplify: Substitute  into the original recurrence relation: alogn+b = alog(2n)+b+c\n",
    "Simplify the equation: alogn+b = a(logn−1)+b+c\n",
    "Combine like terms: alogn+b = alogn−a+b+c\n",
    "Cancel b from both sides: alogn = alogn−a+c\n",
    "Solve for a = c\n",
    "Now, we know a = c.\n",
    "4.\tFinal Solution: Substitute a back into the guessed solution T(n) = alogn+b: T(n) = clogn+b\n",
    "So, the solution to the recurrence relation T(n) = T(2n)+c is T(n) = clogn+b, where c and b are constants.\n",
    "\n",
    "'''"
   ]
  },
  {
   "cell_type": "code",
   "execution_count": 6,
   "metadata": {},
   "outputs": [
    {
     "data": {
      "text/plain": [
       "\"To solve the recurrence relation T(n) = 2T(n-1) + 1 using the recursive tree approach, we can build a tree to represent the recursive calls until we reach the base case. Let's break it down step by step:\\n1.\\tWrite down the recurrence relation: T(n)=2T(n−1)+1T(n)=2T(n−1)+1\\n2.\\tBuild the recursive tree: Start with the initial value of nn and apply the recurrence relation recursively until you reach the base case.\\nT(n)T(n) /\\nT(n−1)T(n−1) T(n−1)T(n−1) / \\\\ /\\nT(n−2)T(n−2) T(n−2)T(n−2) T(n−2)T(n−2) T(n−2)T(n−2) ... and so on.\\nThe tree will continue until we reach T(1)T(1) or another base case.\\n3.\\tWrite down the contributions at each level: The contribution at each level is the constant term added at that level. In this case, it's always 1.\\n4.\\tCount the number of levels: Count the number of levels in the tree until you reach the base case.\\n5.\\tSum up the contributions: Sum up the contributions at each level, and multiply by the number of nodes at that level.\\nLet's calculate the first few levels:\\n•\\tLevel 0: 1 contribution (1 node) = 20⋅120⋅1\\n•\\tLevel 1: 2 contributions (2 nodes) = 21⋅121⋅1\\n•\\tLevel 2: 4 contributions (4 nodes) = 22⋅122⋅1\\n•\\t...\\nThe total sum is a geometric series:\\nT(n)=1⋅20+1⋅21+1⋅22+…+1⋅2n−1T(n)=1⋅20+1⋅21+1⋅22+…+1⋅2n−1\\nUsing the formula for the sum of a geometric series, the solution is:\\nT(n)=2n−1T(n)=2n−1\\n\\n\""
      ]
     },
     "execution_count": 6,
     "metadata": {},
     "output_type": "execute_result"
    }
   ],
   "source": [
    "# 3. Given a recurrence relation, solve it using the recursive tree approach:\n",
    "# a. T(n) = 2T(n-1) +1\n",
    "\n",
    "\n",
    "\n",
    "'''To solve the recurrence relation T(n) = 2T(n-1) + 1 using the recursive tree approach, we can build a tree to represent the recursive calls until we reach the base case. Let's break it down step by step:\n",
    "1.\tWrite down the recurrence relation: T(n)=2T(n−1)+1T(n)=2T(n−1)+1\n",
    "2.\tBuild the recursive tree: Start with the initial value of nn and apply the recurrence relation recursively until you reach the base case.\n",
    "T(n)T(n) /\n",
    "T(n−1)T(n−1) T(n−1)T(n−1) / \\ /\n",
    "T(n−2)T(n−2) T(n−2)T(n−2) T(n−2)T(n−2) T(n−2)T(n−2) ... and so on.\n",
    "The tree will continue until we reach T(1)T(1) or another base case.\n",
    "3.\tWrite down the contributions at each level: The contribution at each level is the constant term added at that level. In this case, it's always 1.\n",
    "4.\tCount the number of levels: Count the number of levels in the tree until you reach the base case.\n",
    "5.\tSum up the contributions: Sum up the contributions at each level, and multiply by the number of nodes at that level.\n",
    "Let's calculate the first few levels:\n",
    "•\tLevel 0: 1 contribution (1 node) = 20⋅120⋅1\n",
    "•\tLevel 1: 2 contributions (2 nodes) = 21⋅121⋅1\n",
    "•\tLevel 2: 4 contributions (4 nodes) = 22⋅122⋅1\n",
    "•\t...\n",
    "The total sum is a geometric series:\n",
    "T(n)=1⋅20+1⋅21+1⋅22+…+1⋅2n−1T(n)=1⋅20+1⋅21+1⋅22+…+1⋅2n−1\n",
    "Using the formula for the sum of a geometric series, the solution is:\n",
    "T(n)=2n−1T(n)=2n−1\n",
    "\n",
    "'''\n"
   ]
  },
  {
   "cell_type": "code",
   "execution_count": 7,
   "metadata": {},
   "outputs": [
    {
     "data": {
      "text/plain": [
       "\"To solve the recurrence relation T(n)=2T(n/2)+nT(n)=2T(n/2)+n using the recursive tree approach, let's build the recursive tree step by step:\\n1.\\tWrite down the recurrence relation: T(n)=2T(n2)+nT(n)=2T(2n)+n\\n2.\\tBuild the recursive tree: Start with the initial value of nn and apply the recurrence relation recursively until you reach the base case.\\nT(n)T(n) /\\nT(n2)T(2n) ⋯⋯ T(n2)T(2n) / \\\\ / \\\\ /\\nT(n4)T(4n) ⋯⋯ T(n4)T(4n) T(n4)T(4n) T(n4)T(4n) ⋯⋯\\nContinue building the tree until you reach the base case.\\n3.\\tWrite down the contributions at each level: The contribution at each level is the value of nn at that level.\\n4.\\tCount the number of levels: Count the number of levels in the tree until you reach the base case.\\n5.\\tSum up the contributions: Sum up the contributions at each level.\\nLet's calculate the first few levels:\\n•\\tLevel 0: nn contributions (11 node) = n⋅20n⋅20\\n•\\tLevel 1: n22n contributions (22 nodes) = n2⋅212n⋅21\\n•\\tLevel 2: n44n contributions (44 nodes) = n4⋅224n⋅22\\n•\\t...\\nThe total sum is given by the arithmetic series:\\nT(n)=n⋅20+n2⋅21+n4⋅22+…T(n)=n⋅20+2n⋅21+4n⋅22+…\\nNow, let's express it more generally. The sum of this series is:\\nT(n)=∑i=0log\\u20612n(n2i⋅2i)T(n)=∑i=0log2n(2in⋅2i)\\nSimplify this to get the final solution. The solution for this recurrence relation is T(n)=nlog\\u20612nT(n)=nlog2n.\\n\\n\\n\""
      ]
     },
     "execution_count": 7,
     "metadata": {},
     "output_type": "execute_result"
    }
   ],
   "source": [
    "# b. T(n) = 2T(n/2) + n\n",
    "\n",
    "'''To solve the recurrence relation T(n)=2T(n/2)+nT(n)=2T(n/2)+n using the recursive tree approach, let's build the recursive tree step by step:\n",
    "1.\tWrite down the recurrence relation: T(n)=2T(n2)+nT(n)=2T(2n)+n\n",
    "2.\tBuild the recursive tree: Start with the initial value of nn and apply the recurrence relation recursively until you reach the base case.\n",
    "T(n)T(n) /\n",
    "T(n2)T(2n) ⋯⋯ T(n2)T(2n) / \\ / \\ /\n",
    "T(n4)T(4n) ⋯⋯ T(n4)T(4n) T(n4)T(4n) T(n4)T(4n) ⋯⋯\n",
    "Continue building the tree until you reach the base case.\n",
    "3.\tWrite down the contributions at each level: The contribution at each level is the value of nn at that level.\n",
    "4.\tCount the number of levels: Count the number of levels in the tree until you reach the base case.\n",
    "5.\tSum up the contributions: Sum up the contributions at each level.\n",
    "Let's calculate the first few levels:\n",
    "•\tLevel 0: nn contributions (11 node) = n⋅20n⋅20\n",
    "•\tLevel 1: n22n contributions (22 nodes) = n2⋅212n⋅21\n",
    "•\tLevel 2: n44n contributions (44 nodes) = n4⋅224n⋅22\n",
    "•\t...\n",
    "The total sum is given by the arithmetic series:\n",
    "T(n)=n⋅20+n2⋅21+n4⋅22+…T(n)=n⋅20+2n⋅21+4n⋅22+…\n",
    "Now, let's express it more generally. The sum of this series is:\n",
    "T(n)=∑i=0log⁡2n(n2i⋅2i)T(n)=∑i=0log2n(2in⋅2i)\n",
    "Simplify this to get the final solution. The solution for this recurrence relation is T(n)=nlog⁡2nT(n)=nlog2n.\n",
    "\n",
    "\n",
    "'''"
   ]
  }
 ],
 "metadata": {
  "kernelspec": {
   "display_name": "Python 3 (ipykernel)",
   "language": "python",
   "name": "python3"
  },
  "language_info": {
   "codemirror_mode": {
    "name": "ipython",
    "version": 3
   },
   "file_extension": ".py",
   "mimetype": "text/x-python",
   "name": "python",
   "nbconvert_exporter": "python",
   "pygments_lexer": "ipython3",
   "version": "3.11.7"
  }
 },
 "nbformat": 4,
 "nbformat_minor": 2
}
