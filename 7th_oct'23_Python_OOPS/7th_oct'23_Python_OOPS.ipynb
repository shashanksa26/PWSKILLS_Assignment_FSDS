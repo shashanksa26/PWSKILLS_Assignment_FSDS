{
 "cells": [
  {
   "cell_type": "code",
   "execution_count": 1,
   "id": "2b9d841a",
   "metadata": {},
   "outputs": [
    {
     "name": "stdout",
     "output_type": "stream",
     "text": [
      "Deposited 500. New balance is 500.\n",
      "Withdrew 200. New balance is 300.\n"
     ]
    }
   ],
   "source": [
    "'''Problem 1: Bank Account Create a class representing a bank account with attributes like account number, account holder name, and balance. Implement methods to deposit and withdraw money from the account.'''\n",
    "class BankAccount:\n",
    "    def __init__(self, account_number, holder_name, balance=0):\n",
    "        self.account_number = account_number\n",
    "        self.holder_name = holder_name\n",
    "        self.balance = balance\n",
    "\n",
    "    def deposit(self, amount):\n",
    "        if amount > 0:\n",
    "            self.balance += amount\n",
    "            print(f\"Deposited {amount}. New balance is {self.balance}.\")\n",
    "        else:\n",
    "            print(\"Deposit amount must be positive.\")\n",
    "\n",
    "    def withdraw(self, amount):\n",
    "        if amount > 0:\n",
    "            if amount <= self.balance:\n",
    "                self.balance -= amount\n",
    "                print(f\"Withdrew {amount}. New balance is {self.balance}.\")\n",
    "            else:\n",
    "                print(\"Insufficient funds.\")\n",
    "        else:\n",
    "            print(\"Withdrawal amount must be positive.\")\n",
    "\n",
    "# Example usage\n",
    "account = BankAccount(123456, \"John Doe\")\n",
    "account.deposit(500)\n",
    "account.withdraw(200)\n"
   ]
  },
  {
   "cell_type": "code",
   "execution_count": 2,
   "id": "fa653179",
   "metadata": {},
   "outputs": [
    {
     "name": "stdout",
     "output_type": "stream",
     "text": [
      "Employee ID: 1\n",
      "Name: Alice\n",
      "Salary: 60000\n",
      "Yearly Bonus: 6000.0\n"
     ]
    }
   ],
   "source": [
    "'''Problem 2: Employee Management Create a class representing an employee with attributes like employee ID, name, and salary. Implement methods to calculate the yearly bonus and display employee details.'''\n",
    "class Employee:\n",
    "    def __init__(self, employee_id, name, salary):\n",
    "        self.employee_id = employee_id\n",
    "        self.name = name\n",
    "        self.salary = salary\n",
    "\n",
    "    def calculate_bonus(self):\n",
    "        return self.salary * 0.10  # 10% bonus\n",
    "\n",
    "    def display_details(self):\n",
    "        print(f\"Employee ID: {self.employee_id}\")\n",
    "        print(f\"Name: {self.name}\")\n",
    "        print(f\"Salary: {self.salary}\")\n",
    "        print(f\"Yearly Bonus: {self.calculate_bonus()}\")\n",
    "\n",
    "# Example usage\n",
    "employee = Employee(1, \"Alice\", 60000)\n",
    "employee.display_details()\n"
   ]
  },
  {
   "cell_type": "code",
   "execution_count": 3,
   "id": "9bfd319b",
   "metadata": {},
   "outputs": [
    {
     "name": "stdout",
     "output_type": "stream",
     "text": [
      "Available vehicles:\n",
      "Car A\n",
      "Bike B\n",
      "Rented out Car A.\n",
      "Available vehicles:\n",
      "Bike B\n"
     ]
    }
   ],
   "source": [
    "'''Problem 3: Vehicle Rental Create a class representing a vehicle rental system. Implement methods to rent a vehicle, return a vehicle, and display available vehicles.'''\n",
    "class VehicleRental:\n",
    "    def __init__(self):\n",
    "        self.available_vehicles = []\n",
    "\n",
    "    def add_vehicle(self, vehicle):\n",
    "        self.available_vehicles.append(vehicle)\n",
    "\n",
    "    def rent_vehicle(self, vehicle):\n",
    "        if vehicle in self.available_vehicles:\n",
    "            self.available_vehicles.remove(vehicle)\n",
    "            print(f\"Rented out {vehicle}.\")\n",
    "        else:\n",
    "            print(\"Vehicle not available.\")\n",
    "\n",
    "    def return_vehicle(self, vehicle):\n",
    "        self.available_vehicles.append(vehicle)\n",
    "        print(f\"Returned {vehicle}.\")\n",
    "\n",
    "    def display_available_vehicles(self):\n",
    "        print(\"Available vehicles:\")\n",
    "        for vehicle in self.available_vehicles:\n",
    "            print(vehicle)\n",
    "\n",
    "# Example usage\n",
    "rental = VehicleRental()\n",
    "rental.add_vehicle(\"Car A\")\n",
    "rental.add_vehicle(\"Bike B\")\n",
    "rental.display_available_vehicles()\n",
    "rental.rent_vehicle(\"Car A\")\n",
    "rental.display_available_vehicles()\n"
   ]
  },
  {
   "cell_type": "code",
   "execution_count": 4,
   "id": "e921c184",
   "metadata": {},
   "outputs": [
    {
     "name": "stdout",
     "output_type": "stream",
     "text": [
      "Added book: 1984\n",
      "Added book: To Kill a Mockingbird\n",
      "Available books:\n",
      "1984 by George Orwell\n",
      "To Kill a Mockingbird by Harper Lee\n",
      "Borrowed book: 1984\n",
      "Available books:\n",
      "To Kill a Mockingbird by Harper Lee\n"
     ]
    }
   ],
   "source": [
    "'''Problem 4: Library Catalog Create classes representing a library and a book. Implement methods to add books to the library, borrow books, and display available books.'''\n",
    "class Book:\n",
    "    def __init__(self, title, author):\n",
    "        self.title = title\n",
    "        self.author = author\n",
    "\n",
    "class Library:\n",
    "    def __init__(self):\n",
    "        self.books = []\n",
    "        self.borrowed_books = []\n",
    "\n",
    "    def add_book(self, book):\n",
    "        self.books.append(book)\n",
    "        print(f\"Added book: {book.title}\")\n",
    "\n",
    "    def borrow_book(self, book_title):\n",
    "        for book in self.books:\n",
    "            if book.title == book_title:\n",
    "                self.books.remove(book)\n",
    "                self.borrowed_books.append(book)\n",
    "                print(f\"Borrowed book: {book_title}\")\n",
    "                return\n",
    "        print(f\"Book {book_title} not found.\")\n",
    "\n",
    "    def display_available_books(self):\n",
    "        print(\"Available books:\")\n",
    "        for book in self.books:\n",
    "            print(f\"{book.title} by {book.author}\")\n",
    "\n",
    "# Example usage\n",
    "library = Library()\n",
    "book1 = Book(\"1984\", \"George Orwell\")\n",
    "book2 = Book(\"To Kill a Mockingbird\", \"Harper Lee\")\n",
    "library.add_book(book1)\n",
    "library.add_book(book2)\n",
    "library.display_available_books()\n",
    "library.borrow_book(\"1984\")\n",
    "library.display_available_books()\n"
   ]
  },
  {
   "cell_type": "code",
   "execution_count": 6,
   "id": "ecc41c24",
   "metadata": {},
   "outputs": [
    {
     "name": "stdout",
     "output_type": "stream",
     "text": [
      "Added product: Laptop\n",
      "Added product: Phone\n",
      "Product inventory:\n",
      "Laptop: 10\n",
      "Phone: 20\n",
      "Updated quantity of Laptop to 5\n",
      "Product inventory:\n",
      "Laptop: 5\n",
      "Phone: 20\n"
     ]
    }
   ],
   "source": [
    "'''Problem 5: Product Inventory Create classes representing a product and an inventory system. Implement methods to add products to the inventory, update product quantity, and display available products.'''\n",
    "class Product:\n",
    "    def __init__(self, product_id, name, quantity):\n",
    "        self.product_id = product_id\n",
    "        self.name = name\n",
    "        self.quantity = quantity\n",
    "\n",
    "class Inventory:\n",
    "    def __init__(self):\n",
    "        self.products = {}\n",
    "\n",
    "    def add_product(self, product):\n",
    "        self.products[product.product_id] = product\n",
    "        print(f\"Added product: {product.name}\")\n",
    "\n",
    "    def update_quantity(self, product_id, quantity):\n",
    "        if product_id in self.products:\n",
    "            self.products[product_id].quantity = quantity\n",
    "            print(f\"Updated quantity of {self.products[product_id].name} to {quantity}\")\n",
    "        else:\n",
    "            print(\"Product not found.\")\n",
    "\n",
    "    def display_products(self):\n",
    "        print(\"Product inventory:\")\n",
    "        for product in self.products.values():\n",
    "            print(f\"{product.name}: {product.quantity}\")\n",
    "\n",
    "# Example usage\n",
    "inventory = Inventory()\n",
    "product1 = Product(1, \"Laptop\", 10)\n",
    "product2 = Product(2, \"Phone\", 20)\n",
    "inventory.add_product(product1)\n",
    "inventory.add_product(product2)\n",
    "inventory.display_products()\n",
    "inventory.update_quantity(1, 5)\n",
    "inventory.display_products()\n"
   ]
  },
  {
   "cell_type": "code",
   "execution_count": 7,
   "id": "01d72ed4",
   "metadata": {},
   "outputs": [
    {
     "name": "stdout",
     "output_type": "stream",
     "text": [
      "Area: 50\n",
      "Perimeter: 30\n"
     ]
    }
   ],
   "source": [
    "'''Problem 6: Shape Calculation Create a class representing a shape with attributes like length, width, and height. Implement methods to calculate the area and perimeter of the shape.'''\n",
    "class Shape:\n",
    "    def __init__(self, length, width):\n",
    "        self.length = length\n",
    "        self.width = width\n",
    "\n",
    "    def calculate_area(self):\n",
    "        return self.length * self.width\n",
    "\n",
    "    def calculate_perimeter(self):\n",
    "        return 2 * (self.length + self.width)\n",
    "\n",
    "# Example usage\n",
    "shape = Shape(5, 10)\n",
    "print(f\"Area: {shape.calculate_area()}\")\n",
    "print(f\"Perimeter: {shape.calculate_perimeter()}\")\n"
   ]
  },
  {
   "cell_type": "code",
   "execution_count": 8,
   "id": "7ab4887e",
   "metadata": {},
   "outputs": [
    {
     "name": "stdout",
     "output_type": "stream",
     "text": [
      "Student ID: 101\n",
      "Name: John Doe\n",
      "Grades: [90, 85, 88]\n",
      "Average Grade: 87.66666666666667\n"
     ]
    }
   ],
   "source": [
    "'''Problem 7: Student Management Create a class representing a student with attributes like student ID, name, and grades. Implement methods to calculate the average grade and display student details.\n",
    "'''\n",
    "class Student:\n",
    "    def __init__(self, student_id, name, grades):\n",
    "        self.student_id = student_id\n",
    "        self.name = name\n",
    "        self.grades = grades\n",
    "\n",
    "    def calculate_average_grade(self):\n",
    "        return sum(self.grades) / len(self.grades)\n",
    "\n",
    "    def display_details(self):\n",
    "        print(f\"Student ID: {self.student_id}\")\n",
    "        print(f\"Name: {self.name}\")\n",
    "        print(f\"Grades: {self.grades}\")\n",
    "        print(f\"Average Grade: {self.calculate_average_grade()}\")\n",
    "\n",
    "# Example usage\n",
    "student = Student(101, \"John Doe\", [90, 85, 88])\n",
    "student.display_details()\n"
   ]
  },
  {
   "cell_type": "code",
   "execution_count": 9,
   "id": "a71050f4",
   "metadata": {},
   "outputs": [
    {
     "name": "stdout",
     "output_type": "stream",
     "text": [
      "Sending email from alice@example.com to bob@example.com with subject 'Meeting Reminder'.\n",
      "Sender: alice@example.com\n",
      "Recipient: bob@example.com\n",
      "Subject: Meeting Reminder\n"
     ]
    }
   ],
   "source": [
    "'''Problem 8: Email Management Create a class representing an email with attributes like sender, recipient, and subject. Implement methods to send an email and display email details.'''\n",
    "class Email:\n",
    "    def __init__(self, sender, recipient, subject):\n",
    "        self.sender = sender\n",
    "        self.recipient = recipient\n",
    "        self.subject = subject\n",
    "\n",
    "    def send_email(self):\n",
    "        print(f\"Sending email from {self.sender} to {self.recipient} with subject '{self.subject}'.\")\n",
    "\n",
    "    def display_details(self):\n",
    "        print(f\"Sender: {self.sender}\")\n",
    "        print(f\"Recipient: {self.recipient}\")\n",
    "        print(f\"Subject: {self.subject}\")\n",
    "\n",
    "# Example usage\n",
    "email = Email(\"alice@example.com\", \"bob@example.com\", \"Meeting Reminder\")\n",
    "email.send_email()\n",
    "email.display_details()\n"
   ]
  },
  {
   "cell_type": "code",
   "execution_count": 10,
   "id": "feb444f3",
   "metadata": {},
   "outputs": [
    {
     "name": "stdout",
     "output_type": "stream",
     "text": [
      "Added post: Had a great day at the park!\n",
      "Added post: Loving the new book I started.\n",
      "Posts by user123:\n",
      "Had a great day at the park!\n",
      "Loving the new book I started.\n",
      "Searching for posts containing 'book':\n",
      "Loving the new book I started.\n"
     ]
    }
   ],
   "source": [
    "'''Problem 9: Social Media Profile Create a class representing a social media profile with attributes like username and posts. Implement methods to add posts, display posts, and search for posts by keyword.'''\n",
    "class SocialMediaProfile:\n",
    "    def __init__(self, username):\n",
    "        self.username = username\n",
    "        self.posts = []\n",
    "\n",
    "    def add_post(self, post):\n",
    "        self.posts.append(post)\n",
    "        print(f\"Added post: {post}\")\n",
    "\n",
    "    def display_posts(self):\n",
    "        print(f\"Posts by {self.username}:\")\n",
    "        for post in self.posts:\n",
    "            print(post)\n",
    "\n",
    "    def search_posts(self, keyword):\n",
    "        print(f\"Searching for posts containing '{keyword}':\")\n",
    "        for post in self.posts:\n",
    "            if keyword in post:\n",
    "                print(post)\n",
    "\n",
    "# Example usage\n",
    "profile = SocialMediaProfile(\"user123\")\n",
    "profile.add_post(\"Had a great day at the park!\")\n",
    "profile.add_post(\"Loving the new book I started.\")\n",
    "profile.display_posts()\n",
    "profile.search_posts(\"book\")\n"
   ]
  },
  {
   "cell_type": "code",
   "execution_count": 11,
   "id": "293e32fb",
   "metadata": {},
   "outputs": [
    {
     "name": "stdout",
     "output_type": "stream",
     "text": [
      "Added task: 'Buy groceries'\n",
      "Added task: 'Complete project report'\n",
      "Pending tasks:\n",
      "Task: Buy groceries, Due Date: 2024-09-15\n",
      "Task: Complete project report, Due Date: 2024-09-20\n",
      "Task 'Buy groceries' marked as completed.\n",
      "Pending tasks:\n",
      "Task: Complete project report, Due Date: 2024-09-20\n"
     ]
    }
   ],
   "source": [
    "'''Problem 10: ToDo List Create a class representing a ToDo list with attributes like tasks and due dates. Implement methods to add tasks, mark tasks as completed, and display pending tasks.'''\n",
    "class Task:\n",
    "    def __init__(self, task, due_date):\n",
    "        self.task = task\n",
    "        self.due_date = due_date\n",
    "        self.completed = False\n",
    "\n",
    "    def mark_as_completed(self):\n",
    "        self.completed = True\n",
    "        print(f\"Task '{self.task}' marked as completed.\")\n",
    "\n",
    "class ToDoList:\n",
    "    def __init__(self):\n",
    "        self.tasks = []\n",
    "\n",
    "    def add_task(self, task, due_date):\n",
    "        self.tasks.append(Task(task, due_date))\n",
    "        print(f\"Added task: '{task}'\")\n",
    "\n",
    "    def mark_task_completed(self, task_name):\n",
    "        for task in self.tasks:\n",
    "            if task.task == task_name:\n",
    "                task.mark_as_completed()\n",
    "                return\n",
    "        print(f\"Task '{task_name}' not found.\")\n",
    "\n",
    "    def display_pending_tasks(self):\n",
    "        print(\"Pending tasks:\")\n",
    "        for task in self.tasks:\n",
    "            if not task.completed:\n",
    "                print(f\"Task: {task.task}, Due Date: {task.due_date}\")\n",
    "\n",
    "# Example usage\n",
    "todo_list = ToDoList()\n",
    "todo_list.add_task(\"Buy groceries\", \"2024-09-15\")\n",
    "todo_list.add_task(\"Complete project report\", \"2024-09-20\")\n",
    "todo_list.display_pending_tasks()\n",
    "todo_list.mark_task_completed(\"Buy groceries\")\n",
    "todo_list.display_pending_tasks()\n"
   ]
  },
  {
   "cell_type": "code",
   "execution_count": null,
   "id": "b58f1807",
   "metadata": {},
   "outputs": [],
   "source": []
  }
 ],
 "metadata": {
  "kernelspec": {
   "display_name": "Python 3 (ipykernel)",
   "language": "python",
   "name": "python3"
  },
  "language_info": {
   "codemirror_mode": {
    "name": "ipython",
    "version": 3
   },
   "file_extension": ".py",
   "mimetype": "text/x-python",
   "name": "python",
   "nbconvert_exporter": "python",
   "pygments_lexer": "ipython3",
   "version": "3.11.7"
  }
 },
 "nbformat": 4,
 "nbformat_minor": 5
}
