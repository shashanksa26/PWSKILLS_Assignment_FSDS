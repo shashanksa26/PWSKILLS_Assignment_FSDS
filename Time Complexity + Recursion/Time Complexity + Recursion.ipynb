{
 "cells": [
  {
   "cell_type": "markdown",
   "id": "a05a17a3",
   "metadata": {},
   "source": [
    "# Find time complexity of below code blocks :"
   ]
  },
  {
   "cell_type": "code",
   "execution_count": 4,
   "id": "507e8ab5",
   "metadata": {},
   "outputs": [
    {
     "data": {
      "text/plain": [
       "'Time Complexity:\\nBest and Average Case: 𝑂(𝑛log\\u2061𝑛)\\nWorst Case: 𝑂(𝑛^2)'"
      ]
     },
     "execution_count": 4,
     "metadata": {},
     "output_type": "execute_result"
    }
   ],
   "source": [
    "#Problem 1 :\n",
    "def quicksort(arr):\n",
    "    if len(arr) <= 1:\n",
    "        return arr\n",
    "    pivot = arr[len(arr) // 2]\n",
    "    left = [x for x in arr if x < pivot]\n",
    "    middle = [x for x in arr if x == pivot]\n",
    "    right = [x for x in arr if x > pivot]\n",
    "    return quicksort(left) + middle + quicksort(right)\n",
    "'''Time Complexity:\n",
    "Best and Average Case: 𝑂(𝑛log⁡𝑛)\n",
    "Worst Case: 𝑂(𝑛^2)'''"
   ]
  },
  {
   "cell_type": "code",
   "execution_count": 2,
   "id": "a6e11b8c",
   "metadata": {},
   "outputs": [
    {
     "data": {
      "text/plain": [
       "'Time Complexity: O(n*m)'"
      ]
     },
     "execution_count": 2,
     "metadata": {},
     "output_type": "execute_result"
    }
   ],
   "source": [
    "#Problem 2 :\n",
    "def nested_loop_example(matrix):\n",
    "    rows, cols = len(matrix), len(matrix[0])\n",
    "    total = 0\n",
    "    for i in range(rows):\n",
    "        for j in range(cols):\n",
    "            total += matrix[i][j]\n",
    "    return total\n",
    "'''Time Complexity: O(n*m)'''"
   ]
  },
  {
   "cell_type": "code",
   "execution_count": 3,
   "id": "3d28ddee",
   "metadata": {},
   "outputs": [
    {
     "data": {
      "text/plain": [
       "'Time Complexity: O(n)'"
      ]
     },
     "execution_count": 3,
     "metadata": {},
     "output_type": "execute_result"
    }
   ],
   "source": [
    "#Problem 3 :\n",
    "def example_function(arr):\n",
    "    result = 0\n",
    "    for element in arr:\n",
    "        result += element\n",
    "    return result\n",
    "'''Time Complexity: O(n)'''"
   ]
  },
  {
   "cell_type": "code",
   "execution_count": 5,
   "id": "831dba39",
   "metadata": {},
   "outputs": [
    {
     "data": {
      "text/plain": [
       "'Time Complexity: O(n^2)'"
      ]
     },
     "execution_count": 5,
     "metadata": {},
     "output_type": "execute_result"
    }
   ],
   "source": [
    "#Problem 4 :\n",
    "def longest_increasing_subsequence(nums):\n",
    "    n = len(nums)\n",
    "    lis = [1] * n\n",
    "    for i in range(1, n):\n",
    "        for j in range(0, i):\n",
    "            if nums[i] > nums[j] and lis[i] < lis[j] + 1:\n",
    "                lis[i] = lis[j] + 1\n",
    "    return max(lis)\n",
    "'''Time Complexity: O(n^2)'''"
   ]
  },
  {
   "cell_type": "code",
   "execution_count": 6,
   "id": "b7fe7211",
   "metadata": {},
   "outputs": [
    {
     "data": {
      "text/plain": [
       "'Time Complexity: O(n^2)'"
      ]
     },
     "execution_count": 6,
     "metadata": {},
     "output_type": "execute_result"
    }
   ],
   "source": [
    "#Problem 5 :\n",
    "def mysterious_function(arr):\n",
    "    n = len(arr)\n",
    "    result = 0\n",
    "    for i in range(n):\n",
    "        for j in range(i, n):\n",
    "            result += arr[i] * arr[j]\n",
    "    return result\n",
    "'''Time Complexity: O(n^2)'''"
   ]
  },
  {
   "cell_type": "markdown",
   "id": "5c17b03e",
   "metadata": {},
   "source": [
    "# Solve the following problems on recursion"
   ]
  },
  {
   "cell_type": "code",
   "execution_count": 15,
   "id": "4c0d4563",
   "metadata": {},
   "outputs": [
    {
     "data": {
      "text/plain": [
       "6"
      ]
     },
     "execution_count": 15,
     "metadata": {},
     "output_type": "execute_result"
    }
   ],
   "source": [
    "'''Problem 6 : Sum of Digits\n",
    "Write a recursive function to calculate the sum of digits of a given positive integer.\n",
    "sum_of_digits(123) -> 6'''\n",
    "def sum_of_digits(n):\n",
    "    if n == 0:\n",
    "        return 0\n",
    "    return n % 10 + sum_of_digits(n // 10)\n",
    "sum_of_digits(123)"
   ]
  },
  {
   "cell_type": "code",
   "execution_count": 16,
   "id": "f675d6c2",
   "metadata": {},
   "outputs": [
    {
     "name": "stdout",
     "output_type": "stream",
     "text": [
      "[0, 1, 1, 2, 3, 5]\n"
     ]
    }
   ],
   "source": [
    "'''Problem 7: Fibonacci Series\n",
    "Write a recursive function to generate the first n numbers of the Fibonacci series.\n",
    "fibonacci_series(6) -> [0, 1, 1, 2, 3, 5]'''\n",
    "def fibonacci_series(n):\n",
    "    # Helper function to compute the nth Fibonacci number\n",
    "    def fib_helper(num):\n",
    "        if num == 0:\n",
    "            return 0\n",
    "        elif num == 1:\n",
    "            return 1\n",
    "        else:\n",
    "            return fib_helper(num - 1) + fib_helper(num - 2)\n",
    "\n",
    "    # Generate the series up to n numbers\n",
    "    return [fib_helper(i) for i in range(n)]\n",
    "\n",
    "# Testing with n = 6\n",
    "print(fibonacci_series(6))\n"
   ]
  },
  {
   "cell_type": "code",
   "execution_count": 10,
   "id": "a0cb882f",
   "metadata": {},
   "outputs": [
    {
     "data": {
      "text/plain": [
       "True"
      ]
     },
     "execution_count": 10,
     "metadata": {},
     "output_type": "execute_result"
    }
   ],
   "source": [
    "'''Problem 8 : Subset Sum\n",
    "Given a set of positive integers and a target sum, write a recursive function to determine if there exists a subset\n",
    "of the integers that adds up to the target sum.\n",
    "subset_sum([3, 34, 4, 12, 5, 2], 9) -> True'''\n",
    "def subset_sum(arr, target):\n",
    "    if target == 0:\n",
    "        return True\n",
    "    if not arr:\n",
    "        return False\n",
    "    if arr[0] <= target:\n",
    "        include = subset_sum(arr[1:], target - arr[0])\n",
    "        exclude = subset_sum(arr[1:], target)\n",
    "        return include or exclude\n",
    "    else:\n",
    "        return subset_sum(arr[1:], target)\n",
    "subset_sum([3,34,4,12,5,2],9)"
   ]
  },
  {
   "cell_type": "code",
   "execution_count": 12,
   "id": "31e98efd",
   "metadata": {},
   "outputs": [
    {
     "data": {
      "text/plain": [
       "True"
      ]
     },
     "execution_count": 12,
     "metadata": {},
     "output_type": "execute_result"
    }
   ],
   "source": [
    "'''Problem 9: Word Break\n",
    "Given a non-empty string and a dictionary of words, write a recursive function to determine if the string can be\n",
    "segmented into a space-separated sequence of dictionary words.\n",
    "word_break( leetcode , [ leet , code ]) -> True'''\n",
    "def word_break(s, word_dict):\n",
    "    if not s:\n",
    "        return True\n",
    "    for i in range(1, len(s) + 1):\n",
    "        if s[:i] in word_dict and word_break(s[i:], word_dict):\n",
    "            return True\n",
    "    return False\n",
    "word_break(\"leetcode\",[\"leet\",\"code\"])"
   ]
  },
  {
   "cell_type": "code",
   "execution_count": 14,
   "id": "01d9c351",
   "metadata": {},
   "outputs": [
    {
     "name": "stdout",
     "output_type": "stream",
     "text": [
      ".Q..\n",
      "...Q\n",
      "Q...\n",
      "..Q.\n",
      "\n",
      "..Q.\n",
      "Q...\n",
      "...Q\n",
      ".Q..\n",
      "\n"
     ]
    }
   ],
   "source": [
    "'''Problem 10 : N-Queens\n",
    "Implement a recursive function to solve the N Queens problem, where you have to place N queens on an N×N\n",
    "chessboard in such a way that no two queens threaten each other.\n",
    "n_queens(4)\n",
    "[\n",
    "[\".Q..\",\n",
    "\"...Q\",\n",
    "\"Q...\",\n",
    "\"..Q.\"],\n",
    "[\"..Q.\",\n",
    "\"Q...\",\n",
    "\"...Q\",\n",
    "\".Q..\"]\n",
    "]'''\n",
    "def n_queens(n):\n",
    "    board = [['.' for _ in range(n)] for _ in range(n)]\n",
    "    result = []\n",
    "    solve(board, 0, result)\n",
    "    return result\n",
    "\n",
    "def solve(board, row, result):\n",
    "    if row == len(board):\n",
    "        result.append([''.join(row) for row in board])\n",
    "        return\n",
    "    for col in range(len(board)):\n",
    "        if is_safe(board, row, col):\n",
    "            board[row][col] = 'Q'\n",
    "            solve(board, row + 1, result)\n",
    "            board[row][col] = '.'\n",
    "\n",
    "def is_safe(board, row, col):\n",
    "    # Check column and diagonals\n",
    "    for i in range(row):\n",
    "        if board[i][col] == 'Q' or (col - (row - i) >= 0 and board[i][col - (row - i)] == 'Q') or (col + (row - i) < len(board) and board[i][col + (row - i)] == 'Q'):\n",
    "            return False\n",
    "    return True\n",
    "solutions = n_queens(4)\n",
    "for solution in solutions:\n",
    "    for row in solution:\n",
    "        print(row)\n",
    "    print()"
   ]
  },
  {
   "cell_type": "code",
   "execution_count": null,
   "id": "ecc81a8f",
   "metadata": {},
   "outputs": [],
   "source": []
  }
 ],
 "metadata": {
  "kernelspec": {
   "display_name": "Python 3 (ipykernel)",
   "language": "python",
   "name": "python3"
  },
  "language_info": {
   "codemirror_mode": {
    "name": "ipython",
    "version": 3
   },
   "file_extension": ".py",
   "mimetype": "text/x-python",
   "name": "python",
   "nbconvert_exporter": "python",
   "pygments_lexer": "ipython3",
   "version": "3.11.7"
  }
 },
 "nbformat": 4,
 "nbformat_minor": 5
}
