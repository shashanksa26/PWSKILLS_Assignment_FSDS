{
 "cells": [
  {
   "cell_type": "markdown",
   "id": "f44f6421",
   "metadata": {},
   "source": [
    "# TOPIC: String Based Assignment Problem"
   ]
  },
  {
   "cell_type": "code",
   "execution_count": 6,
   "id": "199299fc",
   "metadata": {},
   "outputs": [
    {
     "name": "stdout",
     "output_type": "stream",
     "text": [
      "Enter a string: Hello world\n",
      "Reversed string is : dlrow olleH\n"
     ]
    }
   ],
   "source": [
    "'''1. Write a program to reverse a string.'''\n",
    "original_string = input(\"Enter a string: \")\n",
    "reversed_string = original_string[::-1]\n",
    "print(f\"Reversed string is : {reversed_string}\")"
   ]
  },
  {
   "cell_type": "code",
   "execution_count": 8,
   "id": "03456041",
   "metadata": {},
   "outputs": [
    {
     "name": "stdout",
     "output_type": "stream",
     "text": [
      "Enter a string: Loool\n",
      "The given string is palindrome\n"
     ]
    }
   ],
   "source": [
    "'''2. Check if a string is a palindrome.'''\n",
    "original_string = input(\"Enter a string: \").lower()\n",
    "if original_string == original_string[::-1]:\n",
    "    print(\"The given string is palindrome\")\n",
    "else:\n",
    "    print(\"The given string is not palindrome\")"
   ]
  },
  {
   "cell_type": "code",
   "execution_count": 12,
   "id": "1d8509c8",
   "metadata": {},
   "outputs": [
    {
     "name": "stdout",
     "output_type": "stream",
     "text": [
      "Enter a string: hello\n",
      "The String in uppercase :HELLO\n"
     ]
    }
   ],
   "source": [
    "'''3. Convert a string to uppercase.'''\n",
    "original_string = input(\"Enter a string: \")\n",
    "modified_string = original_string.upper()\n",
    "print(f\"The String in uppercase :{modified_string}\")"
   ]
  },
  {
   "cell_type": "code",
   "execution_count": 13,
   "id": "bb212a80",
   "metadata": {},
   "outputs": [
    {
     "name": "stdout",
     "output_type": "stream",
     "text": [
      "Enter a string: hELLO\n",
      "The String in lowercase :hello\n"
     ]
    }
   ],
   "source": [
    "'''4. Convert a string to lowercase.'''\n",
    "original_string = input(\"Enter a string: \")\n",
    "modified_string = original_string.lower()\n",
    "print(f\"The String in lowercase :{modified_string}\")"
   ]
  },
  {
   "cell_type": "code",
   "execution_count": 18,
   "id": "f084d471",
   "metadata": {},
   "outputs": [
    {
     "name": "stdout",
     "output_type": "stream",
     "text": [
      "Enter a sentence: Hellop world AeiOu\n",
      "The vowels count in the given sentence: 8\n"
     ]
    }
   ],
   "source": [
    "'''5. Count the number of vowels in a string.'''\n",
    "sentence = input(\"Enter a sentence: \").lower()\n",
    "vowels = 'aeiou'\n",
    "count = 0\n",
    "for char in sentence:\n",
    "    if char in vowels:\n",
    "        count +=1\n",
    "print(f\"The vowels count in the given sentence: {count}\")"
   ]
  },
  {
   "cell_type": "code",
   "execution_count": 1,
   "id": "d6517caf",
   "metadata": {},
   "outputs": [
    {
     "name": "stdout",
     "output_type": "stream",
     "text": [
      "Enter a sentence: hello world\n",
      "The consonants count in the given sentence: 7\n"
     ]
    }
   ],
   "source": [
    "'''6. Count the number of consonants in a string.'''\n",
    "sentence = input(\"Enter a sentence: \").lower()\n",
    "vowels = 'aeiou'\n",
    "count = 0\n",
    "for char in sentence:\n",
    "    if char not in vowels and char.isalpha():\n",
    "        count +=1\n",
    "print(f\"The consonants count in the given sentence: {count}\")"
   ]
  },
  {
   "cell_type": "code",
   "execution_count": 4,
   "id": "7680f04f",
   "metadata": {},
   "outputs": [
    {
     "name": "stdout",
     "output_type": "stream",
     "text": [
      "Enter a String: hello world of coders\n",
      "The string without whitespaces is: helloworldofcoders\n"
     ]
    }
   ],
   "source": [
    "'''7. Remove all whitespaces from a string.'''\n",
    "sentence = input(\"Enter a String: \")\n",
    "modified_string = sentence.replace(\" \",\"\")\n",
    "print(f\"The string without whitespaces is: {modified_string}\")"
   ]
  },
  {
   "cell_type": "code",
   "execution_count": 5,
   "id": "53a41933",
   "metadata": {},
   "outputs": [
    {
     "name": "stdout",
     "output_type": "stream",
     "text": [
      "Enter a string: hello world\n",
      "The length of the string is: 11\n"
     ]
    }
   ],
   "source": [
    "'''8. Find the length of a string without using the `len()` function.'''\n",
    "sentence = input(\"Enter a string: \")\n",
    "count = 0\n",
    "for char in sentence:\n",
    "    count +=1\n",
    "print(f\"The length of the string is: {count}\")"
   ]
  },
  {
   "cell_type": "code",
   "execution_count": 8,
   "id": "51774d92",
   "metadata": {
    "scrolled": true
   },
   "outputs": [
    {
     "name": "stdout",
     "output_type": "stream",
     "text": [
      "Enter a sentence: pwskills is the best\n",
      "Enter the word to search for: mentor\n",
      "The word 'mentor' is not present in the given sentence.\n"
     ]
    }
   ],
   "source": [
    "'''9. Check if a string contains a specific word.'''\n",
    "sentence = input(\"Enter a sentence: \").lower()  \n",
    "word = input(\"Enter the word to search for: \").lower() \n",
    "\n",
    "if word in sentence.split():  \n",
    "    print(f\"The word '{word}' is present in the given sentence.\")\n",
    "else:\n",
    "    print(f\"The word '{word}' is not present in the given sentence.\")"
   ]
  },
  {
   "cell_type": "code",
   "execution_count": 10,
   "id": "bc3c081e",
   "metadata": {},
   "outputs": [
    {
     "name": "stdout",
     "output_type": "stream",
     "text": [
      "Word before replacing: ineuron\n",
      "Word after replacing: PWSKILLS\n"
     ]
    }
   ],
   "source": [
    "'''10. Replace a word in a string with another word.'''\n",
    "word = \"ineuron\"\n",
    "another_word = \"PWSKILLS\"\n",
    "print(f\"Word before replacing: {word}\")\n",
    "print(f\"Word after replacing: {another_word}\")\n",
    "\n"
   ]
  },
  {
   "cell_type": "code",
   "execution_count": 14,
   "id": "ecbd2782",
   "metadata": {},
   "outputs": [
    {
     "name": "stdout",
     "output_type": "stream",
     "text": [
      "Enter a sentence: hello to the coding world keep doing coding\n",
      "Enter the word to count: coding\n",
      "The word 'coding' occurs 2 times in the given sentence.\n"
     ]
    }
   ],
   "source": [
    "'''11. Count the occurrences of a word in a string.'''\n",
    "sentence = input(\"Enter a sentence: \").lower() \n",
    "word = input(\"Enter the word to count: \").lower()  \n",
    "\n",
    "words = sentence.split()  # Split the sentence into individual words\n",
    "count = 0\n",
    "\n",
    "# Count the occurrences of the word in the list of words\n",
    "for w in words:\n",
    "    if w == word:\n",
    "        count += 1\n",
    "\n",
    "print(f\"The word '{word}' occurs {count} times in the given sentence.\")"
   ]
  },
  {
   "cell_type": "code",
   "execution_count": 21,
   "id": "4139e2a2",
   "metadata": {},
   "outputs": [
    {
     "name": "stdout",
     "output_type": "stream",
     "text": [
      "Enter a sentence: world world\n",
      "Enter the word to find: wor\n",
      "The word 'wor' is not found in the given sentence.\n"
     ]
    }
   ],
   "source": [
    "'''12. Find the first occurrence of a word in a string.'''\n",
    "sentence = input(\"Enter a sentence: \").lower()  # Convert the sentence to lowercase for case-insensitive matching\n",
    "word = input(\"Enter the word to find: \").lower()  # Convert the word to lowercase for case-insensitive matching\n",
    "\n",
    "words = sentence.split()  # Split the sentence into words\n",
    "\n",
    "try:\n",
    "    position = words.index(word)  # Find the first occurrence of the word\n",
    "    print(f\"The word '{word}' first occurs at word position {position} in the given sentence.\")\n",
    "except ValueError:\n",
    "    print(f\"The word '{word}' is not found in the given sentence.\")"
   ]
  },
  {
   "cell_type": "code",
   "execution_count": 23,
   "id": "8dd1341f",
   "metadata": {},
   "outputs": [
    {
     "name": "stdout",
     "output_type": "stream",
     "text": [
      "Enter a sentence: world is beautiful place you should do world tour\n",
      "Enter the word to find: world\n",
      "The word 'world' last occurs at word position 7 in the given sentence.\n"
     ]
    }
   ],
   "source": [
    "'''13. Find the last occurrence of a word in a string.'''\n",
    "sentence = input(\"Enter a sentence: \").lower()  # Convert the sentence to lowercase for case-insensitive matching\n",
    "word = input(\"Enter the word to find: \").lower()  # Convert the word to lowercase for case-insensitive matching\n",
    "\n",
    "words = sentence.split()  # Split the sentence into words\n",
    "\n",
    "try:\n",
    "    # Reversed search to find the last occurrence\n",
    "    position = len(words) - 1 - words[::-1].index(word)\n",
    "    print(f\"The word '{word}' last occurs at word position {position} in the given sentence.\")\n",
    "except ValueError:\n",
    "    print(f\"The word '{word}' is not found in the given sentence.\")\n"
   ]
  },
  {
   "cell_type": "code",
   "execution_count": 24,
   "id": "8831822a",
   "metadata": {},
   "outputs": [
    {
     "name": "stdout",
     "output_type": "stream",
     "text": [
      "Enter a sentence: hello welcome to the world of python\n",
      "The list of words: ['hello', 'welcome', 'to', 'the', 'world', 'of', 'python']\n"
     ]
    }
   ],
   "source": [
    "'''14. Split a string into a list of words.'''\n",
    "sentence = input(\"Enter a sentence: \")\n",
    "words = sentence.split()  # Splits the string into a list of words\n",
    "\n",
    "print(\"The list of words:\", words)\n"
   ]
  },
  {
   "cell_type": "code",
   "execution_count": 25,
   "id": "07b386a9",
   "metadata": {},
   "outputs": [
    {
     "name": "stdout",
     "output_type": "stream",
     "text": [
      "Enter words separated by commas: \"Hello,world,Python,is,awesome\"\n",
      "The joined string: \"Hello world Python is awesome\"\n"
     ]
    }
   ],
   "source": [
    "'''15. Join a list of words into a string.'''\n",
    "words = input(\"Enter words separated by commas: \").split(',')  # Splitting input into a list of words\n",
    "joined_string = ' '.join(words)  # Joins the list into a string with spaces\n",
    "\n",
    "print(\"The joined string:\", joined_string)"
   ]
  },
  {
   "cell_type": "code",
   "execution_count": 26,
   "id": "0cf89a9c",
   "metadata": {},
   "outputs": [
    {
     "name": "stdout",
     "output_type": "stream",
     "text": [
      "Enter a sentence: \"Hello world Python is awesome\"\n",
      "The converted string: \"Hello_world_Python_is_awesome\"\n"
     ]
    }
   ],
   "source": [
    "'''16. Convert a string where words are separated by spaces to one where words\n",
    "are separated by underscores.'''\n",
    "sentence = input(\"Enter a sentence: \")\n",
    "converted_string = sentence.replace(' ', '_')  # Replaces spaces with underscores\n",
    "\n",
    "print(\"The converted string:\", converted_string)\n"
   ]
  },
  {
   "cell_type": "code",
   "execution_count": 27,
   "id": "72fb89cd",
   "metadata": {},
   "outputs": [
    {
     "name": "stdout",
     "output_type": "stream",
     "text": [
      "Enter a sentence: Welcome to Python programming\n",
      "Enter the word or phrase to check: Welcome\n",
      "The sentence starts with 'Welcome'.\n"
     ]
    }
   ],
   "source": [
    "'''17. Check if a string starts with a specific word or phrase.'''\n",
    "sentence = input(\"Enter a sentence: \")\n",
    "word = input(\"Enter the word or phrase to check: \")\n",
    "\n",
    "# Check if the sentence starts with the specified word or phrase\n",
    "if sentence.startswith(word):\n",
    "    print(f\"The sentence starts with '{word}'.\")\n",
    "else:\n",
    "    print(f\"The sentence does not start with '{word}'.\")\n"
   ]
  },
  {
   "cell_type": "code",
   "execution_count": 28,
   "id": "89a81ea0",
   "metadata": {},
   "outputs": [
    {
     "name": "stdout",
     "output_type": "stream",
     "text": [
      "Enter a sentence: hello world coder\n",
      "Enter the word or phrase to check: coder\n",
      "The sentence ends with 'coder'.\n"
     ]
    }
   ],
   "source": [
    "'''18. Check if a string ends with a specific word or phrase.'''\n",
    "sentence = input(\"Enter a sentence: \")\n",
    "phrase = input(\"Enter the word or phrase to check: \")\n",
    "\n",
    "if sentence.endswith(phrase):\n",
    "    print(f\"The sentence ends with '{phrase}'.\")\n",
    "else:\n",
    "    print(f\"The sentence does not end with '{phrase}'.\")\n"
   ]
  },
  {
   "cell_type": "code",
   "execution_count": 29,
   "id": "dfb96a42",
   "metadata": {},
   "outputs": [
    {
     "name": "stdout",
     "output_type": "stream",
     "text": [
      "Enter a sentence: hello world\n",
      "Title case: Hello World\n"
     ]
    }
   ],
   "source": [
    "'''19. Convert a string to title case (e.g., \"hello world\" to \"Hello World\").'''\n",
    "sentence = input(\"Enter a sentence: \")\n",
    "title_case = sentence.title()  # Converts to title case\n",
    "\n",
    "print(\"Title case:\", title_case)\n"
   ]
  },
  {
   "cell_type": "code",
   "execution_count": 30,
   "id": "10676272",
   "metadata": {},
   "outputs": [
    {
     "name": "stdout",
     "output_type": "stream",
     "text": [
      "Enter a sentence: hello to the longest word\n",
      "The longest word is: longest\n"
     ]
    }
   ],
   "source": [
    "'''20. Find the longest word in a string.'''\n",
    "sentence = input(\"Enter a sentence: \")\n",
    "words = sentence.split()  # Split the sentence into words\n",
    "longest_word = max(words, key=len)  # Find the longest word\n",
    "\n",
    "print(\"The longest word is:\", longest_word)"
   ]
  },
  {
   "cell_type": "code",
   "execution_count": 31,
   "id": "5f05e544",
   "metadata": {},
   "outputs": [
    {
     "name": "stdout",
     "output_type": "stream",
     "text": [
      "Enter a sentence: shortest word in this sentence\n",
      "The shortest word is: in\n"
     ]
    }
   ],
   "source": [
    "'''21. Find the shortest word in a string.'''\n",
    "sentence = input(\"Enter a sentence: \")\n",
    "words = sentence.split()  # Split the sentence into words\n",
    "shortest_word = min(words, key=len)  # Find the shortest word\n",
    "\n",
    "print(\"The shortest word is:\", shortest_word)"
   ]
  },
  {
   "cell_type": "code",
   "execution_count": 32,
   "id": "02c41c6d",
   "metadata": {},
   "outputs": [
    {
     "name": "stdout",
     "output_type": "stream",
     "text": [
      "Enter a sentence: hello to the sentence\n",
      "Reversed sentence: sentence the to hello\n"
     ]
    }
   ],
   "source": [
    "'''22. Reverse the order of words in a string.'''\n",
    "sentence = input(\"Enter a sentence: \")\n",
    "words = sentence.split()  # Split the sentence into words\n",
    "reversed_sentence = ' '.join(reversed(words))  # Reverse the order of words and join them\n",
    "\n",
    "print(\"Reversed sentence:\", reversed_sentence)\n"
   ]
  },
  {
   "cell_type": "code",
   "execution_count": 37,
   "id": "e532c129",
   "metadata": {},
   "outputs": [
    {
     "name": "stdout",
     "output_type": "stream",
     "text": [
      "Enter a string: ABC123\n",
      "The string is alphanumeric.\n"
     ]
    }
   ],
   "source": [
    "'''23. Check if a string is alphanumeric.'''\n",
    "sentence = input(\"Enter a string: \")\n",
    "\n",
    "if sentence.isalnum():\n",
    "    print(\"The string is alphanumeric.\")\n",
    "else:\n",
    "    print(\"The string is not alphanumeric.\")"
   ]
  },
  {
   "cell_type": "code",
   "execution_count": 38,
   "id": "1cfb33eb",
   "metadata": {},
   "outputs": [
    {
     "name": "stdout",
     "output_type": "stream",
     "text": [
      "Enter a string: hello digits 9898\n",
      "Extracted digits: 9898\n"
     ]
    }
   ],
   "source": [
    "'''24. Extract all digits from a string.'''\n",
    "import re\n",
    "\n",
    "sentence = input(\"Enter a string: \")\n",
    "digits = ''.join(re.findall(r'\\d', sentence))  # Extract digits\n",
    "\n",
    "print(\"Extracted digits:\", digits)"
   ]
  },
  {
   "cell_type": "code",
   "execution_count": 39,
   "id": "7c256a44",
   "metadata": {},
   "outputs": [
    {
     "name": "stdout",
     "output_type": "stream",
     "text": [
      "Enter a string: hello world of numbers 23\n",
      "Extracted alphabets: helloworldofnumbers\n"
     ]
    }
   ],
   "source": [
    "'''25. Extract all alphabets from a string.'''\n",
    "import re\n",
    "\n",
    "sentence = input(\"Enter a string: \")\n",
    "alphabets = ''.join(re.findall(r'[a-zA-Z]', sentence))  # Extract alphabets\n",
    "\n",
    "print(\"Extracted alphabets:\", alphabets)"
   ]
  },
  {
   "cell_type": "code",
   "execution_count": 40,
   "id": "ecd59af6",
   "metadata": {},
   "outputs": [
    {
     "name": "stdout",
     "output_type": "stream",
     "text": [
      "Enter a string: Hello wORLD \n",
      "Number of uppercase letters: 5\n"
     ]
    }
   ],
   "source": [
    "'''26. Count the number of uppercase letters in a string.'''\n",
    "sentence = input(\"Enter a string: \")\n",
    "uppercase_count = sum(1 for char in sentence if char.isupper())  # Count uppercase letters\n",
    "\n",
    "print(\"Number of uppercase letters:\", uppercase_count)\n"
   ]
  },
  {
   "cell_type": "code",
   "execution_count": 41,
   "id": "2e8178bb",
   "metadata": {},
   "outputs": [
    {
     "name": "stdout",
     "output_type": "stream",
     "text": [
      "Enter a string: hello WORld\n",
      "Number of lowercase letters: 7\n"
     ]
    }
   ],
   "source": [
    "'''27. Count the number of lowercase letters in a string.'''\n",
    "sentence = input(\"Enter a string: \")\n",
    "lowercase_count = sum(1 for char in sentence if char.islower())  # Count lowercase letters\n",
    "\n",
    "print(\"Number of lowercase letters:\", lowercase_count)\n"
   ]
  },
  {
   "cell_type": "code",
   "execution_count": 42,
   "id": "04efe6b0",
   "metadata": {},
   "outputs": [
    {
     "name": "stdout",
     "output_type": "stream",
     "text": [
      "Enter a string: hello WORLD\n",
      "Swapped case string: HELLO world\n"
     ]
    }
   ],
   "source": [
    "'''28. Swap the case of each character in a string.'''\n",
    "sentence = input(\"Enter a string: \")\n",
    "swapped_case = sentence.swapcase()  # Swap the case of each character\n",
    "\n",
    "print(\"Swapped case string:\", swapped_case)"
   ]
  },
  {
   "cell_type": "code",
   "execution_count": 43,
   "id": "dc6a35ac",
   "metadata": {},
   "outputs": [
    {
     "name": "stdout",
     "output_type": "stream",
     "text": [
      "Enter a sentence: this word is going to be removed : the word is remove\n",
      "Enter the word to remove: remove\n",
      "Modified sentence: this word is going to be removed : the word is\n"
     ]
    }
   ],
   "source": [
    "'''29. Remove a specific word from a string.'''\n",
    "sentence = input(\"Enter a sentence: \")\n",
    "word_to_remove = input(\"Enter the word to remove: \")\n",
    "\n",
    "modified_sentence = ' '.join(word for word in sentence.split() if word != word_to_remove)  # Remove the word\n",
    "\n",
    "print(\"Modified sentence:\", modified_sentence)"
   ]
  },
  {
   "cell_type": "code",
   "execution_count": 44,
   "id": "e7006712",
   "metadata": {},
   "outputs": [
    {
     "name": "stdout",
     "output_type": "stream",
     "text": [
      "Enter an email address: pwskills@pwskills.com\n",
      "The email address is valid.\n"
     ]
    }
   ],
   "source": [
    "'''30. Check if a string is a valid email address.'''\n",
    "import re\n",
    "\n",
    "email = input(\"Enter an email address: \")\n",
    "pattern = r'^[a-zA-Z0-9._%+-]+@[a-zA-Z0-9.-]+\\.[a-zA-Z]{2,}$'\n",
    "\n",
    "if re.match(pattern, email):\n",
    "    print(\"The email address is valid.\")\n",
    "else:\n",
    "    print(\"The email address is not valid.\")\n"
   ]
  },
  {
   "cell_type": "code",
   "execution_count": 45,
   "id": "00b2e9be",
   "metadata": {},
   "outputs": [
    {
     "name": "stdout",
     "output_type": "stream",
     "text": [
      "Enter an email address: john.doe@example.com\n",
      "Username: john.doe\n"
     ]
    }
   ],
   "source": [
    "'''31. Extract the username from an email address string.'''\n",
    "email = input(\"Enter an email address: \")\n",
    "username = email.split('@')[0]  # Extract the username part before '@'\n",
    "\n",
    "print(\"Username:\", username)\n"
   ]
  },
  {
   "cell_type": "code",
   "execution_count": 46,
   "id": "4ef04d9b",
   "metadata": {},
   "outputs": [
    {
     "name": "stdout",
     "output_type": "stream",
     "text": [
      "Enter an email address: john.doe@example.com\n",
      "Domain name: example.com\n"
     ]
    }
   ],
   "source": [
    "'''32. Extract the domain name from an email address string.'''\n",
    "email = input(\"Enter an email address: \")\n",
    "domain = email.split('@')[1]  # Extract the domain part after '@'\n",
    "\n",
    "print(\"Domain name:\", domain)"
   ]
  },
  {
   "cell_type": "code",
   "execution_count": 48,
   "id": "df330c6c",
   "metadata": {},
   "outputs": [
    {
     "name": "stdout",
     "output_type": "stream",
     "text": [
      "Enter a sentence with multiple spaces: This is a string with multiple   spaces\n",
      "String with single spaces: This is a string with multiple spaces\n"
     ]
    }
   ],
   "source": [
    "'''33. Replace multiple spaces in a string with a single space.'''\n",
    "import re\n",
    "\n",
    "sentence = input(\"Enter a sentence with multiple spaces: \")\n",
    "single_space_string = re.sub(r'\\s+', ' ', sentence).strip()  # Replace multiple spaces with a single space\n",
    "\n",
    "print(\"String with single spaces:\", single_space_string)"
   ]
  },
  {
   "cell_type": "code",
   "execution_count": 49,
   "id": "17b4c438",
   "metadata": {},
   "outputs": [
    {
     "name": "stdout",
     "output_type": "stream",
     "text": [
      "Enter a URL: https://www.example.com\n",
      "The URL is valid.\n"
     ]
    }
   ],
   "source": [
    "'''34. Check if a string is a valid URL.'''\n",
    "import re\n",
    "\n",
    "url = input(\"Enter a URL: \")\n",
    "pattern = r'^https?:\\/\\/[^\\s/$.?#].[^\\s]*$'\n",
    "\n",
    "if re.match(pattern, url):\n",
    "    print(\"The URL is valid.\")\n",
    "else:\n",
    "    print(\"The URL is not valid.\")\n"
   ]
  },
  {
   "cell_type": "code",
   "execution_count": 50,
   "id": "07366527",
   "metadata": {},
   "outputs": [
    {
     "name": "stdout",
     "output_type": "stream",
     "text": [
      "Enter a URL: https://www.example.com\n",
      "Protocol: https\n"
     ]
    }
   ],
   "source": [
    "'''35. Extract the protocol (http or https) from a URL string.'''\n",
    "url = input(\"Enter a URL: \")\n",
    "protocol = url.split(':')[0]  # Extract the protocol part before '://'\n",
    "print(\"Protocol:\", protocol)"
   ]
  },
  {
   "cell_type": "code",
   "execution_count": 51,
   "id": "be991c96",
   "metadata": {},
   "outputs": [
    {
     "name": "stdout",
     "output_type": "stream",
     "text": [
      "Enter a string: hello world\n",
      "Character frequency: {'h': 1, 'e': 1, 'l': 3, 'o': 2, ' ': 1, 'w': 1, 'r': 1, 'd': 1}\n"
     ]
    }
   ],
   "source": [
    "'''36. Find the frequency of each character in a string.'''\n",
    "from collections import Counter\n",
    "\n",
    "sentence = input(\"Enter a string: \")\n",
    "frequency = Counter(sentence)  # Count the frequency of each character\n",
    "\n",
    "print(\"Character frequency:\", dict(frequency))\n"
   ]
  },
  {
   "cell_type": "code",
   "execution_count": 52,
   "id": "d9fdbd3b",
   "metadata": {},
   "outputs": [
    {
     "name": "stdout",
     "output_type": "stream",
     "text": [
      "Enter a string: Hello, world! How's it going?\n",
      "String without punctuation: Hello world Hows it going\n"
     ]
    }
   ],
   "source": [
    "'''37. Remove all punctuation from a string.'''\n",
    "import string\n",
    "\n",
    "sentence = input(\"Enter a string: \")\n",
    "cleaned_string = sentence.translate(str.maketrans('', '', string.punctuation))  # Remove punctuation\n",
    "\n",
    "print(\"String without punctuation:\", cleaned_string)\n"
   ]
  },
  {
   "cell_type": "code",
   "execution_count": 53,
   "id": "df1523b1",
   "metadata": {},
   "outputs": [
    {
     "name": "stdout",
     "output_type": "stream",
     "text": [
      "Enter a string: 123456\n",
      "The string contains only digits.\n"
     ]
    }
   ],
   "source": [
    "'''38. Check if a string contains only digits.'''\n",
    "string = input(\"Enter a string: \")\n",
    "\n",
    "if string.isdigit():\n",
    "    print(\"The string contains only digits.\")\n",
    "else:\n",
    "    print(\"The string does not contain only digits.\")\n"
   ]
  },
  {
   "cell_type": "code",
   "execution_count": 54,
   "id": "d2c8815c",
   "metadata": {},
   "outputs": [
    {
     "name": "stdout",
     "output_type": "stream",
     "text": [
      "Enter a string: HelloWorld\n",
      "The string contains only alphabets.\n"
     ]
    }
   ],
   "source": [
    "'''39. Check if a string contains only alphabets.'''\n",
    "string = input(\"Enter a string: \")\n",
    "\n",
    "if string.isalpha():\n",
    "    print(\"The string contains only alphabets.\")\n",
    "else:\n",
    "    print(\"The string does not contain only alphabets.\")\n"
   ]
  },
  {
   "cell_type": "code",
   "execution_count": 55,
   "id": "444b248c",
   "metadata": {},
   "outputs": [
    {
     "name": "stdout",
     "output_type": "stream",
     "text": [
      "Enter a string: hello\n",
      "List of characters: ['h', 'e', 'l', 'l', 'o']\n"
     ]
    }
   ],
   "source": [
    "'''40. Convert a string to a list of characters.'''\n",
    "string = input(\"Enter a string: \")\n",
    "char_list = list(string)  # Convert string to list of characters\n",
    "\n",
    "print(\"List of characters:\", char_list)\n"
   ]
  },
  {
   "cell_type": "code",
   "execution_count": 58,
   "id": "8bdb93a9",
   "metadata": {},
   "outputs": [
    {
     "name": "stdout",
     "output_type": "stream",
     "text": [
      "Enter the first string: listen\n",
      "Enter the second string: silent\n",
      "The strings are anagrams.\n"
     ]
    }
   ],
   "source": [
    "'''41. Check if two strings are anagrams.'''\n",
    "def are_anagrams(str1, str2):\n",
    "    return sorted(str1) == sorted(str2)\n",
    "\n",
    "string1 = input(\"Enter the first string: \")\n",
    "string2 = input(\"Enter the second string: \")\n",
    "\n",
    "if are_anagrams(string1, string2):\n",
    "    print(\"The strings are anagrams.\")\n",
    "else:\n",
    "    print(\"The strings are not anagrams.\")\n"
   ]
  },
  {
   "cell_type": "code",
   "execution_count": 59,
   "id": "6c321e5d",
   "metadata": {},
   "outputs": [
    {
     "name": "stdout",
     "output_type": "stream",
     "text": [
      "Enter a string to encode: hello\n",
      "Enter shift value: 3\n",
      "Encoded string: khoor\n"
     ]
    }
   ],
   "source": [
    "'''42. Encode a string using a Caesar cipher.'''\n",
    "def caesar_cipher_encode(text, shift):\n",
    "    encoded = ''.join(chr((ord(char) - 65 + shift) % 26 + 65) if char.isupper() else\n",
    "                      chr((ord(char) - 97 + shift) % 26 + 97) if char.islower() else char\n",
    "                      for char in text)\n",
    "    return encoded\n",
    "\n",
    "string = input(\"Enter a string to encode: \")\n",
    "shift = int(input(\"Enter shift value: \"))\n",
    "\n",
    "encoded_string = caesar_cipher_encode(string, shift)\n",
    "print(\"Encoded string:\", encoded_string)\n"
   ]
  },
  {
   "cell_type": "code",
   "execution_count": 60,
   "id": "18f4c000",
   "metadata": {},
   "outputs": [
    {
     "name": "stdout",
     "output_type": "stream",
     "text": [
      "Enter a string to decode: khoor\n",
      "Enter shift value: 3\n",
      "Decoded string: hello\n"
     ]
    }
   ],
   "source": [
    "'''43. Decode a Caesar cipher encoded string.'''\n",
    "def caesar_cipher_decode(text, shift):\n",
    "    decoded = ''.join(chr((ord(char) - 65 - shift) % 26 + 65) if char.isupper() else\n",
    "                      chr((ord(char) - 97 - shift) % 26 + 97) if char.islower() else char\n",
    "                      for char in text)\n",
    "    return decoded\n",
    "\n",
    "encoded_string = input(\"Enter a string to decode: \")\n",
    "shift = int(input(\"Enter shift value: \"))\n",
    "\n",
    "decoded_string = caesar_cipher_decode(encoded_string, shift)\n",
    "print(\"Decoded string:\", decoded_string)\n"
   ]
  },
  {
   "cell_type": "code",
   "execution_count": 61,
   "id": "d2ffd334",
   "metadata": {},
   "outputs": [
    {
     "name": "stdout",
     "output_type": "stream",
     "text": [
      "Enter a sentence: apple banana apple cherry banana apple\n",
      "Most frequent word: apple\n"
     ]
    }
   ],
   "source": [
    "'''44. Find the most frequent word in a string.'''\n",
    "from collections import Counter\n",
    "\n",
    "sentence = input(\"Enter a sentence: \")\n",
    "words = sentence.split()\n",
    "word_freq = Counter(words)\n",
    "most_frequent_word = word_freq.most_common(1)[0][0]\n",
    "\n",
    "print(\"Most frequent word:\", most_frequent_word)\n"
   ]
  },
  {
   "cell_type": "code",
   "execution_count": 62,
   "id": "558e5df0",
   "metadata": {},
   "outputs": [
    {
     "name": "stdout",
     "output_type": "stream",
     "text": [
      "Enter a sentence: apple banana apple cherry banana\n",
      "Unique words: {'banana', 'cherry', 'apple'}\n"
     ]
    }
   ],
   "source": [
    "'''45. Find all unique words in a string.'''\n",
    "sentence = input(\"Enter a sentence: \")\n",
    "words = set(sentence.split())  # Use a set to find unique words\n",
    "\n",
    "print(\"Unique words:\", words)\n"
   ]
  },
  {
   "cell_type": "code",
   "execution_count": 63,
   "id": "fad81d94",
   "metadata": {},
   "outputs": [
    {
     "name": "stdout",
     "output_type": "stream",
     "text": [
      "Enter a sentence: hello world\n",
      "Number of syllables: 3\n"
     ]
    }
   ],
   "source": [
    "'''46. Count the number of syllables in a string.'''\n",
    "import re\n",
    "\n",
    "def count_syllables(word):\n",
    "    return len(re.findall(r'[aeiouy]+', word.lower()))\n",
    "\n",
    "sentence = input(\"Enter a sentence: \")\n",
    "syllable_count = sum(count_syllables(word) for word in sentence.split())\n",
    "\n",
    "print(\"Number of syllables:\", syllable_count)"
   ]
  },
  {
   "cell_type": "code",
   "execution_count": 64,
   "id": "1b066727",
   "metadata": {},
   "outputs": [
    {
     "name": "stdout",
     "output_type": "stream",
     "text": [
      "Enter a string: hello@world!\n",
      "The string contains special characters.\n"
     ]
    }
   ],
   "source": [
    "'''47. Check if a string contains any special characters.'''\n",
    "import re\n",
    "\n",
    "string = input(\"Enter a string: \")\n",
    "if re.search(r'[^\\w\\s]', string):  # Check for characters that are not alphanumeric or whitespace\n",
    "    print(\"The string contains special characters.\")\n",
    "else:\n",
    "    print(\"The string does not contain special characters.\")\n"
   ]
  },
  {
   "cell_type": "code",
   "execution_count": 65,
   "id": "556d7638",
   "metadata": {},
   "outputs": [
    {
     "name": "stdout",
     "output_type": "stream",
     "text": [
      "Enter a sentence: This is a test sentence\n",
      "Enter the position of the word to remove (1-based index): 3\n",
      "Modified sentence: This is test sentence\n"
     ]
    }
   ],
   "source": [
    "'''48. Remove the nth word from a string.'''\n",
    "sentence = input(\"Enter a sentence: \")\n",
    "n = int(input(\"Enter the position of the word to remove (1-based index): \"))\n",
    "\n",
    "words = sentence.split()\n",
    "if 1 <= n <= len(words):\n",
    "    del words[n - 1]  # Remove the nth word\n",
    "    modified_sentence = ' '.join(words)\n",
    "    print(\"Modified sentence:\", modified_sentence)\n",
    "else:\n",
    "    print(\"Position is out of range.\")\n"
   ]
  },
  {
   "cell_type": "code",
   "execution_count": 66,
   "id": "d81cb9d8",
   "metadata": {},
   "outputs": [
    {
     "name": "stdout",
     "output_type": "stream",
     "text": [
      "Enter a sentence: This is test sentence\n",
      "Enter the position to insert the word (1-based index): 4\n",
      "Enter the word to insert: new\n",
      "Modified sentence: This is test new sentence\n"
     ]
    }
   ],
   "source": [
    "'''49. Insert a word at the nth position in a string.'''\n",
    "sentence = input(\"Enter a sentence: \")\n",
    "n = int(input(\"Enter the position to insert the word (1-based index): \"))\n",
    "word_to_insert = input(\"Enter the word to insert: \")\n",
    "\n",
    "words = sentence.split()\n",
    "if 1 <= n <= len(words) + 1:\n",
    "    words.insert(n - 1, word_to_insert)  # Insert the word at the nth position\n",
    "    modified_sentence = ' '.join(words)\n",
    "    print(\"Modified sentence:\", modified_sentence)\n",
    "else:\n",
    "    print(\"Position is out of range.\")\n"
   ]
  },
  {
   "cell_type": "code",
   "execution_count": 69,
   "id": "43fdec36",
   "metadata": {},
   "outputs": [
    {
     "name": "stdout",
     "output_type": "stream",
     "text": [
      "Enter a CSV string: name,age,city\\nAlice,30,New York\\nBob,25,Los Angeles\n",
      "List of lists: [['name', 'age', 'city\\\\nAlice', '30', 'New York\\\\nBob', '25', 'Los Angeles']]\n"
     ]
    }
   ],
   "source": [
    "'''50. Convert a CSV string to a list of lists.'''\n",
    "import csv\n",
    "from io import StringIO\n",
    "\n",
    "csv_string = input(\"Enter a CSV string: \")\n",
    "csv_file = StringIO(csv_string)\n",
    "reader = csv.reader(csv_file)\n",
    "list_of_lists = list(reader)\n",
    "\n",
    "print(\"List of lists:\", list_of_lists)\n"
   ]
  },
  {
   "cell_type": "markdown",
   "id": "c1c99363",
   "metadata": {},
   "source": [
    "# List Based Practice Problem :"
   ]
  },
  {
   "cell_type": "code",
   "execution_count": 70,
   "id": "952a744f",
   "metadata": {},
   "outputs": [
    {
     "name": "stdout",
     "output_type": "stream",
     "text": [
      "List from 1 to 10: [1, 2, 3, 4, 5, 6, 7, 8, 9, 10]\n"
     ]
    }
   ],
   "source": [
    "'''1. Create a list with integers from 1 to 10.'''\n",
    "my_list = list(range(1, 11))\n",
    "print(\"List from 1 to 10:\", my_list)\n"
   ]
  },
  {
   "cell_type": "code",
   "execution_count": 71,
   "id": "8499e088",
   "metadata": {},
   "outputs": [
    {
     "name": "stdout",
     "output_type": "stream",
     "text": [
      "Length of the list: 5\n"
     ]
    }
   ],
   "source": [
    "'''2. Find the length of a list without using the `len()` function.'''\n",
    "my_list = [1, 2, 3, 4, 5]\n",
    "length = 0\n",
    "for _ in my_list:\n",
    "    length += 1\n",
    "print(\"Length of the list:\", length)"
   ]
  },
  {
   "cell_type": "code",
   "execution_count": 72,
   "id": "d832bc67",
   "metadata": {},
   "outputs": [
    {
     "name": "stdout",
     "output_type": "stream",
     "text": [
      "List after appending 4: [1, 2, 3, 4]\n"
     ]
    }
   ],
   "source": [
    "'''3. Append an element to the end of a list.'''\n",
    "my_list = [1, 2, 3]\n",
    "my_list.append(4)\n",
    "print(\"List after appending 4:\", my_list)\n"
   ]
  },
  {
   "cell_type": "code",
   "execution_count": 73,
   "id": "505f94c2",
   "metadata": {},
   "outputs": [
    {
     "name": "stdout",
     "output_type": "stream",
     "text": [
      "List after inserting 4 at index 3: [1, 2, 3, 4, 5]\n"
     ]
    }
   ],
   "source": [
    "'''4. Insert an element at a specific index in a list.'''\n",
    "my_list = [1, 2, 3, 5]\n",
    "my_list.insert(3, 4)  # Insert 4 at index 3\n",
    "print(\"List after inserting 4 at index 3:\", my_list)\n"
   ]
  },
  {
   "cell_type": "code",
   "execution_count": 75,
   "id": "6813feb7",
   "metadata": {},
   "outputs": [
    {
     "name": "stdout",
     "output_type": "stream",
     "text": [
      "List after removing 3: [1, 2, 4]\n"
     ]
    }
   ],
   "source": [
    "'''5. Remove an element from a list by its value.'''\n",
    "my_list = [1, 2, 3, 4]\n",
    "my_list.remove(3)  # Remove the first occurrence of 3\n",
    "print(\"List after removing 3:\", my_list)\n"
   ]
  },
  {
   "cell_type": "code",
   "execution_count": 76,
   "id": "d9fce788",
   "metadata": {},
   "outputs": [
    {
     "name": "stdout",
     "output_type": "stream",
     "text": [
      "List after removing element at index 2: [1, 2, 4]\n"
     ]
    }
   ],
   "source": [
    "'''6. Remove an element from a list by its index.'''\n",
    "my_list = [1, 2, 3, 4]\n",
    "del my_list[2]  # Remove element at index 2\n",
    "print(\"List after removing element at index 2:\", my_list)\n"
   ]
  },
  {
   "cell_type": "code",
   "execution_count": 77,
   "id": "56f4e464",
   "metadata": {},
   "outputs": [
    {
     "name": "stdout",
     "output_type": "stream",
     "text": [
      "Element 3 exists in the list: True\n"
     ]
    }
   ],
   "source": [
    "'''7. Check if an element exists in a list.'''\n",
    "my_list = [1, 2, 3, 4]\n",
    "element = 3\n",
    "exists = element in my_list\n",
    "print(f\"Element {element} exists in the list:\", exists)\n"
   ]
  },
  {
   "cell_type": "code",
   "execution_count": 78,
   "id": "fd8abb56",
   "metadata": {},
   "outputs": [
    {
     "name": "stdout",
     "output_type": "stream",
     "text": [
      "Index of the first occurrence of 3: 2\n"
     ]
    }
   ],
   "source": [
    "'''8. Find the index of the first occurrence of an element in a list.'''\n",
    "my_list = [1, 2, 3, 4, 3]\n",
    "index = my_list.index(3)\n",
    "print(\"Index of the first occurrence of 3:\", index)\n"
   ]
  },
  {
   "cell_type": "code",
   "execution_count": 79,
   "id": "1c09264f",
   "metadata": {},
   "outputs": [
    {
     "name": "stdout",
     "output_type": "stream",
     "text": [
      "Occurrences of 3 in the list: 2\n"
     ]
    }
   ],
   "source": [
    "'''9. Count the occurrences of an element in a list.'''\n",
    "my_list = [1, 2, 3, 4, 3]\n",
    "count = my_list.count(3)\n",
    "print(\"Occurrences of 3 in the list:\", count)\n"
   ]
  },
  {
   "cell_type": "code",
   "execution_count": 80,
   "id": "c34c0859",
   "metadata": {},
   "outputs": [
    {
     "name": "stdout",
     "output_type": "stream",
     "text": [
      "List after reversing: [4, 3, 2, 1]\n"
     ]
    }
   ],
   "source": [
    "'''10. Reverse the order of elements in a list.'''\n",
    "my_list = [1, 2, 3, 4]\n",
    "my_list.reverse()\n",
    "print(\"List after reversing:\", my_list)\n"
   ]
  },
  {
   "cell_type": "code",
   "execution_count": 81,
   "id": "02e6abb4",
   "metadata": {},
   "outputs": [
    {
     "name": "stdout",
     "output_type": "stream",
     "text": [
      "List sorted in ascending order: [1, 2, 3, 4]\n"
     ]
    }
   ],
   "source": [
    "'''11. Sort a list in ascending order.'''\n",
    "my_list = [4, 2, 3, 1]\n",
    "my_list.sort()\n",
    "print(\"List sorted in ascending order:\", my_list)\n"
   ]
  },
  {
   "cell_type": "code",
   "execution_count": 82,
   "id": "5cbd42f2",
   "metadata": {},
   "outputs": [
    {
     "name": "stdout",
     "output_type": "stream",
     "text": [
      "List sorted in descending order: [4, 3, 2, 1]\n"
     ]
    }
   ],
   "source": [
    "'''12. Sort a list in descending order.'''\n",
    "my_list = [1, 4, 3, 2]\n",
    "my_list.sort(reverse=True)\n",
    "print(\"List sorted in descending order:\", my_list)\n"
   ]
  },
  {
   "cell_type": "code",
   "execution_count": 83,
   "id": "4e4de183",
   "metadata": {},
   "outputs": [
    {
     "name": "stdout",
     "output_type": "stream",
     "text": [
      "List of even numbers from 1 to 20: [2, 4, 6, 8, 10, 12, 14, 16, 18, 20]\n"
     ]
    }
   ],
   "source": [
    "'''13. Create a list of even numbers from 1 to 20.'''\n",
    "even_numbers = [x for x in range(1, 21) if x % 2 == 0]\n",
    "print(\"List of even numbers from 1 to 20:\", even_numbers)\n"
   ]
  },
  {
   "cell_type": "code",
   "execution_count": 84,
   "id": "18a86d3c",
   "metadata": {},
   "outputs": [
    {
     "name": "stdout",
     "output_type": "stream",
     "text": [
      "List of odd numbers from 1 to 20: [1, 3, 5, 7, 9, 11, 13, 15, 17, 19]\n"
     ]
    }
   ],
   "source": [
    "'''14. Create a list of odd numbers from 1 to 20.'''\n",
    "odd_numbers = [x for x in range(1, 21) if x % 2 != 0]\n",
    "print(\"List of odd numbers from 1 to 20:\", odd_numbers)\n"
   ]
  },
  {
   "cell_type": "code",
   "execution_count": 85,
   "id": "8e7031bf",
   "metadata": {},
   "outputs": [
    {
     "name": "stdout",
     "output_type": "stream",
     "text": [
      "Sum of all elements: 10\n"
     ]
    }
   ],
   "source": [
    "'''15. Find the sum of all elements in a list.'''\n",
    "my_list = [1, 2, 3, 4]\n",
    "total_sum = sum(my_list)\n",
    "print(\"Sum of all elements:\", total_sum)\n"
   ]
  },
  {
   "cell_type": "code",
   "execution_count": 86,
   "id": "debd3970",
   "metadata": {},
   "outputs": [
    {
     "name": "stdout",
     "output_type": "stream",
     "text": [
      "Maximum value in the list: 4\n"
     ]
    }
   ],
   "source": [
    "'''16. Find the maximum value in a list.'''\n",
    "my_list = [1, 2, 3, 4]\n",
    "max_value = max(my_list)\n",
    "print(\"Maximum value in the list:\", max_value)\n"
   ]
  },
  {
   "cell_type": "code",
   "execution_count": 87,
   "id": "7626e4d0",
   "metadata": {},
   "outputs": [
    {
     "name": "stdout",
     "output_type": "stream",
     "text": [
      "Minimum value in the list: 1\n"
     ]
    }
   ],
   "source": [
    "'''17. Find the minimum value in a list.'''\n",
    "my_list = [1, 2, 3, 4]\n",
    "min_value = min(my_list)\n",
    "print(\"Minimum value in the list:\", min_value)\n"
   ]
  },
  {
   "cell_type": "code",
   "execution_count": 88,
   "id": "9a9ead9b",
   "metadata": {},
   "outputs": [
    {
     "name": "stdout",
     "output_type": "stream",
     "text": [
      "List of squares from 1 to 10: [1, 4, 9, 16, 25, 36, 49, 64, 81, 100]\n"
     ]
    }
   ],
   "source": [
    "'''18. Create a list of squares of numbers from 1 to 10.'''\n",
    "squares = [x**2 for x in range(1, 11)]\n",
    "print(\"List of squares from 1 to 10:\", squares)\n"
   ]
  },
  {
   "cell_type": "code",
   "execution_count": 89,
   "id": "dd6b81f0",
   "metadata": {},
   "outputs": [
    {
     "name": "stdout",
     "output_type": "stream",
     "text": [
      "List of random numbers: [68, 13, 25, 26, 58, 60, 14, 45, 43, 43]\n"
     ]
    }
   ],
   "source": [
    "'''19. Create a list of random numbers.'''\n",
    "import random\n",
    "\n",
    "random_numbers = [random.randint(1, 100) for _ in range(10)]\n",
    "print(\"List of random numbers:\", random_numbers)\n"
   ]
  },
  {
   "cell_type": "code",
   "execution_count": 90,
   "id": "fe829672",
   "metadata": {},
   "outputs": [
    {
     "name": "stdout",
     "output_type": "stream",
     "text": [
      "List without duplicates: [1, 2, 3, 4, 5]\n"
     ]
    }
   ],
   "source": [
    "'''20. Remove duplicates from a list.'''\n",
    "my_list = [1, 2, 2, 3, 4, 4, 5]\n",
    "unique_list = list(set(my_list))  # Convert to set to remove duplicates, then back to list\n",
    "print(\"List without duplicates:\", unique_list)\n"
   ]
  },
  {
   "cell_type": "code",
   "execution_count": 91,
   "id": "e3601aee",
   "metadata": {},
   "outputs": [
    {
     "name": "stdout",
     "output_type": "stream",
     "text": [
      "Common elements between two lists: [3, 4]\n"
     ]
    }
   ],
   "source": [
    "'''21. Find the common elements between two lists.'''\n",
    "list1 = [1, 2, 3, 4]\n",
    "list2 = [3, 4, 5, 6]\n",
    "common_elements = list(set(list1) & set(list2))  # Find intersection\n",
    "print(\"Common elements between two lists:\", common_elements)\n"
   ]
  },
  {
   "cell_type": "code",
   "execution_count": 92,
   "id": "2254d676",
   "metadata": {},
   "outputs": [
    {
     "name": "stdout",
     "output_type": "stream",
     "text": [
      "Difference between two lists: [1, 2]\n"
     ]
    }
   ],
   "source": [
    "'''22. Find the difference between two lists.'''\n",
    "list1 = [1, 2, 3, 4]\n",
    "list2 = [3, 4, 5, 6]\n",
    "difference = list(set(list1) - set(list2))  # Find difference\n",
    "print(\"Difference between two lists:\", difference)\n"
   ]
  },
  {
   "cell_type": "code",
   "execution_count": 93,
   "id": "40450f15",
   "metadata": {},
   "outputs": [
    {
     "name": "stdout",
     "output_type": "stream",
     "text": [
      "Merged list: [1, 2, 3, 4, 5, 6]\n"
     ]
    }
   ],
   "source": [
    "'''23. Merge two lists.'''\n",
    "list1 = [1, 2, 3]\n",
    "list2 = [4, 5, 6]\n",
    "merged_list = list1 + list2  # Concatenate lists\n",
    "print(\"Merged list:\", merged_list)\n"
   ]
  },
  {
   "cell_type": "code",
   "execution_count": 94,
   "id": "0992b5ce",
   "metadata": {},
   "outputs": [
    {
     "name": "stdout",
     "output_type": "stream",
     "text": [
      "List after multiplying by 2: [2, 4, 6, 8]\n"
     ]
    }
   ],
   "source": [
    "'''24. Multiply all elements in a list by 2.'''\n",
    "my_list = [1, 2, 3, 4]\n",
    "doubled_list = [x * 2 for x in my_list]\n",
    "print(\"List after multiplying by 2:\", doubled_list)\n"
   ]
  },
  {
   "cell_type": "code",
   "execution_count": 95,
   "id": "c24b3b5c",
   "metadata": {},
   "outputs": [
    {
     "name": "stdout",
     "output_type": "stream",
     "text": [
      "List after filtering out even numbers: [1, 3, 5]\n"
     ]
    }
   ],
   "source": [
    "'''25. Filter out all even numbers from a list.'''\n",
    "my_list = [1, 2, 3, 4, 5, 6]\n",
    "filtered_list = [x for x in my_list if x % 2 != 0]  # Keep only odd numbers\n",
    "print(\"List after filtering out even numbers:\", filtered_list)\n"
   ]
  },
  {
   "cell_type": "code",
   "execution_count": 96,
   "id": "e8b75bbb",
   "metadata": {},
   "outputs": [
    {
     "name": "stdout",
     "output_type": "stream",
     "text": [
      "List of integers: [1, 2, 3, 4]\n"
     ]
    }
   ],
   "source": [
    "'''26. Convert a list of strings to a list of integers.'''\n",
    "string_list = ['1', '2', '3', '4']\n",
    "integer_list = [int(s) for s in string_list]\n",
    "print(\"List of integers:\", integer_list)\n"
   ]
  },
  {
   "cell_type": "code",
   "execution_count": 97,
   "id": "6c91b203",
   "metadata": {},
   "outputs": [
    {
     "name": "stdout",
     "output_type": "stream",
     "text": [
      "List of strings: ['1', '2', '3', '4']\n"
     ]
    }
   ],
   "source": [
    "'''27. Convert a list of integers to a list of strings.'''\n",
    "integer_list = [1, 2, 3, 4]\n",
    "string_list = [str(i) for i in integer_list]\n",
    "print(\"List of strings:\", string_list)\n"
   ]
  },
  {
   "cell_type": "code",
   "execution_count": 99,
   "id": "81e79423",
   "metadata": {},
   "outputs": [
    {
     "name": "stdout",
     "output_type": "stream",
     "text": [
      "Flattened list: [1, 2, 3, 4, 5, 6]\n"
     ]
    }
   ],
   "source": [
    "'''28. Flatten a nested list.'''\n",
    "nested_list = [[1, 2], [3, 4], [5, 6]]\n",
    "flattened_list = [item for sublist in nested_list for item in sublist]\n",
    "print(\"Flattened list:\", flattened_list)\n",
    "\n"
   ]
  },
  {
   "cell_type": "code",
   "execution_count": 100,
   "id": "d0055b36",
   "metadata": {},
   "outputs": [
    {
     "name": "stdout",
     "output_type": "stream",
     "text": [
      "First 10 Fibonacci numbers: [0, 1, 1, 2, 3, 5, 8, 13, 21, 34]\n"
     ]
    }
   ],
   "source": [
    "'''29. Create a list of the first 10 Fibonacci numbers.'''\n",
    "def fibonacci(n):\n",
    "    fib_sequence = [0, 1]\n",
    "    while len(fib_sequence) < n:\n",
    "        fib_sequence.append(fib_sequence[-1] + fib_sequence[-2])\n",
    "    return fib_sequence\n",
    "\n",
    "first_10_fib = fibonacci(10)\n",
    "print(\"First 10 Fibonacci numbers:\", first_10_fib)\n"
   ]
  },
  {
   "cell_type": "code",
   "execution_count": 101,
   "id": "374f3022",
   "metadata": {},
   "outputs": [
    {
     "name": "stdout",
     "output_type": "stream",
     "text": [
      "Is the list sorted? True\n"
     ]
    }
   ],
   "source": [
    "'''30. Check if a list is sorted.'''\n",
    "def is_sorted(lst):\n",
    "    return lst == sorted(lst)\n",
    "\n",
    "my_list = [1, 2, 3, 4]\n",
    "print(\"Is the list sorted?\", is_sorted(my_list))\n"
   ]
  },
  {
   "cell_type": "code",
   "execution_count": 102,
   "id": "043d0bf4",
   "metadata": {},
   "outputs": [
    {
     "name": "stdout",
     "output_type": "stream",
     "text": [
      "List after rotating left by 2 positions: [3, 4, 5, 1, 2]\n"
     ]
    }
   ],
   "source": [
    "'''31. Rotate a list to the left by `n` positions.'''\n",
    "def rotate_left(lst, n):\n",
    "    return lst[n:] + lst[:n]\n",
    "\n",
    "my_list = [1, 2, 3, 4, 5]\n",
    "n = 2\n",
    "rotated_list = rotate_left(my_list, n)\n",
    "print(\"List after rotating left by 2 positions:\", rotated_list)\n"
   ]
  },
  {
   "cell_type": "code",
   "execution_count": 103,
   "id": "c2d8af11",
   "metadata": {},
   "outputs": [
    {
     "name": "stdout",
     "output_type": "stream",
     "text": [
      "List after rotating right by 2 positions: [4, 5, 1, 2, 3]\n"
     ]
    }
   ],
   "source": [
    "'''32. Rotate a list to the right by `n` positions.'''\n",
    "def rotate_right(lst, n):\n",
    "    return lst[-n:] + lst[:-n]\n",
    "\n",
    "my_list = [1, 2, 3, 4, 5]\n",
    "n = 2\n",
    "rotated_list = rotate_right(my_list, n)\n",
    "print(\"List after rotating right by 2 positions:\", rotated_list)\n",
    "\n"
   ]
  },
  {
   "cell_type": "code",
   "execution_count": 104,
   "id": "b757d1cd",
   "metadata": {},
   "outputs": [
    {
     "name": "stdout",
     "output_type": "stream",
     "text": [
      "Prime numbers up to 50: [2, 3, 5, 7, 11, 13, 17, 19, 23, 29, 31, 37, 41, 43, 47]\n"
     ]
    }
   ],
   "source": [
    "'''33. Create a list of prime numbers up to 50.'''\n",
    "def is_prime(num):\n",
    "    if num < 2:\n",
    "        return False\n",
    "    for i in range(2, int(num ** 0.5) + 1):\n",
    "        if num % i == 0:\n",
    "            return False\n",
    "    return True\n",
    "\n",
    "primes_up_to_50 = [x for x in range(2, 51) if is_prime(x)]\n",
    "print(\"Prime numbers up to 50:\", primes_up_to_50)\n"
   ]
  },
  {
   "cell_type": "code",
   "execution_count": 105,
   "id": "4e60646c",
   "metadata": {},
   "outputs": [
    {
     "name": "stdout",
     "output_type": "stream",
     "text": [
      "List split into chunks of size 3: [[1, 2, 3], [4, 5, 6], [7, 8, 9]]\n"
     ]
    }
   ],
   "source": [
    "'''34. Split a list into chunks of size `n`.'''\n",
    "def chunk_list(lst, n):\n",
    "    return [lst[i:i + n] for i in range(0, len(lst), n)]\n",
    "\n",
    "my_list = [1, 2, 3, 4, 5, 6, 7, 8, 9]\n",
    "chunk_size = 3\n",
    "chunked_list = chunk_list(my_list, chunk_size)\n",
    "print(\"List split into chunks of size 3:\", chunked_list)\n"
   ]
  },
  {
   "cell_type": "code",
   "execution_count": 106,
   "id": "5ead8e4d",
   "metadata": {},
   "outputs": [
    {
     "name": "stdout",
     "output_type": "stream",
     "text": [
      "Second largest number in the list: 4\n"
     ]
    }
   ],
   "source": [
    "'''35. Find the second largest number in a list.'''\n",
    "def second_largest(lst):\n",
    "    unique_lst = list(set(lst))\n",
    "    unique_lst.sort()\n",
    "    return unique_lst[-2] if len(unique_lst) > 1 else None\n",
    "\n",
    "my_list = [1, 2, 3, 4, 5]\n",
    "second_largest_number = second_largest(my_list)\n",
    "print(\"Second largest number in the list:\", second_largest_number)\n"
   ]
  },
  {
   "cell_type": "code",
   "execution_count": 107,
   "id": "3e1dbe98",
   "metadata": {},
   "outputs": [
    {
     "name": "stdout",
     "output_type": "stream",
     "text": [
      "List with squared elements: [1, 4, 9, 16]\n"
     ]
    }
   ],
   "source": [
    "'''36. Replace every element in a list with its square.'''\n",
    "my_list = [1, 2, 3, 4]\n",
    "squared_list = [x ** 2 for x in my_list]\n",
    "print(\"List with squared elements:\", squared_list)\n"
   ]
  },
  {
   "cell_type": "code",
   "execution_count": 108,
   "id": "fc3af7c2",
   "metadata": {},
   "outputs": [
    {
     "name": "stdout",
     "output_type": "stream",
     "text": [
      "Dictionary from list: {'a': 0, 'b': 1, 'c': 2}\n"
     ]
    }
   ],
   "source": [
    "'''37. Convert a list to a dictionary where list elements become keys and their\n",
    "indices become values.'''\n",
    "my_list = ['a', 'b', 'c']\n",
    "dict_from_list = {key: index for index, key in enumerate(my_list)}\n",
    "print(\"Dictionary from list:\", dict_from_list)\n"
   ]
  },
  {
   "cell_type": "code",
   "execution_count": 110,
   "id": "97bdf76c",
   "metadata": {},
   "outputs": [
    {
     "name": "stdout",
     "output_type": "stream",
     "text": [
      "Shuffled list: [4, 2, 5, 1, 3]\n"
     ]
    }
   ],
   "source": [
    "'''38. Shuffle the elements of a list randomly.'''\n",
    "import random\n",
    "\n",
    "my_list = [1, 2, 3, 4, 5]\n",
    "random.shuffle(my_list)\n",
    "print(\"Shuffled list:\", my_list)\n"
   ]
  },
  {
   "cell_type": "code",
   "execution_count": 111,
   "id": "6348e4b0",
   "metadata": {},
   "outputs": [
    {
     "name": "stdout",
     "output_type": "stream",
     "text": [
      "First 10 factorial numbers: [1, 1, 2, 6, 24, 120, 720, 5040, 40320, 362880]\n"
     ]
    }
   ],
   "source": [
    "'''39. Create a list of the first 10 factorial numbers.'''\n",
    "import math\n",
    "\n",
    "factorials = [math.factorial(i) for i in range(10)]\n",
    "print(\"First 10 factorial numbers:\", factorials)\n"
   ]
  },
  {
   "cell_type": "code",
   "execution_count": 112,
   "id": "879c9a7f",
   "metadata": {},
   "outputs": [
    {
     "name": "stdout",
     "output_type": "stream",
     "text": [
      "Do the lists have at least one element in common? True\n"
     ]
    }
   ],
   "source": [
    "'''40. Check if two lists have at least one element in common.'''\n",
    "def have_common_element(list1, list2):\n",
    "    return any(elem in list2 for elem in list1)\n",
    "\n",
    "list1 = [1, 2, 3]\n",
    "list2 = [3, 4, 5]\n",
    "print(\"Do the lists have at least one element in common?\", have_common_element(list1, list2))\n"
   ]
  },
  {
   "cell_type": "code",
   "execution_count": 113,
   "id": "25b9c5d3",
   "metadata": {},
   "outputs": [
    {
     "name": "stdout",
     "output_type": "stream",
     "text": [
      "List after removing all elements: []\n"
     ]
    }
   ],
   "source": [
    "'''41. Remove all elements from a list.'''\n",
    "my_list = [1, 2, 3, 4]\n",
    "my_list.clear()\n",
    "print(\"List after removing all elements:\", my_list)\n"
   ]
  },
  {
   "cell_type": "code",
   "execution_count": 114,
   "id": "b4cc4bd4",
   "metadata": {},
   "outputs": [
    {
     "name": "stdout",
     "output_type": "stream",
     "text": [
      "List with negative numbers replaced by 0: [1, 0, 3, 0, 5]\n"
     ]
    }
   ],
   "source": [
    "'''42. Replace negative numbers in a list with 0.'''\n",
    "my_list = [1, -2, 3, -4, 5]\n",
    "non_negative_list = [x if x >= 0 else 0 for x in my_list]\n",
    "print(\"List with negative numbers replaced by 0:\", non_negative_list)\n"
   ]
  },
  {
   "cell_type": "code",
   "execution_count": 115,
   "id": "14176c07",
   "metadata": {},
   "outputs": [
    {
     "name": "stdout",
     "output_type": "stream",
     "text": [
      "List of words: ['This', 'is', 'a', 'sample', 'sentence']\n"
     ]
    }
   ],
   "source": [
    "'''43. Convert a string into a list of words.'''\n",
    "sentence = \"This is a sample sentence\"\n",
    "word_list = sentence.split()\n",
    "print(\"List of words:\", word_list)\n"
   ]
  },
  {
   "cell_type": "code",
   "execution_count": 116,
   "id": "6ea50ab1",
   "metadata": {},
   "outputs": [
    {
     "name": "stdout",
     "output_type": "stream",
     "text": [
      "String from list of words: This is a sample sentence\n"
     ]
    }
   ],
   "source": [
    "'''44. Convert a list of words into a string.'''\n",
    "word_list = ['This', 'is', 'a', 'sample', 'sentence']\n",
    "sentence = ' '.join(word_list)\n",
    "print(\"String from list of words:\", sentence)\n"
   ]
  },
  {
   "cell_type": "code",
   "execution_count": 117,
   "id": "860a4504",
   "metadata": {},
   "outputs": [
    {
     "name": "stdout",
     "output_type": "stream",
     "text": [
      "First 5 powers of 2: [1, 2, 4, 8, 16]\n"
     ]
    }
   ],
   "source": [
    "'''45. Create a list of the first `n` powers of 2.'''\n",
    "n = 5\n",
    "powers_of_2 = [2**i for i in range(n)]\n",
    "print(\"First\", n, \"powers of 2:\", powers_of_2)\n"
   ]
  },
  {
   "cell_type": "code",
   "execution_count": 118,
   "id": "98210230",
   "metadata": {},
   "outputs": [
    {
     "name": "stdout",
     "output_type": "stream",
     "text": [
      "Longest string in the list: banana\n"
     ]
    }
   ],
   "source": [
    "'''46. Find the longest string in a list of strings.'''\n",
    "strings = [\"apple\", \"banana\", \"cherry\", \"date\"]\n",
    "longest_string = max(strings, key=len)\n",
    "print(\"Longest string in the list:\", longest_string)\n"
   ]
  },
  {
   "cell_type": "code",
   "execution_count": 120,
   "id": "75ee40b8",
   "metadata": {},
   "outputs": [
    {
     "name": "stdout",
     "output_type": "stream",
     "text": [
      "Shortest string in the list: date\n"
     ]
    }
   ],
   "source": [
    "'''47. Find the shortest string in a list of strings.'''\n",
    "strings = [\"apple\", \"banana\", \"cherry\", \"date\"]\n",
    "shortest_string = min(strings, key=len)\n",
    "print(\"Shortest string in the list:\", shortest_string)"
   ]
  },
  {
   "cell_type": "code",
   "execution_count": 121,
   "id": "818c0aa9",
   "metadata": {},
   "outputs": [
    {
     "name": "stdout",
     "output_type": "stream",
     "text": [
      "First 5 triangular numbers: [1, 3, 6, 10, 15]\n"
     ]
    }
   ],
   "source": [
    "'''48. Create a list of the first `n` triangular numbers.'''\n",
    "def triangular_numbers(n):\n",
    "    return [sum(range(1, i+1)) for i in range(1, n+1)]\n",
    "\n",
    "n = 5\n",
    "triangular_list = triangular_numbers(n)\n",
    "print(\"First\", n, \"triangular numbers:\", triangular_list)\n"
   ]
  },
  {
   "cell_type": "code",
   "execution_count": 122,
   "id": "d989dd95",
   "metadata": {},
   "outputs": [
    {
     "name": "stdout",
     "output_type": "stream",
     "text": [
      "Does the main list contain the sub list as a subsequence? True\n"
     ]
    }
   ],
   "source": [
    "'''49. Check if a list contains another list as a subsequence.'''\n",
    "def is_subsequence(lst, subseq):\n",
    "    it = iter(lst)\n",
    "    return all(item in it for item in subseq)\n",
    "\n",
    "main_list = [1, 2, 3, 4, 5]\n",
    "sub_list = [2, 4]\n",
    "print(\"Does the main list contain the sub list as a subsequence?\", is_subsequence(main_list, sub_list))\n"
   ]
  },
  {
   "cell_type": "code",
   "execution_count": 123,
   "id": "1401ee4f",
   "metadata": {},
   "outputs": [
    {
     "name": "stdout",
     "output_type": "stream",
     "text": [
      "List after swapping elements at indices 1 and 3 : [1, 4, 3, 2]\n"
     ]
    }
   ],
   "source": [
    "'''50. Swap two elements in a list by their indices.'''\n",
    "def swap_elements(lst, index1, index2):\n",
    "    lst[index1], lst[index2] = lst[index2], lst[index1]\n",
    "    return lst\n",
    "\n",
    "my_list = [1, 2, 3, 4]\n",
    "index1 = 1\n",
    "index2 = 3\n",
    "swapped_list = swap_elements(my_list, index1, index2)\n",
    "print(\"List after swapping elements at indices\", index1, \"and\", index2, \":\", swapped_list)\n"
   ]
  },
  {
   "cell_type": "markdown",
   "id": "42aba007",
   "metadata": {},
   "source": [
    "# Tuple Based Practice Problem :"
   ]
  },
  {
   "cell_type": "code",
   "execution_count": 124,
   "id": "5affc02b",
   "metadata": {},
   "outputs": [
    {
     "name": "stdout",
     "output_type": "stream",
     "text": [
      "Tuple with integers from 1 to 5: (1, 2, 3, 4, 5)\n"
     ]
    }
   ],
   "source": [
    "'''1. Create a tuple with integers from 1 to 5.'''\n",
    "my_tuple = (1, 2, 3, 4, 5)\n",
    "print(\"Tuple with integers from 1 to 5:\", my_tuple)\n"
   ]
  },
  {
   "cell_type": "code",
   "execution_count": 125,
   "id": "62e5f4eb",
   "metadata": {},
   "outputs": [
    {
     "name": "stdout",
     "output_type": "stream",
     "text": [
      "Third element of the tuple: 3\n"
     ]
    }
   ],
   "source": [
    "'''2. Access the third element of a tuple.'''\n",
    "my_tuple = (1, 2, 3, 4, 5)\n",
    "third_element = my_tuple[2]  # Indexing starts from 0\n",
    "print(\"Third element of the tuple:\", third_element)\n"
   ]
  },
  {
   "cell_type": "code",
   "execution_count": 126,
   "id": "d0ff3d71",
   "metadata": {},
   "outputs": [
    {
     "name": "stdout",
     "output_type": "stream",
     "text": [
      "Length of the tuple: 5\n"
     ]
    }
   ],
   "source": [
    "'''3. Find the length of a tuple without using the `len()` function.'''\n",
    "def tuple_length(tup):\n",
    "    count = 0\n",
    "    for _ in tup:\n",
    "        count += 1\n",
    "    return count\n",
    "\n",
    "my_tuple = (1, 2, 3, 4, 5)\n",
    "length = tuple_length(my_tuple)\n",
    "print(\"Length of the tuple:\", length)\n"
   ]
  },
  {
   "cell_type": "code",
   "execution_count": 127,
   "id": "1e517e9f",
   "metadata": {},
   "outputs": [
    {
     "name": "stdout",
     "output_type": "stream",
     "text": [
      "Occurrences of 2 in the tuple: 3\n"
     ]
    }
   ],
   "source": [
    "'''4. Count the occurrences of an element in a tuple.'''\n",
    "my_tuple = (1, 2, 3, 2, 4, 2, 5)\n",
    "element = 2\n",
    "count = my_tuple.count(element)\n",
    "print(f\"Occurrences of {element} in the tuple:\", count)\n"
   ]
  },
  {
   "cell_type": "code",
   "execution_count": 128,
   "id": "342a8ee6",
   "metadata": {},
   "outputs": [
    {
     "name": "stdout",
     "output_type": "stream",
     "text": [
      "Index of the first occurrence of 2: 1\n"
     ]
    }
   ],
   "source": [
    "'''5. Find the index of the first occurrence of an element in a tuple.'''\n",
    "my_tuple = (1, 2, 3, 2, 4, 5)\n",
    "element = 2\n",
    "index = my_tuple.index(element)\n",
    "print(f\"Index of the first occurrence of {element}:\", index)\n"
   ]
  },
  {
   "cell_type": "code",
   "execution_count": 129,
   "id": "8d13e303",
   "metadata": {},
   "outputs": [
    {
     "name": "stdout",
     "output_type": "stream",
     "text": [
      "Does the element 3 exist in the tuple? True\n"
     ]
    }
   ],
   "source": [
    "'''6. Check if an element exists in a tuple.'''\n",
    "my_tuple = (1, 2, 3, 4, 5)\n",
    "element = 3\n",
    "exists = element in my_tuple\n",
    "print(f\"Does the element {element} exist in the tuple?\", exists)\n"
   ]
  },
  {
   "cell_type": "code",
   "execution_count": 130,
   "id": "6e99cbbb",
   "metadata": {},
   "outputs": [
    {
     "name": "stdout",
     "output_type": "stream",
     "text": [
      "List converted from tuple: [1, 2, 3, 4]\n"
     ]
    }
   ],
   "source": [
    "'''7. Convert a tuple to a list.'''\n",
    "my_tuple = (1, 2, 3, 4)\n",
    "my_list = list(my_tuple)\n",
    "print(\"List converted from tuple:\", my_list)\n"
   ]
  },
  {
   "cell_type": "code",
   "execution_count": 131,
   "id": "f395c15a",
   "metadata": {},
   "outputs": [
    {
     "name": "stdout",
     "output_type": "stream",
     "text": [
      "Tuple converted from list: (1, 2, 3, 4)\n"
     ]
    }
   ],
   "source": [
    "'''8. Convert a list to a tuple.'''\n",
    "my_list = [1, 2, 3, 4]\n",
    "my_tuple = tuple(my_list)\n",
    "print(\"Tuple converted from list:\", my_tuple)\n"
   ]
  },
  {
   "cell_type": "code",
   "execution_count": 132,
   "id": "aaa95329",
   "metadata": {},
   "outputs": [
    {
     "name": "stdout",
     "output_type": "stream",
     "text": [
      "Unpacked variables: a=1, b=2, c=3\n"
     ]
    }
   ],
   "source": [
    "'''9. Unpack the elements of a tuple into variables.'''\n",
    "my_tuple = (1, 2, 3)\n",
    "a, b, c = my_tuple\n",
    "print(f\"Unpacked variables: a={a}, b={b}, c={c}\")\n"
   ]
  },
  {
   "cell_type": "code",
   "execution_count": 133,
   "id": "c894771b",
   "metadata": {},
   "outputs": [
    {
     "name": "stdout",
     "output_type": "stream",
     "text": [
      "Tuple of even numbers from 1 to 10: (2, 4, 6, 8, 10)\n"
     ]
    }
   ],
   "source": [
    "'''10. Create a tuple of even numbers from 1 to 10.'''\n",
    "even_tuple = tuple(x for x in range(1, 11) if x % 2 == 0)\n",
    "print(\"Tuple of even numbers from 1 to 10:\", even_tuple)\n"
   ]
  },
  {
   "cell_type": "code",
   "execution_count": 135,
   "id": "ecbe3dfd",
   "metadata": {},
   "outputs": [
    {
     "name": "stdout",
     "output_type": "stream",
     "text": [
      "Tuple of odd numbers from 1 to 10: (1, 3, 5, 7, 9)\n"
     ]
    }
   ],
   "source": [
    "'''11. Create a tuple of odd numbers from 1 to 10.'''\n",
    "odd_tuple = tuple(x for x in range(1, 11) if x % 2 != 0)\n",
    "print(\"Tuple of odd numbers from 1 to 10:\", odd_tuple)\n"
   ]
  },
  {
   "cell_type": "code",
   "execution_count": 136,
   "id": "2f5238c6",
   "metadata": {},
   "outputs": [
    {
     "name": "stdout",
     "output_type": "stream",
     "text": [
      "Concatenated tuple: (1, 2, 3, 4, 5, 6)\n"
     ]
    }
   ],
   "source": [
    "'''12. Concatenate two tuples.'''\n",
    "tuple1 = (1, 2, 3)\n",
    "tuple2 = (4, 5, 6)\n",
    "concatenated_tuple = tuple1 + tuple2\n",
    "print(\"Concatenated tuple:\", concatenated_tuple)\n"
   ]
  },
  {
   "cell_type": "code",
   "execution_count": 137,
   "id": "439655b3",
   "metadata": {},
   "outputs": [
    {
     "name": "stdout",
     "output_type": "stream",
     "text": [
      "Tuple repeated three times: (1, 2, 3, 1, 2, 3, 1, 2, 3)\n"
     ]
    }
   ],
   "source": [
    "'''13. Repeat a tuple three times.'''\n",
    "my_tuple = (1, 2, 3)\n",
    "repeated_tuple = my_tuple * 3\n",
    "print(\"Tuple repeated three times:\", repeated_tuple)\n"
   ]
  },
  {
   "cell_type": "code",
   "execution_count": 139,
   "id": "eedf2049",
   "metadata": {},
   "outputs": [
    {
     "name": "stdout",
     "output_type": "stream",
     "text": [
      "Is the tuple empty? True\n"
     ]
    }
   ],
   "source": [
    "'''14. Check if a tuple is empty.'''\n",
    "my_tuple = ()\n",
    "is_empty = not my_tuple\n",
    "print(\"Is the tuple empty?\", is_empty)\n"
   ]
  },
  {
   "cell_type": "code",
   "execution_count": 140,
   "id": "461d9088",
   "metadata": {},
   "outputs": [
    {
     "name": "stdout",
     "output_type": "stream",
     "text": [
      "Nested tuple: ((1, 2), (3, 4), (5, 6))\n"
     ]
    }
   ],
   "source": [
    "'''15. Create a nested tuple.'''\n",
    "nested_tuple = ((1, 2), (3, 4), (5, 6))\n",
    "print(\"Nested tuple:\", nested_tuple)\n"
   ]
  },
  {
   "cell_type": "code",
   "execution_count": 141,
   "id": "5fb14763",
   "metadata": {},
   "outputs": [
    {
     "name": "stdout",
     "output_type": "stream",
     "text": [
      "First element of the nested tuple: (1, 2)\n"
     ]
    }
   ],
   "source": [
    "'''16. Access the first element of a nested tuple.'''\n",
    "nested_tuple = ((1, 2), (3, 4), (5, 6))\n",
    "first_element = nested_tuple[0]\n",
    "print(\"First element of the nested tuple:\", first_element)\n"
   ]
  },
  {
   "cell_type": "code",
   "execution_count": 142,
   "id": "79804b8c",
   "metadata": {},
   "outputs": [
    {
     "name": "stdout",
     "output_type": "stream",
     "text": [
      "Tuple with a single element: (1,)\n"
     ]
    }
   ],
   "source": [
    "'''17. Create a tuple with a single element.'''\n",
    "single_element_tuple = (1,)\n",
    "print(\"Tuple with a single element:\", single_element_tuple)\n"
   ]
  },
  {
   "cell_type": "code",
   "execution_count": 143,
   "id": "58d1f962",
   "metadata": {},
   "outputs": [
    {
     "name": "stdout",
     "output_type": "stream",
     "text": [
      "Are the two tuples equal? True\n"
     ]
    }
   ],
   "source": [
    "'''18. Compare two tuples.'''\n",
    "tuple1 = (1, 2, 3)\n",
    "tuple2 = (1, 2, 3)\n",
    "are_equal = tuple1 == tuple2\n",
    "print(\"Are the two tuples equal?\", are_equal)\n"
   ]
  },
  {
   "cell_type": "code",
   "execution_count": 145,
   "id": "6a3c25cf",
   "metadata": {},
   "outputs": [],
   "source": [
    "'''19. Delete a tuple.'''\n",
    "my_tuple = (1, 2, 3)\n",
    "del my_tuple\n",
    "# Uncommenting the next line will raise an error as the tuple has been deleted\n",
    "# print(\"Deleted tuple:\", my_tuple)\n"
   ]
  },
  {
   "cell_type": "code",
   "execution_count": 146,
   "id": "f75c4b31",
   "metadata": {},
   "outputs": [
    {
     "name": "stdout",
     "output_type": "stream",
     "text": [
      "Sliced tuple: (2, 3, 4)\n"
     ]
    }
   ],
   "source": [
    "'''20. Slice a tuple.'''\n",
    "my_tuple = (1, 2, 3, 4, 5)\n",
    "sliced_tuple = my_tuple[1:4]\n",
    "print(\"Sliced tuple:\", sliced_tuple)\n"
   ]
  },
  {
   "cell_type": "code",
   "execution_count": 147,
   "id": "8d69eabd",
   "metadata": {},
   "outputs": [
    {
     "name": "stdout",
     "output_type": "stream",
     "text": [
      "Maximum value in the tuple: 5\n"
     ]
    }
   ],
   "source": [
    "'''21. Find the maximum value in a tuple.'''\n",
    "my_tuple = (1, 2, 3, 4, 5)\n",
    "max_value = max(my_tuple)\n",
    "print(\"Maximum value in the tuple:\", max_value)\n"
   ]
  },
  {
   "cell_type": "code",
   "execution_count": 148,
   "id": "6c48cbc1",
   "metadata": {},
   "outputs": [
    {
     "name": "stdout",
     "output_type": "stream",
     "text": [
      "Minimum value in the tuple: 1\n"
     ]
    }
   ],
   "source": [
    "'''22. Find the minimum value in a tuple.'''\n",
    "my_tuple = (1, 2, 3, 4, 5)\n",
    "min_value = min(my_tuple)\n",
    "print(\"Minimum value in the tuple:\", min_value)\n"
   ]
  },
  {
   "cell_type": "code",
   "execution_count": 149,
   "id": "5252c4ce",
   "metadata": {},
   "outputs": [
    {
     "name": "stdout",
     "output_type": "stream",
     "text": [
      "Tuple of characters from string: ('h', 'e', 'l', 'l', 'o')\n"
     ]
    }
   ],
   "source": [
    "'''23. Convert a string to a tuple of characters.'''\n",
    "my_string = \"hello\"\n",
    "char_tuple = tuple(my_string)\n",
    "print(\"Tuple of characters from string:\", char_tuple)\n"
   ]
  },
  {
   "cell_type": "code",
   "execution_count": 150,
   "id": "bce86f9e",
   "metadata": {},
   "outputs": [
    {
     "name": "stdout",
     "output_type": "stream",
     "text": [
      "String from tuple of characters: hello\n"
     ]
    }
   ],
   "source": [
    "'''24. Convert a tuple of characters to a string.'''\n",
    "char_tuple = ('h', 'e', 'l', 'l', 'o')\n",
    "my_string = ''.join(char_tuple)\n",
    "print(\"String from tuple of characters:\", my_string)\n"
   ]
  },
  {
   "cell_type": "code",
   "execution_count": 151,
   "id": "92bc2baa",
   "metadata": {},
   "outputs": [
    {
     "name": "stdout",
     "output_type": "stream",
     "text": [
      "Tuple with multiple data types: (1, 'hello', 3.14, True)\n"
     ]
    }
   ],
   "source": [
    "'''25. Create a tuple from multiple data types.'''\n",
    "mixed_tuple = (1, \"hello\", 3.14, True)\n",
    "print(\"Tuple with multiple data types:\", mixed_tuple)\n"
   ]
  },
  {
   "cell_type": "code",
   "execution_count": 153,
   "id": "604410f3",
   "metadata": {},
   "outputs": [
    {
     "name": "stdout",
     "output_type": "stream",
     "text": [
      "Are the two tuples identical? True\n"
     ]
    }
   ],
   "source": [
    "'''26. Check if two tuples are identical.'''\n",
    "tuple1 = (1, 2, 3)\n",
    "tuple2 = (1, 2, 3)\n",
    "identical = tuple1 == tuple2\n",
    "print(\"Are the two tuples identical?\", identical)\n"
   ]
  },
  {
   "cell_type": "code",
   "execution_count": 154,
   "id": "a22c14ea",
   "metadata": {},
   "outputs": [
    {
     "name": "stdout",
     "output_type": "stream",
     "text": [
      "Sorted tuple: (1, 1, 3, 4, 5)\n"
     ]
    }
   ],
   "source": [
    "'''27. Sort the elements of a tuple.'''\n",
    "my_tuple = (3, 1, 4, 1, 5)\n",
    "sorted_tuple = tuple(sorted(my_tuple))\n",
    "print(\"Sorted tuple:\", sorted_tuple)\n"
   ]
  },
  {
   "cell_type": "code",
   "execution_count": 155,
   "id": "170cdca5",
   "metadata": {},
   "outputs": [
    {
     "name": "stdout",
     "output_type": "stream",
     "text": [
      "Tuple of strings from integers: ('1', '2', '3')\n"
     ]
    }
   ],
   "source": [
    "'''28. Convert a tuple of integers to a tuple of strings.'''\n",
    "int_tuple = (1, 2, 3)\n",
    "str_tuple = tuple(str(i) for i in int_tuple)\n",
    "print(\"Tuple of strings from integers:\", str_tuple)\n"
   ]
  },
  {
   "cell_type": "code",
   "execution_count": 156,
   "id": "97a16273",
   "metadata": {},
   "outputs": [
    {
     "name": "stdout",
     "output_type": "stream",
     "text": [
      "Tuple of integers from strings: (1, 2, 3)\n"
     ]
    }
   ],
   "source": [
    "'''29. Convert a tuple of strings to a tuple of integers.'''\n",
    "str_tuple = ('1', '2', '3')\n",
    "int_tuple = tuple(int(s) for s in str_tuple)\n",
    "print(\"Tuple of integers from strings:\", int_tuple)\n"
   ]
  },
  {
   "cell_type": "code",
   "execution_count": 157,
   "id": "c5b50396",
   "metadata": {},
   "outputs": [
    {
     "name": "stdout",
     "output_type": "stream",
     "text": [
      "Merged tuple: (1, 2, 3, 4)\n"
     ]
    }
   ],
   "source": [
    "'''30. Merge two tuples.'''\n",
    "tuple1 = (1, 2)\n",
    "tuple2 = (3, 4)\n",
    "merged_tuple = tuple1 + tuple2\n",
    "print(\"Merged tuple:\", merged_tuple)\n"
   ]
  },
  {
   "cell_type": "code",
   "execution_count": 158,
   "id": "8116563f",
   "metadata": {},
   "outputs": [
    {
     "name": "stdout",
     "output_type": "stream",
     "text": [
      "Flattened tuple: (1, 2, 3, 4, 5)\n"
     ]
    }
   ],
   "source": [
    "'''31. Flatten a nested tuple.'''\n",
    "def flatten_tuple(tup):\n",
    "    flat_list = []\n",
    "    for item in tup:\n",
    "        if isinstance(item, tuple):\n",
    "            flat_list.extend(flatten_tuple(item))\n",
    "        else:\n",
    "            flat_list.append(item)\n",
    "    return tuple(flat_list)\n",
    "\n",
    "nested_tuple = ((1, 2), (3, (4, 5)))\n",
    "flattened_tuple = flatten_tuple(nested_tuple)\n",
    "print(\"Flattened tuple:\", flattened_tuple)\n"
   ]
  },
  {
   "cell_type": "code",
   "execution_count": 159,
   "id": "6880047d",
   "metadata": {},
   "outputs": [
    {
     "name": "stdout",
     "output_type": "stream",
     "text": [
      "Tuple of the first 5 prime numbers: (2, 3, 5, 7, 11)\n"
     ]
    }
   ],
   "source": [
    "'''32. Create a tuple of the first 5 prime numbers.'''\n",
    "def is_prime(n):\n",
    "    if n <= 1:\n",
    "        return False\n",
    "    for i in range(2, int(n**0.5) + 1):\n",
    "        if n % i == 0:\n",
    "            return False\n",
    "    return True\n",
    "\n",
    "primes = []\n",
    "num = 2\n",
    "while len(primes) < 5:\n",
    "    if is_prime(num):\n",
    "        primes.append(num)\n",
    "    num += 1\n",
    "\n",
    "prime_tuple = tuple(primes)\n",
    "print(\"Tuple of the first 5 prime numbers:\", prime_tuple)\n"
   ]
  },
  {
   "cell_type": "code",
   "execution_count": 160,
   "id": "4655c706",
   "metadata": {},
   "outputs": [
    {
     "name": "stdout",
     "output_type": "stream",
     "text": [
      "Is the tuple a palindrome? True\n"
     ]
    }
   ],
   "source": [
    "'''33. Check if a tuple is a palindrome.'''\n",
    "def is_palindrome(tup):\n",
    "    return tup == tup[::-1]\n",
    "\n",
    "my_tuple = (1, 2, 3, 2, 1)\n",
    "print(\"Is the tuple a palindrome?\", is_palindrome(my_tuple))\n"
   ]
  },
  {
   "cell_type": "code",
   "execution_count": 161,
   "id": "7b67b2c0",
   "metadata": {},
   "outputs": [
    {
     "name": "stdout",
     "output_type": "stream",
     "text": [
      "Tuple of squares of numbers from 1 to 5: (1, 4, 9, 16, 25)\n"
     ]
    }
   ],
   "source": [
    "'''34. Create a tuple of squares of numbers from 1 to 5.'''\n",
    "squares_tuple = tuple(x**2 for x in range(1, 6))\n",
    "print(\"Tuple of squares of numbers from 1 to 5:\", squares_tuple)\n"
   ]
  },
  {
   "cell_type": "code",
   "execution_count": 163,
   "id": "5090de53",
   "metadata": {},
   "outputs": [
    {
     "name": "stdout",
     "output_type": "stream",
     "text": [
      "Tuple with even numbers filtered out: (1, 3, 5)\n"
     ]
    }
   ],
   "source": [
    "'''35. Filter out all even numbers from a tuple.'''\n",
    "my_tuple = (1, 2, 3, 4, 5)\n",
    "filtered_tuple = tuple(x for x in my_tuple if x % 2 != 0)\n",
    "print(\"Tuple with even numbers filtered out:\", filtered_tuple)\n"
   ]
  },
  {
   "cell_type": "code",
   "execution_count": 164,
   "id": "5fd9a135",
   "metadata": {},
   "outputs": [
    {
     "name": "stdout",
     "output_type": "stream",
     "text": [
      "Tuple with elements multiplied by 2: (2, 4, 6)\n"
     ]
    }
   ],
   "source": [
    "'''36. Multiply all elements in a tuple by 2.'''\n",
    "my_tuple = (1, 2, 3)\n",
    "multiplied_tuple = tuple(x * 2 for x in my_tuple)\n",
    "print(\"Tuple with elements multiplied by 2:\", multiplied_tuple)\n"
   ]
  },
  {
   "cell_type": "code",
   "execution_count": 165,
   "id": "342c784e",
   "metadata": {},
   "outputs": [
    {
     "name": "stdout",
     "output_type": "stream",
     "text": [
      "Tuple of random numbers: (12, 84, 13, 77, 32)\n"
     ]
    }
   ],
   "source": [
    "'''37. Create a tuple of random numbers.'''\n",
    "import random\n",
    "\n",
    "random_tuple = tuple(random.randint(1, 100) for _ in range(5))\n",
    "print(\"Tuple of random numbers:\", random_tuple)\n"
   ]
  },
  {
   "cell_type": "code",
   "execution_count": 166,
   "id": "5a0ec1c8",
   "metadata": {},
   "outputs": [
    {
     "name": "stdout",
     "output_type": "stream",
     "text": [
      "Is the tuple sorted? True\n"
     ]
    }
   ],
   "source": [
    "'''38. Check if a tuple is sorted.'''\n",
    "my_tuple = (1, 2, 3, 4, 5)\n",
    "is_sorted = my_tuple == tuple(sorted(my_tuple))\n",
    "print(\"Is the tuple sorted?\", is_sorted)\n"
   ]
  },
  {
   "cell_type": "code",
   "execution_count": 167,
   "id": "bd9a623a",
   "metadata": {},
   "outputs": [
    {
     "name": "stdout",
     "output_type": "stream",
     "text": [
      "Tuple rotated left by 2 positions: (3, 4, 5, 1, 2)\n"
     ]
    }
   ],
   "source": [
    "'''39. Rotate a tuple to the left by `n` positions.'''\n",
    "def rotate_left(tup, n):\n",
    "    n = n % len(tup)  # Handle rotations greater than tuple length\n",
    "    return tup[n:] + tup[:n]\n",
    "\n",
    "my_tuple = (1, 2, 3, 4, 5)\n",
    "rotated_tuple = rotate_left(my_tuple, 2)\n",
    "print(\"Tuple rotated left by 2 positions:\", rotated_tuple)\n"
   ]
  },
  {
   "cell_type": "code",
   "execution_count": 168,
   "id": "05ebea37",
   "metadata": {},
   "outputs": [
    {
     "name": "stdout",
     "output_type": "stream",
     "text": [
      "Tuple rotated right by 2 positions: (4, 5, 1, 2, 3)\n"
     ]
    }
   ],
   "source": [
    "'''40. Rotate a tuple to the right by `n` positions.'''\n",
    "def rotate_right(tup, n):\n",
    "    n = n % len(tup)  # Handle rotations greater than tuple length\n",
    "    return tup[-n:] + tup[:-n]\n",
    "\n",
    "my_tuple = (1, 2, 3, 4, 5)\n",
    "rotated_tuple = rotate_right(my_tuple, 2)\n",
    "print(\"Tuple rotated right by 2 positions:\", rotated_tuple)\n"
   ]
  },
  {
   "cell_type": "code",
   "execution_count": 169,
   "id": "832c01d3",
   "metadata": {},
   "outputs": [
    {
     "name": "stdout",
     "output_type": "stream",
     "text": [
      "Tuple of the first 5 Fibonacci numbers: (0, 1, 1, 2, 3)\n"
     ]
    }
   ],
   "source": [
    "'''41. Create a tuple of the first 5 Fibonacci numbers.'''\n",
    "def fibonacci(n):\n",
    "    fibs = [0, 1]\n",
    "    while len(fibs) < n:\n",
    "        fibs.append(fibs[-1] + fibs[-2])\n",
    "    return tuple(fibs)\n",
    "\n",
    "fib_tuple = fibonacci(5)\n",
    "print(\"Tuple of the first 5 Fibonacci numbers:\", fib_tuple)\n"
   ]
  },
  {
   "cell_type": "code",
   "execution_count": 170,
   "id": "951613a6",
   "metadata": {},
   "outputs": [
    {
     "name": "stdout",
     "output_type": "stream",
     "text": [
      "Enter values separated by commas: 1,2,3,4\n",
      "Tuple from user input: ('1', '2', '3', '4')\n"
     ]
    }
   ],
   "source": [
    "'''42. Create a tuple from user input.'''\n",
    "user_input = input(\"Enter values separated by commas: \")\n",
    "user_tuple = tuple(user_input.split(','))\n",
    "print(\"Tuple from user input:\", user_tuple)\n"
   ]
  },
  {
   "cell_type": "code",
   "execution_count": 171,
   "id": "415a1f95",
   "metadata": {},
   "outputs": [
    {
     "name": "stdout",
     "output_type": "stream",
     "text": [
      "Tuple after swapping elements at indices 1 and 3: (1, 4, 3, 2)\n"
     ]
    }
   ],
   "source": [
    "'''43. Swap two elements in a tuple.'''\n",
    "def swap_elements(tup, index1, index2):\n",
    "    tup = list(tup)  # Convert to list for swapping\n",
    "    tup[index1], tup[index2] = tup[index2], tup[index1]\n",
    "    return tuple(tup)\n",
    "\n",
    "my_tuple = (1, 2, 3, 4)\n",
    "swapped_tuple = swap_elements(my_tuple, 1, 3)\n",
    "print(\"Tuple after swapping elements at indices 1 and 3:\", swapped_tuple)\n"
   ]
  },
  {
   "cell_type": "code",
   "execution_count": 172,
   "id": "0142f89a",
   "metadata": {},
   "outputs": [
    {
     "name": "stdout",
     "output_type": "stream",
     "text": [
      "Reversed tuple: (4, 3, 2, 1)\n"
     ]
    }
   ],
   "source": [
    "'''44. Reverse the elements of a tuple.'''\n",
    "my_tuple = (1, 2, 3, 4)\n",
    "reversed_tuple = my_tuple[::-1]\n",
    "print(\"Reversed tuple:\", reversed_tuple)\n"
   ]
  },
  {
   "cell_type": "code",
   "execution_count": 173,
   "id": "7c7c85f5",
   "metadata": {},
   "outputs": [
    {
     "name": "stdout",
     "output_type": "stream",
     "text": [
      "Tuple of the first 5 powers of 2: (1, 2, 4, 8, 16)\n"
     ]
    }
   ],
   "source": [
    "'''45. Create a tuple of the first `n` powers of 2.'''\n",
    "n = 5\n",
    "powers_of_2 = tuple(2**i for i in range(n))\n",
    "print(\"Tuple of the first\", n, \"powers of 2:\", powers_of_2)\n"
   ]
  },
  {
   "cell_type": "code",
   "execution_count": 174,
   "id": "e9b79bf2",
   "metadata": {},
   "outputs": [
    {
     "name": "stdout",
     "output_type": "stream",
     "text": [
      "Longest string in the tuple: banana\n"
     ]
    }
   ],
   "source": [
    "'''46. Find the longest string in a tuple of strings.'''\n",
    "string_tuple = (\"apple\", \"banana\", \"cherry\")\n",
    "longest_string = max(string_tuple, key=len)\n",
    "print(\"Longest string in the tuple:\", longest_string)\n"
   ]
  },
  {
   "cell_type": "code",
   "execution_count": 175,
   "id": "3d4f8681",
   "metadata": {},
   "outputs": [
    {
     "name": "stdout",
     "output_type": "stream",
     "text": [
      "Shortest string in the tuple: apple\n"
     ]
    }
   ],
   "source": [
    "'''47. Find the shortest string in a tuple of strings.'''\n",
    "string_tuple = (\"apple\", \"banana\", \"cherry\")\n",
    "shortest_string = min(string_tuple, key=len)\n",
    "print(\"Shortest string in the tuple:\", shortest_string)\n"
   ]
  },
  {
   "cell_type": "code",
   "execution_count": 176,
   "id": "c8b64708",
   "metadata": {},
   "outputs": [
    {
     "name": "stdout",
     "output_type": "stream",
     "text": [
      "Tuple of the first 5 triangular numbers: (1, 3, 6, 10, 15)\n"
     ]
    }
   ],
   "source": [
    "'''48. Create a tuple of the first `n` triangular numbers.'''\n",
    "def triangular_numbers(n):\n",
    "    return tuple(sum(range(1, i+1)) for i in range(1, n+1))\n",
    "\n",
    "n = 5\n",
    "triangular_tuple = triangular_numbers(n)\n",
    "print(\"Tuple of the first\", n, \"triangular numbers:\", triangular_tuple)\n"
   ]
  },
  {
   "cell_type": "code",
   "execution_count": 177,
   "id": "0e05a55f",
   "metadata": {},
   "outputs": [
    {
     "name": "stdout",
     "output_type": "stream",
     "text": [
      "Does the main tuple contain the sub tuple as a subsequence? True\n"
     ]
    }
   ],
   "source": [
    "'''49. Check if a tuple contains another tuple as a subsequence.'''\n",
    "def is_subsequence(tup, subseq):\n",
    "    it = iter(tup)\n",
    "    return all(item in it for item in subseq)\n",
    "\n",
    "main_tuple = (1, 2, 3, 4, 5)\n",
    "sub_tuple = (2, 4)\n",
    "print(\"Does the main tuple contain the sub tuple as a subsequence?\", is_subsequence(main_tuple, sub_tuple))\n"
   ]
  },
  {
   "cell_type": "code",
   "execution_count": 178,
   "id": "48d2db0c",
   "metadata": {},
   "outputs": [
    {
     "name": "stdout",
     "output_type": "stream",
     "text": [
      "Tuple of alternating 1s and 0s of length 6 : (0, 1, 0, 1, 0, 1)\n"
     ]
    }
   ],
   "source": [
    "'''50. Create a tuple of alternating 1s and 0s of length `n`.'''\n",
    "n = 6\n",
    "alternating_tuple = tuple(i % 2 for i in range(n))\n",
    "print(\"Tuple of alternating 1s and 0s of length\", n, \":\", alternating_tuple)\n"
   ]
  },
  {
   "cell_type": "markdown",
   "id": "f8b53d04",
   "metadata": {},
   "source": [
    "# Set Based Practice Problem :"
   ]
  },
  {
   "cell_type": "code",
   "execution_count": 179,
   "id": "055c949d",
   "metadata": {},
   "outputs": [
    {
     "name": "stdout",
     "output_type": "stream",
     "text": [
      "Set with integers from 1 to 5: {1, 2, 3, 4, 5}\n"
     ]
    }
   ],
   "source": [
    "'''1. Create a set with integers from 1 to 5.'''\n",
    "my_set = {1, 2, 3, 4, 5}\n",
    "print(\"Set with integers from 1 to 5:\", my_set)\n"
   ]
  },
  {
   "cell_type": "code",
   "execution_count": 180,
   "id": "7cfd5e45",
   "metadata": {},
   "outputs": [
    {
     "name": "stdout",
     "output_type": "stream",
     "text": [
      "Set after adding 4: {1, 2, 3, 4}\n"
     ]
    }
   ],
   "source": [
    "'''2. Add an element to a set.'''\n",
    "my_set = {1, 2, 3}\n",
    "my_set.add(4)\n",
    "print(\"Set after adding 4:\", my_set)\n"
   ]
  },
  {
   "cell_type": "code",
   "execution_count": 181,
   "id": "f0b0a99b",
   "metadata": {},
   "outputs": [
    {
     "name": "stdout",
     "output_type": "stream",
     "text": [
      "Set after removing 3: {1, 2, 4}\n"
     ]
    }
   ],
   "source": [
    "'''3. Remove an element from a set.'''\n",
    "my_set = {1, 2, 3, 4}\n",
    "my_set.remove(3)\n",
    "print(\"Set after removing 3:\", my_set)\n"
   ]
  },
  {
   "cell_type": "code",
   "execution_count": 182,
   "id": "a036febb",
   "metadata": {},
   "outputs": [
    {
     "name": "stdout",
     "output_type": "stream",
     "text": [
      "Does 2 exist in the set? True\n"
     ]
    }
   ],
   "source": [
    "'''4. Check if an element exists in a set.'''\n",
    "my_set = {1, 2, 3}\n",
    "exists = 2 in my_set\n",
    "print(\"Does 2 exist in the set?\", exists)\n"
   ]
  },
  {
   "cell_type": "code",
   "execution_count": 183,
   "id": "54a8c102",
   "metadata": {},
   "outputs": [
    {
     "name": "stdout",
     "output_type": "stream",
     "text": [
      "Length of the set: 4\n"
     ]
    }
   ],
   "source": [
    "'''5. Find the length of a set without using the `len()` function.'''\n",
    "def set_length(s):\n",
    "    count = 0\n",
    "    for _ in s:\n",
    "        count += 1\n",
    "    return count\n",
    "\n",
    "my_set = {1, 2, 3, 4}\n",
    "print(\"Length of the set:\", set_length(my_set))\n"
   ]
  },
  {
   "cell_type": "code",
   "execution_count": 184,
   "id": "03260ac7",
   "metadata": {},
   "outputs": [
    {
     "name": "stdout",
     "output_type": "stream",
     "text": [
      "Set after clearing all elements: set()\n"
     ]
    }
   ],
   "source": [
    "'''6. Clear all elements from a set.'''\n",
    "my_set = {1, 2, 3, 4}\n",
    "my_set.clear()\n",
    "print(\"Set after clearing all elements:\", my_set)\n"
   ]
  },
  {
   "cell_type": "code",
   "execution_count": 185,
   "id": "cf957ecb",
   "metadata": {},
   "outputs": [
    {
     "name": "stdout",
     "output_type": "stream",
     "text": [
      "Set of even numbers from 1 to 10: {2, 4, 6, 8, 10}\n"
     ]
    }
   ],
   "source": [
    "'''7. Create a set of even numbers from 1 to 10.'''\n",
    "even_set = {x for x in range(1, 11) if x % 2 == 0}\n",
    "print(\"Set of even numbers from 1 to 10:\", even_set)\n"
   ]
  },
  {
   "cell_type": "code",
   "execution_count": 186,
   "id": "89fa4d9d",
   "metadata": {},
   "outputs": [
    {
     "name": "stdout",
     "output_type": "stream",
     "text": [
      "Set of odd numbers from 1 to 10: {1, 3, 5, 7, 9}\n"
     ]
    }
   ],
   "source": [
    "'''8. Create a set of odd numbers from 1 to 10.'''\n",
    "odd_set = {x for x in range(1, 11) if x % 2 != 0}\n",
    "print(\"Set of odd numbers from 1 to 10:\", odd_set)\n"
   ]
  },
  {
   "cell_type": "code",
   "execution_count": 187,
   "id": "63adaa2e",
   "metadata": {},
   "outputs": [
    {
     "name": "stdout",
     "output_type": "stream",
     "text": [
      "Union of the two sets: {1, 2, 3, 4, 5}\n"
     ]
    }
   ],
   "source": [
    "'''9. Find the union of two sets.'''\n",
    "set1 = {1, 2, 3}\n",
    "set2 = {3, 4, 5}\n",
    "union_set = set1 | set2\n",
    "print(\"Union of the two sets:\", union_set)\n"
   ]
  },
  {
   "cell_type": "code",
   "execution_count": 188,
   "id": "853aa329",
   "metadata": {},
   "outputs": [
    {
     "name": "stdout",
     "output_type": "stream",
     "text": [
      "Intersection of the two sets: {3}\n"
     ]
    }
   ],
   "source": [
    "'''10. Find the intersection of two sets.'''\n",
    "set1 = {1, 2, 3}\n",
    "set2 = {3, 4, 5}\n",
    "intersection_set = set1 & set2\n",
    "print(\"Intersection of the two sets:\", intersection_set)\n"
   ]
  },
  {
   "cell_type": "code",
   "execution_count": 189,
   "id": "33793f12",
   "metadata": {},
   "outputs": [
    {
     "name": "stdout",
     "output_type": "stream",
     "text": [
      "Difference between the two sets: {1, 2}\n"
     ]
    }
   ],
   "source": [
    "'''11. Find the difference between two sets.'''\n",
    "set1 = {1, 2, 3}\n",
    "set2 = {3, 4, 5}\n",
    "difference_set = set1 - set2\n",
    "print(\"Difference between the two sets:\", difference_set)\n"
   ]
  },
  {
   "cell_type": "code",
   "execution_count": 190,
   "id": "75091f5d",
   "metadata": {},
   "outputs": [
    {
     "name": "stdout",
     "output_type": "stream",
     "text": [
      "Is set1 a subset of set2? True\n"
     ]
    }
   ],
   "source": [
    "'''12. Check if a set is a subset of another set.'''\n",
    "set1 = {1, 2}\n",
    "set2 = {1, 2, 3}\n",
    "is_subset = set1.issubset(set2)\n",
    "print(\"Is set1 a subset of set2?\", is_subset)\n"
   ]
  },
  {
   "cell_type": "code",
   "execution_count": 192,
   "id": "3a574c15",
   "metadata": {},
   "outputs": [
    {
     "name": "stdout",
     "output_type": "stream",
     "text": [
      "Is set1 a superset of set2? True\n"
     ]
    }
   ],
   "source": [
    "'''13. Check if a set is a superset of another set.'''\n",
    "set1 = {1, 2, 3}\n",
    "set2 = {1, 2}\n",
    "is_superset = set1.issuperset(set2)\n",
    "print(\"Is set1 a superset of set2?\", is_superset)\n"
   ]
  },
  {
   "cell_type": "code",
   "execution_count": 193,
   "id": "8d3942de",
   "metadata": {},
   "outputs": [
    {
     "name": "stdout",
     "output_type": "stream",
     "text": [
      "Set created from list: {1, 2, 3, 4}\n"
     ]
    }
   ],
   "source": [
    "'''14. Create a set from a list.'''\n",
    "my_list = [1, 2, 2, 3, 4]\n",
    "my_set = set(my_list)\n",
    "print(\"Set created from list:\", my_set)\n"
   ]
  },
  {
   "cell_type": "code",
   "execution_count": 194,
   "id": "8c37f52e",
   "metadata": {},
   "outputs": [
    {
     "name": "stdout",
     "output_type": "stream",
     "text": [
      "List converted from set: [1, 2, 3, 4]\n"
     ]
    }
   ],
   "source": [
    "'''15. Convert a set to a list.'''\n",
    "my_set = {1, 2, 3, 4}\n",
    "my_list = list(my_set)\n",
    "print(\"List converted from set:\", my_list)\n"
   ]
  },
  {
   "cell_type": "code",
   "execution_count": 195,
   "id": "d67c3171",
   "metadata": {},
   "outputs": [
    {
     "name": "stdout",
     "output_type": "stream",
     "text": [
      "Set after removing a random element: {1, 2, 4}\n"
     ]
    }
   ],
   "source": [
    "'''16. Remove a random element from a set.'''\n",
    "import random\n",
    "\n",
    "my_set = {1, 2, 3, 4}\n",
    "element = random.choice(tuple(my_set))\n",
    "my_set.remove(element)\n",
    "print(\"Set after removing a random element:\", my_set)\n"
   ]
  },
  {
   "cell_type": "code",
   "execution_count": 196,
   "id": "9f2147c9",
   "metadata": {},
   "outputs": [
    {
     "name": "stdout",
     "output_type": "stream",
     "text": [
      "Popped element: 1\n",
      "Set after popping an element: {2, 3, 4}\n"
     ]
    }
   ],
   "source": [
    "'''17. Pop an element from a set.'''\n",
    "my_set = {1, 2, 3, 4}\n",
    "popped_element = my_set.pop()\n",
    "print(\"Popped element:\", popped_element)\n",
    "print(\"Set after popping an element:\", my_set)\n"
   ]
  },
  {
   "cell_type": "code",
   "execution_count": 197,
   "id": "d41da11e",
   "metadata": {},
   "outputs": [
    {
     "name": "stdout",
     "output_type": "stream",
     "text": [
      "Do the two sets have no elements in common? True\n"
     ]
    }
   ],
   "source": [
    "'''18. Check if two sets have no elements in common.'''\n",
    "set1 = {1, 2, 3}\n",
    "set2 = {4, 5, 6}\n",
    "no_common_elements = set1.isdisjoint(set2)\n",
    "print(\"Do the two sets have no elements in common?\", no_common_elements)\n"
   ]
  },
  {
   "cell_type": "code",
   "execution_count": 198,
   "id": "ffe02a4b",
   "metadata": {},
   "outputs": [
    {
     "name": "stdout",
     "output_type": "stream",
     "text": [
      "Symmetric difference between the two sets: {1, 2, 4, 5}\n"
     ]
    }
   ],
   "source": [
    "'''19. Find the symmetric difference between two sets.'''\n",
    "set1 = {1, 2, 3}\n",
    "set2 = {3, 4, 5}\n",
    "symmetric_diff = set1 ^ set2\n",
    "print(\"Symmetric difference between the two sets:\", symmetric_diff)\n"
   ]
  },
  {
   "cell_type": "code",
   "execution_count": 199,
   "id": "6619b0a7",
   "metadata": {},
   "outputs": [
    {
     "name": "stdout",
     "output_type": "stream",
     "text": [
      "Set1 after updating with elements from Set2: {1, 2, 3, 4, 5}\n"
     ]
    }
   ],
   "source": [
    "'''20. Update a set with elements from another set.'''\n",
    "set1 = {1, 2, 3}\n",
    "set2 = {3, 4, 5}\n",
    "set1.update(set2)\n",
    "print(\"Set1 after updating with elements from Set2:\", set1)\n"
   ]
  },
  {
   "cell_type": "code",
   "execution_count": 200,
   "id": "1456e584",
   "metadata": {},
   "outputs": [
    {
     "name": "stdout",
     "output_type": "stream",
     "text": [
      "Set of the first 5 prime numbers: {2, 3, 5, 7, 11}\n"
     ]
    }
   ],
   "source": [
    "'''21. Create a set of the first 5 prime numbers.'''\n",
    "def is_prime(n):\n",
    "    if n <= 1:\n",
    "        return False\n",
    "    for i in range(2, int(n**0.5) + 1):\n",
    "        if n % i == 0:\n",
    "            return False\n",
    "    return True\n",
    "\n",
    "primes = set()\n",
    "num = 2\n",
    "while len(primes) < 5:\n",
    "    if is_prime(num):\n",
    "        primes.add(num)\n",
    "    num += 1\n",
    "\n",
    "print(\"Set of the first 5 prime numbers:\", primes)\n"
   ]
  },
  {
   "cell_type": "code",
   "execution_count": 201,
   "id": "8f5d1861",
   "metadata": {},
   "outputs": [
    {
     "name": "stdout",
     "output_type": "stream",
     "text": [
      "Are the two sets identical? True\n"
     ]
    }
   ],
   "source": [
    "'''22. Check if two sets are identical.'''\n",
    "set1 = {1, 2, 3}\n",
    "set2 = {1, 2, 3}\n",
    "identical = set1 == set2\n",
    "print(\"Are the two sets identical?\", identical)\n"
   ]
  },
  {
   "cell_type": "code",
   "execution_count": 202,
   "id": "8b7a60e4",
   "metadata": {},
   "outputs": [
    {
     "name": "stdout",
     "output_type": "stream",
     "text": [
      "Frozen set: frozenset({1, 2, 3, 4})\n"
     ]
    }
   ],
   "source": [
    "'''23. Create a frozen set.'''\n",
    "my_frozen_set = frozenset([1, 2, 3, 4])\n",
    "print(\"Frozen set:\", my_frozen_set)\n"
   ]
  },
  {
   "cell_type": "code",
   "execution_count": 203,
   "id": "b9b1f63c",
   "metadata": {},
   "outputs": [
    {
     "name": "stdout",
     "output_type": "stream",
     "text": [
      "Is set1 disjoint with set2? True\n"
     ]
    }
   ],
   "source": [
    "'''24. Check if a set is disjoint with another set.'''\n",
    "set1 = {1, 2, 3}\n",
    "set2 = {4, 5, 6}\n",
    "is_disjoint = set1.isdisjoint(set2)\n",
    "print(\"Is set1 disjoint with set2?\", is_disjoint)\n"
   ]
  },
  {
   "cell_type": "code",
   "execution_count": 204,
   "id": "530f7e3e",
   "metadata": {},
   "outputs": [
    {
     "name": "stdout",
     "output_type": "stream",
     "text": [
      "Set of squares of numbers from 1 to 5: {1, 4, 9, 16, 25}\n"
     ]
    }
   ],
   "source": [
    "'''25. Create a set of squares of numbers from 1 to 5.'''\n",
    "squares_set = {x**2 for x in range(1, 6)}\n",
    "print(\"Set of squares of numbers from 1 to 5:\", squares_set)\n"
   ]
  },
  {
   "cell_type": "code",
   "execution_count": 205,
   "id": "c4a36ce3",
   "metadata": {},
   "outputs": [
    {
     "name": "stdout",
     "output_type": "stream",
     "text": [
      "Set with even numbers filtered out: {1, 3, 5}\n"
     ]
    }
   ],
   "source": [
    "'''26. Filter out all even numbers from a set.'''\n",
    "my_set = {1, 2, 3, 4, 5}\n",
    "filtered_set = {x for x in my_set if x % 2 != 0}\n",
    "print(\"Set with even numbers filtered out:\", filtered_set)\n"
   ]
  },
  {
   "cell_type": "code",
   "execution_count": 206,
   "id": "f13f1991",
   "metadata": {},
   "outputs": [
    {
     "name": "stdout",
     "output_type": "stream",
     "text": [
      "Set with elements multiplied by 2: {2, 4, 6}\n"
     ]
    }
   ],
   "source": [
    "'''27. Multiply all elements in a set by 2.'''\n",
    "my_set = {1, 2, 3}\n",
    "multiplied_set = {x * 2 for x in my_set}\n",
    "print(\"Set with elements multiplied by 2:\", multiplied_set)\n"
   ]
  },
  {
   "cell_type": "code",
   "execution_count": 207,
   "id": "e35e84a2",
   "metadata": {},
   "outputs": [
    {
     "name": "stdout",
     "output_type": "stream",
     "text": [
      "Set of random numbers: {9, 51, 71}\n"
     ]
    }
   ],
   "source": [
    "'''28. Create a set of random numbers.'''\n",
    "import random\n",
    "\n",
    "random_set = {random.randint(1, 100) for _ in range(5)}\n",
    "print(\"Set of random numbers:\", random_set)\n"
   ]
  },
  {
   "cell_type": "code",
   "execution_count": 208,
   "id": "34b075cd",
   "metadata": {},
   "outputs": [
    {
     "name": "stdout",
     "output_type": "stream",
     "text": [
      "Is the set empty? True\n"
     ]
    }
   ],
   "source": [
    "'''29. Check if a set is empty.'''\n",
    "my_set = set()\n",
    "is_empty = not bool(my_set)\n",
    "print(\"Is the set empty?\", is_empty)\n"
   ]
  },
  {
   "cell_type": "code",
   "execution_count": 209,
   "id": "e61aab5d",
   "metadata": {},
   "outputs": [
    {
     "name": "stdout",
     "output_type": "stream",
     "text": [
      "Nested set: frozenset({frozenset({3, 4}), 1, 2})\n"
     ]
    }
   ],
   "source": [
    "'''30. Create a nested set (hint: use frozenset).'''\n",
    "nested_set = frozenset({1, 2, frozenset({3, 4})})\n",
    "print(\"Nested set:\", nested_set)\n"
   ]
  },
  {
   "cell_type": "code",
   "execution_count": 210,
   "id": "804f1653",
   "metadata": {},
   "outputs": [
    {
     "name": "stdout",
     "output_type": "stream",
     "text": [
      "Set after discarding 3: {1, 2, 4}\n"
     ]
    }
   ],
   "source": [
    "'''31. Remove an element from a set using the discard method.'''\n",
    "my_set = {1, 2, 3, 4}\n",
    "my_set.discard(3)\n",
    "print(\"Set after discarding 3:\", my_set)\n"
   ]
  },
  {
   "cell_type": "code",
   "execution_count": 211,
   "id": "353da065",
   "metadata": {},
   "outputs": [
    {
     "name": "stdout",
     "output_type": "stream",
     "text": [
      "Are the two sets equal? True\n"
     ]
    }
   ],
   "source": [
    "'''32. Compare two sets.'''\n",
    "set1 = {1, 2, 3}\n",
    "set2 = {1, 2, 3}\n",
    "comparison = set1 == set2\n",
    "print(\"Are the two sets equal?\", comparison)\n"
   ]
  },
  {
   "cell_type": "code",
   "execution_count": 212,
   "id": "82b494ae",
   "metadata": {},
   "outputs": [
    {
     "name": "stdout",
     "output_type": "stream",
     "text": [
      "Set created from the string: {'e', 'h', 'o', 'l'}\n"
     ]
    }
   ],
   "source": [
    "'''33. Create a set from a string.'''\n",
    "my_string = \"hello\"\n",
    "char_set = set(my_string)\n",
    "print(\"Set created from the string:\", char_set)\n"
   ]
  },
  {
   "cell_type": "code",
   "execution_count": 213,
   "id": "a3756ebb",
   "metadata": {},
   "outputs": [
    {
     "name": "stdout",
     "output_type": "stream",
     "text": [
      "Set of integers from string set: {1, 2, 3}\n"
     ]
    }
   ],
   "source": [
    "'''34. Convert a set of strings to a set of integers.'''\n",
    "string_set = {\"1\", \"2\", \"3\"}\n",
    "int_set = set(map(int, string_set))\n",
    "print(\"Set of integers from string set:\", int_set)\n"
   ]
  },
  {
   "cell_type": "code",
   "execution_count": 214,
   "id": "98f9d964",
   "metadata": {},
   "outputs": [
    {
     "name": "stdout",
     "output_type": "stream",
     "text": [
      "Set of strings from integer set: {'2', '3', '1'}\n"
     ]
    }
   ],
   "source": [
    "'''35. Convert a set of integers to a set of strings.'''\n",
    "int_set = {1, 2, 3}\n",
    "string_set = set(map(str, int_set))\n",
    "print(\"Set of strings from integer set:\", string_set)\n"
   ]
  },
  {
   "cell_type": "code",
   "execution_count": 215,
   "id": "6beb66c0",
   "metadata": {},
   "outputs": [
    {
     "name": "stdout",
     "output_type": "stream",
     "text": [
      "Set created from tuple: {1, 2, 3, 4}\n"
     ]
    }
   ],
   "source": [
    "'''36. Create a set from a tuple.'''\n",
    "my_tuple = (1, 2, 3, 4)\n",
    "my_set = set(my_tuple)\n",
    "print(\"Set created from tuple:\", my_set)\n"
   ]
  },
  {
   "cell_type": "code",
   "execution_count": 216,
   "id": "8dc5e20c",
   "metadata": {},
   "outputs": [
    {
     "name": "stdout",
     "output_type": "stream",
     "text": [
      "Tuple converted from set: (1, 2, 3, 4)\n"
     ]
    }
   ],
   "source": [
    "'''37. Convert a set to a tuple.'''\n",
    "my_set = {1, 2, 3, 4}\n",
    "my_tuple = tuple(my_set)\n",
    "print(\"Tuple converted from set:\", my_tuple)\n"
   ]
  },
  {
   "cell_type": "code",
   "execution_count": 217,
   "id": "a7c303c9",
   "metadata": {},
   "outputs": [
    {
     "name": "stdout",
     "output_type": "stream",
     "text": [
      "Maximum value in the set: 4\n"
     ]
    }
   ],
   "source": [
    "'''38. Find the maximum value in a set.'''\n",
    "my_set = {1, 2, 3, 4}\n",
    "max_value = max(my_set)\n",
    "print(\"Maximum value in the set:\", max_value)\n"
   ]
  },
  {
   "cell_type": "code",
   "execution_count": 218,
   "id": "d04c751f",
   "metadata": {},
   "outputs": [
    {
     "name": "stdout",
     "output_type": "stream",
     "text": [
      "Minimum value in the set: 1\n"
     ]
    }
   ],
   "source": [
    "'''39. Find the minimum value in a set.'''\n",
    "my_set = {1, 2, 3, 4}\n",
    "min_value = min(my_set)\n",
    "print(\"Minimum value in the set:\", min_value)\n"
   ]
  },
  {
   "cell_type": "code",
   "execution_count": 220,
   "id": "070cab55",
   "metadata": {},
   "outputs": [
    {
     "name": "stdout",
     "output_type": "stream",
     "text": [
      "Enter values separated by commas: 1,2,3,4\n",
      "Set from user input: {'2', '3', '1', '4'}\n"
     ]
    }
   ],
   "source": [
    "'''40. Create a set from user input.'''\n",
    "user_input = input(\"Enter values separated by commas: \")\n",
    "user_set = set(user_input.split(','))\n",
    "print(\"Set from user input:\", user_set)"
   ]
  },
  {
   "cell_type": "code",
   "execution_count": 221,
   "id": "327aa111",
   "metadata": {},
   "outputs": [
    {
     "name": "stdout",
     "output_type": "stream",
     "text": [
      "Is the intersection of the two sets empty? True\n"
     ]
    }
   ],
   "source": [
    "'''41. Check if the intersection of two sets is empty.'''\n",
    "set1 = {1, 2, 3}\n",
    "set2 = {4, 5, 6}\n",
    "intersection_empty = set1.isdisjoint(set2)\n",
    "print(\"Is the intersection of the two sets empty?\", intersection_empty)\n"
   ]
  },
  {
   "cell_type": "code",
   "execution_count": 222,
   "id": "f7e1c691",
   "metadata": {},
   "outputs": [
    {
     "name": "stdout",
     "output_type": "stream",
     "text": [
      "Set of the first 5 Fibonacci numbers: {0, 1, 2, 3}\n"
     ]
    }
   ],
   "source": [
    "'''42. Create a set of the first 5 Fibonacci numbers.'''\n",
    "def fibonacci(n):\n",
    "    fibs = [0, 1]\n",
    "    while len(fibs) < n:\n",
    "        fibs.append(fibs[-1] + fibs[-2])\n",
    "    return set(fibs)\n",
    "\n",
    "fib_set = fibonacci(5)\n",
    "print(\"Set of the first 5 Fibonacci numbers:\", fib_set)\n"
   ]
  },
  {
   "cell_type": "code",
   "execution_count": 223,
   "id": "1438a66a",
   "metadata": {},
   "outputs": [
    {
     "name": "stdout",
     "output_type": "stream",
     "text": [
      "List after removing duplicates: [1, 2, 3, 4]\n"
     ]
    }
   ],
   "source": [
    "'''43. Remove duplicates from a list using sets.'''\n",
    "my_list = [1, 2, 2, 3, 4, 4]\n",
    "unique_set = set(my_list)\n",
    "unique_list = list(unique_set)\n",
    "print(\"List after removing duplicates:\", unique_list)\n"
   ]
  },
  {
   "cell_type": "code",
   "execution_count": 224,
   "id": "9696af57",
   "metadata": {},
   "outputs": [
    {
     "name": "stdout",
     "output_type": "stream",
     "text": [
      "Do the two sets have the same elements? True\n"
     ]
    }
   ],
   "source": [
    "'''44. Check if two sets have the same elements, regardless of their count.'''\n",
    "set1 = {1, 2, 3}\n",
    "set2 = {3, 2, 1}\n",
    "same_elements = set1 == set2\n",
    "print(\"Do the two sets have the same elements?\", same_elements)\n"
   ]
  },
  {
   "cell_type": "code",
   "execution_count": 225,
   "id": "82efb5ff",
   "metadata": {},
   "outputs": [
    {
     "name": "stdout",
     "output_type": "stream",
     "text": [
      "Set of the first 5 powers of 2: {1, 2, 4, 8, 16}\n"
     ]
    }
   ],
   "source": [
    "'''45. Create a set of the first `n` powers of 2.'''\n",
    "n = 5\n",
    "powers_of_2 = {2**i for i in range(n)}\n",
    "print(\"Set of the first\", n, \"powers of 2:\", powers_of_2)\n"
   ]
  },
  {
   "cell_type": "code",
   "execution_count": 226,
   "id": "5ca0c34c",
   "metadata": {},
   "outputs": [
    {
     "name": "stdout",
     "output_type": "stream",
     "text": [
      "Common elements between the set and list: {2, 3}\n"
     ]
    }
   ],
   "source": [
    "'''46. Find the common elements between a set and a list.'''\n",
    "my_set = {1, 2, 3}\n",
    "my_list = [2, 3, 4]\n",
    "common_elements = my_set & set(my_list)\n",
    "print(\"Common elements between the set and list:\", common_elements)\n"
   ]
  },
  {
   "cell_type": "code",
   "execution_count": 227,
   "id": "3903cf7b",
   "metadata": {},
   "outputs": [
    {
     "name": "stdout",
     "output_type": "stream",
     "text": [
      "Set of the first 5 triangular numbers: {1, 3, 6, 10, 15}\n"
     ]
    }
   ],
   "source": [
    "'''47. Create a set of the first `n` triangular numbers.'''\n",
    "def triangular_numbers(n):\n",
    "    return {sum(range(1, i+1)) for i in range(1, n+1)}\n",
    "\n",
    "n = 5\n",
    "triangular_set = triangular_numbers(n)\n",
    "print(\"Set of the first\", n, \"triangular numbers:\", triangular_set)\n"
   ]
  },
  {
   "cell_type": "code",
   "execution_count": 228,
   "id": "267f5800",
   "metadata": {},
   "outputs": [
    {
     "name": "stdout",
     "output_type": "stream",
     "text": [
      "Is set2 a subset of set1? True\n"
     ]
    }
   ],
   "source": [
    "'''48. check if a set contains another set as a subset.'''\n",
    "# Define the sets\n",
    "set1 = {1, 2, 3, 4, 5}\n",
    "set2 = {2, 3}\n",
    "\n",
    "# Check if set2 is a subset of set1\n",
    "is_subset = set2.issubset(set1)\n",
    "print(\"Is set2 a subset of set1?\", is_subset)\n"
   ]
  },
  {
   "cell_type": "code",
   "execution_count": 231,
   "id": "124b7a72",
   "metadata": {},
   "outputs": [
    {
     "name": "stdout",
     "output_type": "stream",
     "text": [
      "Set of alternating 1s and 0s of length 10 : {0, 1}\n"
     ]
    }
   ],
   "source": [
    "'''49. create a set of alternating 1s and 0s of length 'n'.'''\n",
    "def alternating_set(n):\n",
    "    return {i % 2 for i in range(n)}\n",
    "\n",
    "n = 10  # Example length\n",
    "alternating = alternating_set(n)\n",
    "print(\"Set of alternating 1s and 0s of length\", n, \":\", alternating)\n",
    "# the set will only contain {0, 1} because \n",
    "#sets do not maintain the order and only store unique elements"
   ]
  },
  {
   "cell_type": "code",
   "execution_count": 232,
   "id": "3c0225e8",
   "metadata": {},
   "outputs": [
    {
     "name": "stdout",
     "output_type": "stream",
     "text": [
      "Merged set : {1, 2, 3, 4, 5, 6, 7}\n"
     ]
    }
   ],
   "source": [
    "'''50. merge multiple sets into one'''\n",
    "# Define multiple sets\n",
    "set1 = {1, 2, 3}\n",
    "set2 = {3, 4, 5}\n",
    "set3 = {5, 6, 7}\n",
    "\n",
    "# Merge the sets\n",
    "merged_set = set1.union(set2, set3)\n",
    "print(\"Merged set :\", merged_set)\n"
   ]
  },
  {
   "cell_type": "code",
   "execution_count": null,
   "id": "a2eb783c",
   "metadata": {},
   "outputs": [],
   "source": []
  }
 ],
 "metadata": {
  "kernelspec": {
   "display_name": "Python 3 (ipykernel)",
   "language": "python",
   "name": "python3"
  },
  "language_info": {
   "codemirror_mode": {
    "name": "ipython",
    "version": 3
   },
   "file_extension": ".py",
   "mimetype": "text/x-python",
   "name": "python",
   "nbconvert_exporter": "python",
   "pygments_lexer": "ipython3",
   "version": "3.11.7"
  }
 },
 "nbformat": 4,
 "nbformat_minor": 5
}
