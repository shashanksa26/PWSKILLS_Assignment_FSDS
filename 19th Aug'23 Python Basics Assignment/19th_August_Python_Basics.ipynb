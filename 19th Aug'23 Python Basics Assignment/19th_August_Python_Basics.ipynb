{
 "cells": [
  {
   "cell_type": "markdown",
   "id": "8fdb5384",
   "metadata": {},
   "source": [
    "# TOPIC: Python Basics Variable"
   ]
  },
  {
   "cell_type": "code",
   "execution_count": 21,
   "id": "f0ce6718",
   "metadata": {},
   "outputs": [
    {
     "name": "stdout",
     "output_type": "stream",
     "text": [
      "Before Swapping value of x:10 and y:30\n",
      "After Swapping value of x:30 and y:10\n"
     ]
    }
   ],
   "source": [
    "'''1. Declare two variables, `x` and `y`, and assign them integer values. Swap the\n",
    "values of these variables without using any temporary variable.'''\n",
    "x = 10\n",
    "y = 30\n",
    "print(f\"Before Swapping value of x:{x} and y:{y}\")\n",
    "x,y = y,x\n",
    "print(f\"After Swapping value of x:{x} and y:{y}\")"
   ]
  },
  {
   "cell_type": "code",
   "execution_count": 4,
   "id": "61dd7908",
   "metadata": {},
   "outputs": [
    {
     "name": "stdout",
     "output_type": "stream",
     "text": [
      "Enter the length of the rectangle: 4\n",
      "Enter the width of the rectangle: 5\n",
      "The area of rectangle is: 20.0\n"
     ]
    }
   ],
   "source": [
    "'''2. Create a program that calculates the area of a rectangle. Take the length and\n",
    "width as inputs from the user and store them in variables. Calculate and\n",
    "display the area.'''\n",
    "length = float(input(\"Enter the length of the rectangle: \"))\n",
    "width = float(input(\"Enter the width of the rectangle: \"))\n",
    "area = length * width\n",
    "print(f\"The area of rectangle is: {area}\")"
   ]
  },
  {
   "cell_type": "code",
   "execution_count": 25,
   "id": "dd05bdb4",
   "metadata": {},
   "outputs": [
    {
     "name": "stdout",
     "output_type": "stream",
     "text": [
      "Enter temperature in celcius: 37\n",
      "37.0 Celsius is equal to 98.60 Fahrenheit)\n"
     ]
    }
   ],
   "source": [
    "'''3. Write a Python program that converts temperatures from Celsius to\n",
    "Fahrenheit. Take the temperature in Celsius as input, store it in a variable,\n",
    "convert it to Fahrenheit, and display the result.'''\n",
    "celsius = float(input(\"Enter temperature in celcius: \"))\n",
    "fahrenheit = (celsius * 9/5) + 32\n",
    "print(f\"{celsius} Celsius is equal to {fahrenheit:.2f} Fahrenheit)\")"
   ]
  },
  {
   "cell_type": "markdown",
   "id": "2c670c2c",
   "metadata": {},
   "source": [
    "# TOPIC: String Based Questions"
   ]
  },
  {
   "cell_type": "code",
   "execution_count": 28,
   "id": "ea6d0758",
   "metadata": {},
   "outputs": [
    {
     "name": "stdout",
     "output_type": "stream",
     "text": [
      "Enter srting: HEllo world\n",
      "The length of the string is: 11\n"
     ]
    }
   ],
   "source": [
    "'''1. Write a Python program that takes a string as input and prints the length of\n",
    "the string.'''\n",
    "str = input(\"Enter srting: \")\n",
    "print(f\"The length of the string is: {len(str)}\")"
   ]
  },
  {
   "cell_type": "code",
   "execution_count": 13,
   "id": "c9d6c73e",
   "metadata": {},
   "outputs": [
    {
     "name": "stdout",
     "output_type": "stream",
     "text": [
      "Enter a sentence: hello everyone checking for VOWEL\n",
      "The total count of Vowel in the given sentence is: 11\n"
     ]
    }
   ],
   "source": [
    "'''2. Create a program that takes a sentence from the user and counts the number\n",
    "of vowels (a, e, i, o, u) in the string.'''\n",
    "sentence = input(\"Enter a sentence: \")\n",
    "vowels = \"aeiouAEIOU\"\n",
    "count = 0\n",
    "for char in sentence:\n",
    "    if char in vowels:\n",
    "        count +=1\n",
    "print(f\"The total count of Vowel in the given sentence is: {count}\")"
   ]
  },
  {
   "cell_type": "code",
   "execution_count": 29,
   "id": "6ed1e701",
   "metadata": {},
   "outputs": [
    {
     "name": "stdout",
     "output_type": "stream",
     "text": [
      "Enter a string: Hello WOrld\n",
      "Reversed String: dlrOW olleH\n"
     ]
    }
   ],
   "source": [
    "'''3. Given a string, reverse the order of characters using string slicing and print\n",
    "the reversed string.'''\n",
    "original_string = input(\"Enter a string: \")\n",
    "reverse_string = original_string[::-1]\n",
    "print(f\"Reversed String: {reverse_string}\")"
   ]
  },
  {
   "cell_type": "code",
   "execution_count": 19,
   "id": "554e65cd",
   "metadata": {},
   "outputs": [
    {
     "name": "stdout",
     "output_type": "stream",
     "text": [
      "Enter a string: LOl\n",
      "The given string is Palindrome\n"
     ]
    }
   ],
   "source": [
    "'''4. Write a program that takes a string as input and checks if it is a palindrome\n",
    "(reads the same forwards and backwards).'''\n",
    "original_string = input(\"Enter a string: \").lower()\n",
    "reverse_string = original_string[::-1]\n",
    "if original_string == reverse_string:\n",
    "    print(\"The given string is Palindrome\")\n",
    "else:\n",
    "    print(\"The given string is not Palindrome\")"
   ]
  },
  {
   "cell_type": "code",
   "execution_count": 30,
   "id": "4a3336dc",
   "metadata": {},
   "outputs": [
    {
     "name": "stdout",
     "output_type": "stream",
     "text": [
      "Enter a string: Hello world of pwskills\n",
      "Modified string without space: Helloworldofpwskills\n"
     ]
    }
   ],
   "source": [
    "'''5. Create a program that takes a string as input and removes all the spaces from\n",
    "it. Print the modified string without spaces.'''\n",
    "original_string = input(\"Enter a string: \")\n",
    "modified_string = \"\"\n",
    "for char in original_string:\n",
    "    if char != \" \":\n",
    "        modified_string +=char\n",
    "print(f\"Modified string without space: {modified_string}\")"
   ]
  },
  {
   "cell_type": "code",
   "execution_count": null,
   "id": "09c627b9",
   "metadata": {},
   "outputs": [],
   "source": []
  }
 ],
 "metadata": {
  "kernelspec": {
   "display_name": "Python 3 (ipykernel)",
   "language": "python",
   "name": "python3"
  },
  "language_info": {
   "codemirror_mode": {
    "name": "ipython",
    "version": 3
   },
   "file_extension": ".py",
   "mimetype": "text/x-python",
   "name": "python",
   "nbconvert_exporter": "python",
   "pygments_lexer": "ipython3",
   "version": "3.11.7"
  }
 },
 "nbformat": 4,
 "nbformat_minor": 5
}
