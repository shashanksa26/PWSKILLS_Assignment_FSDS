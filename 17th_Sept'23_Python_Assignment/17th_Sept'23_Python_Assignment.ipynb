{
 "cells": [
  {
   "cell_type": "markdown",
   "id": "c29289b3",
   "metadata": {},
   "source": [
    "# For Loop :-"
   ]
  },
  {
   "cell_type": "code",
   "execution_count": 1,
   "id": "4c6b071f",
   "metadata": {},
   "outputs": [
    {
     "name": "stdout",
     "output_type": "stream",
     "text": [
      "1\n",
      "2\n",
      "3\n",
      "4\n",
      "5\n",
      "6\n",
      "7\n",
      "8\n",
      "9\n",
      "10\n"
     ]
    }
   ],
   "source": [
    "'''1. Write a Python program to print numbers from 1 to 10 using a for loop.'''\n",
    "for i in range(1, 11):\n",
    "    print(i)\n"
   ]
  },
  {
   "cell_type": "code",
   "execution_count": 2,
   "id": "9d8bb7ea",
   "metadata": {},
   "outputs": [
    {
     "data": {
      "text/plain": [
       "'Difference between a for loop and a while loop in Python.\\nFor Loop: Iterates over a sequence (like a list, string, or range) and stops when it reaches the end of the sequence.\\nWhile Loop: Repeats as long as a given condition is True. It is more flexible as you control when it stops, but it can run indefinitely if not managed correctly.'"
      ]
     },
     "execution_count": 2,
     "metadata": {},
     "output_type": "execute_result"
    }
   ],
   "source": [
    "'''2. Explain the difference between a for loop and a while loop in Python.'''\n",
    "\n",
    "'''Difference between a for loop and a while loop in Python.\n",
    "For Loop: Iterates over a sequence (like a list, string, or range) and stops when it reaches the end of the sequence.\n",
    "While Loop: Repeats as long as a given condition is True. It is more flexible as you control when it stops, but it can run indefinitely if not managed correctly.'''"
   ]
  },
  {
   "cell_type": "code",
   "execution_count": 3,
   "id": "6b52647c",
   "metadata": {},
   "outputs": [
    {
     "name": "stdout",
     "output_type": "stream",
     "text": [
      "The sum of numbers from 1 to 100 is 5050\n"
     ]
    }
   ],
   "source": [
    "'''3. Write a Python program to calculate the sum of all numbers from 1 to 100 using a for loop.'''\n",
    "total_sum = 0\n",
    "for i in range(1, 101):\n",
    "    total_sum += i\n",
    "print(f\"The sum of numbers from 1 to 100 is {total_sum}\")\n"
   ]
  },
  {
   "cell_type": "code",
   "execution_count": 4,
   "id": "78ee8ff6",
   "metadata": {},
   "outputs": [
    {
     "name": "stdout",
     "output_type": "stream",
     "text": [
      "1\n",
      "2\n",
      "3\n",
      "4\n",
      "5\n"
     ]
    }
   ],
   "source": [
    "'''4. How do you iterate through a list using a for loop in Python?'''\n",
    "numbers = [1, 2, 3, 4, 5]\n",
    "for number in numbers:\n",
    "    print(number)\n"
   ]
  },
  {
   "cell_type": "code",
   "execution_count": 5,
   "id": "1e0bf6ad",
   "metadata": {},
   "outputs": [
    {
     "name": "stdout",
     "output_type": "stream",
     "text": [
      "The product of all elements is 120\n"
     ]
    }
   ],
   "source": [
    "'''5. Write a Python program to find the product of all elements in a list using a for loop.'''\n",
    "numbers = [1, 2, 3, 4, 5]\n",
    "product = 1\n",
    "for number in numbers:\n",
    "    product *= number\n",
    "print(f\"The product of all elements is {product}\")\n"
   ]
  },
  {
   "cell_type": "code",
   "execution_count": 6,
   "id": "0b8eb4f5",
   "metadata": {},
   "outputs": [
    {
     "name": "stdout",
     "output_type": "stream",
     "text": [
      "2\n",
      "4\n",
      "6\n",
      "8\n",
      "10\n",
      "12\n",
      "14\n",
      "16\n",
      "18\n",
      "20\n"
     ]
    }
   ],
   "source": [
    "'''6. Create a Python program that prints all even numbers from 1 to 20 using a for loop.'''\n",
    "for i in range(1, 21):\n",
    "    if i % 2 == 0:\n",
    "        print(i)\n"
   ]
  },
  {
   "cell_type": "code",
   "execution_count": 7,
   "id": "28dc8a2f",
   "metadata": {},
   "outputs": [
    {
     "name": "stdout",
     "output_type": "stream",
     "text": [
      "The factorial of 5 is 120\n"
     ]
    }
   ],
   "source": [
    "'''7. Write a Python program that calculates the factorial of a number using a for loop.'''\n",
    "number = 5\n",
    "factorial = 1\n",
    "for i in range(1, number + 1):\n",
    "    factorial *= i\n",
    "print(f\"The factorial of {number} is {factorial}\")\n"
   ]
  },
  {
   "cell_type": "code",
   "execution_count": 8,
   "id": "37b40250",
   "metadata": {},
   "outputs": [
    {
     "name": "stdout",
     "output_type": "stream",
     "text": [
      "H\n",
      "e\n",
      "l\n",
      "l\n",
      "o\n"
     ]
    }
   ],
   "source": [
    "'''8. How can you iterate through the characters of a string using a for loop in Python?'''\n",
    "string = \"Hello\"\n",
    "for char in string:\n",
    "    print(char)\n"
   ]
  },
  {
   "cell_type": "code",
   "execution_count": 9,
   "id": "c3fc7b24",
   "metadata": {},
   "outputs": [
    {
     "name": "stdout",
     "output_type": "stream",
     "text": [
      "The largest number is 9\n"
     ]
    }
   ],
   "source": [
    "'''9. Write a Python program to find the largest number in a list using a for loop.'''\n",
    "numbers = [3, 7, 2, 9, 4]\n",
    "largest = numbers[0]\n",
    "for number in numbers:\n",
    "    if number > largest:\n",
    "        largest = number\n",
    "print(f\"The largest number is {largest}\")\n"
   ]
  },
  {
   "cell_type": "code",
   "execution_count": 10,
   "id": "06940178",
   "metadata": {},
   "outputs": [
    {
     "name": "stdout",
     "output_type": "stream",
     "text": [
      "0 1 1 2 3 5 8 13 21 34 55 89 144 233 377 610 987 1597 2584 4181 "
     ]
    }
   ],
   "source": [
    "'''10. Create a Python program that prints the Fibonacci sequence up to a specified limit using a for\n",
    "loop.'''\n",
    "limit = 20\n",
    "a, b = 0, 1\n",
    "print(a, b, end=\" \")\n",
    "for _ in range(limit - 2):\n",
    "    a, b = b, a + b\n",
    "    print(b, end=\" \")\n"
   ]
  },
  {
   "cell_type": "code",
   "execution_count": 11,
   "id": "c86dc373",
   "metadata": {},
   "outputs": [
    {
     "name": "stdout",
     "output_type": "stream",
     "text": [
      "Number of vowels: 3\n"
     ]
    }
   ],
   "source": [
    "'''11. Write a Python program to count the number of vowels in a given string using a for loop.'''\n",
    "string = \"Hello World\"\n",
    "vowels = \"aeiouAEIOU\"\n",
    "count = 0\n",
    "for char in string:\n",
    "    if char in vowels:\n",
    "        count += 1\n",
    "print(f\"Number of vowels: {count}\")\n"
   ]
  },
  {
   "cell_type": "code",
   "execution_count": 12,
   "id": "2c31b4b3",
   "metadata": {},
   "outputs": [
    {
     "name": "stdout",
     "output_type": "stream",
     "text": [
      "5 x 1 = 5\n",
      "5 x 2 = 10\n",
      "5 x 3 = 15\n",
      "5 x 4 = 20\n",
      "5 x 5 = 25\n",
      "5 x 6 = 30\n",
      "5 x 7 = 35\n",
      "5 x 8 = 40\n",
      "5 x 9 = 45\n",
      "5 x 10 = 50\n"
     ]
    }
   ],
   "source": [
    "'''12. Create a Python program that generates a multiplication table for a given number using a for\n",
    "loop.'''\n",
    "number = 5\n",
    "for i in range(1, 11):\n",
    "    print(f\"{number} x {i} = {number * i}\")\n"
   ]
  },
  {
   "cell_type": "code",
   "execution_count": 13,
   "id": "82da2a9d",
   "metadata": {},
   "outputs": [
    {
     "name": "stdout",
     "output_type": "stream",
     "text": [
      "Reversed list: [5, 4, 3, 2, 1]\n"
     ]
    }
   ],
   "source": [
    "'''13. Write a Python program to reverse a list using a for loop.'''\n",
    "lst = [1, 2, 3, 4, 5]\n",
    "reversed_list = []\n",
    "for i in range(len(lst) - 1, -1, -1):\n",
    "    reversed_list.append(lst[i])\n",
    "print(f\"Reversed list: {reversed_list}\")\n"
   ]
  },
  {
   "cell_type": "code",
   "execution_count": 14,
   "id": "b72b36c6",
   "metadata": {},
   "outputs": [
    {
     "name": "stdout",
     "output_type": "stream",
     "text": [
      "Common elements: [3, 4]\n"
     ]
    }
   ],
   "source": [
    "'''14. Write a Python program to find the common elements between two lists using a for loop.'''\n",
    "list1 = [1, 2, 3, 4]\n",
    "list2 = [3, 4, 5, 6]\n",
    "common_elements = []\n",
    "for element in list1:\n",
    "    if element in list2:\n",
    "        common_elements.append(element)\n",
    "print(f\"Common elements: {common_elements}\")\n"
   ]
  },
  {
   "cell_type": "code",
   "execution_count": 15,
   "id": "dd3b8988",
   "metadata": {},
   "outputs": [
    {
     "name": "stdout",
     "output_type": "stream",
     "text": [
      "Key: a, Value: 1\n",
      "Key: b, Value: 2\n",
      "Key: c, Value: 3\n"
     ]
    }
   ],
   "source": [
    "'''15. Explain how to use a for loop to iterate through the keys and values of a dictionary in Python.'''\n",
    "dictionary = {'a': 1, 'b': 2, 'c': 3}\n",
    "for key, value in dictionary.items():\n",
    "    print(f\"Key: {key}, Value: {value}\")\n"
   ]
  },
  {
   "cell_type": "code",
   "execution_count": 16,
   "id": "76ffa292",
   "metadata": {},
   "outputs": [
    {
     "name": "stdout",
     "output_type": "stream",
     "text": [
      "GCD of 60 and 48 is 12\n"
     ]
    }
   ],
   "source": [
    "'''16. Write a Python program to find the GCD (Greatest Common Divisor) of two numbers using a for\n",
    "loop.'''\n",
    "a = 60\n",
    "b = 48\n",
    "gcd = 1\n",
    "for i in range(1, min(a, b) + 1):\n",
    "    if a % i == 0 and b % i == 0:\n",
    "        gcd = i\n",
    "print(f\"GCD of {a} and {b} is {gcd}\")\n"
   ]
  },
  {
   "cell_type": "code",
   "execution_count": 17,
   "id": "2bb5dfa6",
   "metadata": {},
   "outputs": [
    {
     "name": "stdout",
     "output_type": "stream",
     "text": [
      "madam is a palindrome: True\n"
     ]
    }
   ],
   "source": [
    "'''17. Create a Python program that checks if a string is a palindrome using a for loop.'''\n",
    "string = \"madam\"\n",
    "is_palindrome = True\n",
    "for i in range(len(string) // 2):\n",
    "    if string[i] != string[-(i + 1)]:\n",
    "        is_palindrome = False\n",
    "        break\n",
    "print(f\"{string} is a palindrome: {is_palindrome}\")\n"
   ]
  },
  {
   "cell_type": "code",
   "execution_count": 18,
   "id": "489a3e83",
   "metadata": {},
   "outputs": [
    {
     "name": "stdout",
     "output_type": "stream",
     "text": [
      "List without duplicates: [1, 2, 3, 4, 5]\n"
     ]
    }
   ],
   "source": [
    "'''18. Write a Python program to remove duplicates from a list using a for loop.'''\n",
    "lst = [1, 2, 2, 3, 4, 4, 5]\n",
    "unique_list = []\n",
    "for item in lst:\n",
    "    if item not in unique_list:\n",
    "        unique_list.append(item)\n",
    "print(f\"List without duplicates: {unique_list}\")\n"
   ]
  },
  {
   "cell_type": "code",
   "execution_count": 19,
   "id": "557cccc0",
   "metadata": {},
   "outputs": [
    {
     "name": "stdout",
     "output_type": "stream",
     "text": [
      "Number of words: 6\n"
     ]
    }
   ],
   "source": [
    "'''19. Create a Python program that counts the number of words in a sentence using a for loop.'''\n",
    "sentence = \"Hello world this is a test\"\n",
    "word_count = 0\n",
    "for word in sentence.split():\n",
    "    word_count += 1\n",
    "print(f\"Number of words: {word_count}\")\n"
   ]
  },
  {
   "cell_type": "code",
   "execution_count": 20,
   "id": "e0643677",
   "metadata": {},
   "outputs": [
    {
     "name": "stdout",
     "output_type": "stream",
     "text": [
      "The sum of all odd numbers from 1 to 50 is 625\n"
     ]
    }
   ],
   "source": [
    "'''20. Write a Python program to find the sum of all odd numbers from 1 to 50 using a for loop.'''\n",
    "total_sum = 0\n",
    "for i in range(1, 51):\n",
    "    if i % 2 != 0:\n",
    "        total_sum += i\n",
    "print(f\"The sum of all odd numbers from 1 to 50 is {total_sum}\")\n"
   ]
  },
  {
   "cell_type": "code",
   "execution_count": 21,
   "id": "90793f8a",
   "metadata": {},
   "outputs": [
    {
     "name": "stdout",
     "output_type": "stream",
     "text": [
      "2024 is a leap year\n"
     ]
    }
   ],
   "source": [
    "'''21. Write a Python program that checks if a given year is a leap year using a for loop.'''\n",
    "year = 2024\n",
    "for i in range(year, year + 1):\n",
    "    if (i % 4 == 0 and i % 100 != 0) or (i % 400 == 0):\n",
    "        print(f\"{i} is a leap year\")\n",
    "    else:\n",
    "        print(f\"{i} is not a leap year\")\n"
   ]
  },
  {
   "cell_type": "code",
   "execution_count": 22,
   "id": "441f2443",
   "metadata": {},
   "outputs": [
    {
     "name": "stdout",
     "output_type": "stream",
     "text": [
      "Approximate square root of 16 is 4\n"
     ]
    }
   ],
   "source": [
    "'''22. Create a Python program that calculates the square root of a number using a for loop.'''\n",
    "number = 16\n",
    "approx = 0\n",
    "for i in range(number):\n",
    "    if i * i == number:\n",
    "        approx = i\n",
    "        break\n",
    "    elif i * i > number:\n",
    "        approx = i - 1\n",
    "        break\n",
    "print(f\"Approximate square root of {number} is {approx}\")\n"
   ]
  },
  {
   "cell_type": "code",
   "execution_count": 23,
   "id": "a1e41936",
   "metadata": {},
   "outputs": [
    {
     "name": "stdout",
     "output_type": "stream",
     "text": [
      "LCM of 12 and 15 is 60\n"
     ]
    }
   ],
   "source": [
    "'''23. Write a Python program to find the LCM (Least Common Multiple) of two numbers using a for\n",
    "loop.'''\n",
    "a = 12\n",
    "b = 15\n",
    "greater = max(a, b)\n",
    "while True:\n",
    "    if greater % a == 0 and greater % b == 0:\n",
    "        lcm = greater\n",
    "        break\n",
    "    greater += 1\n",
    "print(f\"LCM of {a} and {b} is {lcm}\")\n"
   ]
  },
  {
   "cell_type": "markdown",
   "id": "ef2e3c57",
   "metadata": {},
   "source": [
    "# If else :"
   ]
  },
  {
   "cell_type": "code",
   "execution_count": 24,
   "id": "8a74275a",
   "metadata": {},
   "outputs": [
    {
     "name": "stdout",
     "output_type": "stream",
     "text": [
      "The number is negative.\n"
     ]
    }
   ],
   "source": [
    "'''1. Write a Python program to check if a number is positive, negative, or zero using an if-else\n",
    "statement.'''\n",
    "number = -5\n",
    "if number > 0:\n",
    "    print(\"The number is positive.\")\n",
    "elif number < 0:\n",
    "    print(\"The number is negative.\")\n",
    "else:\n",
    "    print(\"The number is zero.\")\n"
   ]
  },
  {
   "cell_type": "code",
   "execution_count": 25,
   "id": "d682651c",
   "metadata": {},
   "outputs": [
    {
     "name": "stdout",
     "output_type": "stream",
     "text": [
      "The number is odd.\n"
     ]
    }
   ],
   "source": [
    "'''2. Create a Python program that checks if a given number is even or odd using an if-else statement.'''\n",
    "number = 7\n",
    "if number % 2 == 0:\n",
    "    print(\"The number is even.\")\n",
    "else:\n",
    "    print(\"The number is odd.\")\n"
   ]
  },
  {
   "cell_type": "code",
   "execution_count": 26,
   "id": "396272e9",
   "metadata": {},
   "outputs": [
    {
     "name": "stdout",
     "output_type": "stream",
     "text": [
      "The number is positive and odd.\n"
     ]
    }
   ],
   "source": [
    "'''3. How can you use nested if-else statements in Python, and provide an example?'''\n",
    "num = 15\n",
    "if num > 0:\n",
    "    if num % 2 == 0:\n",
    "        print(\"The number is positive and even.\")\n",
    "    else:\n",
    "        print(\"The number is positive and odd.\")\n",
    "else:\n",
    "    print(\"The number is not positive.\")\n"
   ]
  },
  {
   "cell_type": "code",
   "execution_count": 27,
   "id": "387ca4cb",
   "metadata": {},
   "outputs": [
    {
     "name": "stdout",
     "output_type": "stream",
     "text": [
      "10 is the largest number.\n"
     ]
    }
   ],
   "source": [
    "'''4. Write a Python program to determine the largest of three numbers using if-else.'''\n",
    "a, b, c = 5, 10, 7\n",
    "if a >= b and a >= c:\n",
    "    print(f\"{a} is the largest number.\")\n",
    "elif b >= a and b >= c:\n",
    "    print(f\"{b} is the largest number.\")\n",
    "else:\n",
    "    print(f\"{c} is the largest number.\")\n"
   ]
  },
  {
   "cell_type": "code",
   "execution_count": 28,
   "id": "903a7f3a",
   "metadata": {},
   "outputs": [
    {
     "name": "stdout",
     "output_type": "stream",
     "text": [
      "The absolute value is 10.\n"
     ]
    }
   ],
   "source": [
    "'''5. Write a Python program that calculates the absolute value of a number using if-else.'''\n",
    "number = -10\n",
    "if number < 0:\n",
    "    absolute_value = -number\n",
    "else:\n",
    "    absolute_value = number\n",
    "print(f\"The absolute value is {absolute_value}.\")\n"
   ]
  },
  {
   "cell_type": "code",
   "execution_count": 29,
   "id": "1c9afd27",
   "metadata": {},
   "outputs": [
    {
     "name": "stdout",
     "output_type": "stream",
     "text": [
      "e is a vowel.\n"
     ]
    }
   ],
   "source": [
    "'''6. Create a Python program that checks if a given character is a vowel or consonant using if-else.'''\n",
    "char = 'e'\n",
    "if char.lower() in 'aeiou':\n",
    "    print(f\"{char} is a vowel.\")\n",
    "else:\n",
    "    print(f\"{char} is a consonant.\")\n"
   ]
  },
  {
   "cell_type": "code",
   "execution_count": 30,
   "id": "7e7baab8",
   "metadata": {},
   "outputs": [
    {
     "name": "stdout",
     "output_type": "stream",
     "text": [
      "You are eligible to vote.\n"
     ]
    }
   ],
   "source": [
    "'''7. Write a Python program to determine if a user is eligible to vote based on their age using if-else.'''\n",
    "age = 18\n",
    "if age >= 18:\n",
    "    print(\"You are eligible to vote.\")\n",
    "else:\n",
    "    print(\"You are not eligible to vote.\")\n"
   ]
  },
  {
   "cell_type": "code",
   "execution_count": 31,
   "id": "ab79238f",
   "metadata": {},
   "outputs": [
    {
     "name": "stdout",
     "output_type": "stream",
     "text": [
      "Discount amount: 15.0\n"
     ]
    }
   ],
   "source": [
    "'''8. Create a Python program that calculates the discount amount based on the purchase amount\n",
    "using if-else.'''\n",
    "purchase_amount = 150\n",
    "if purchase_amount > 100:\n",
    "    discount = purchase_amount * 0.1\n",
    "else:\n",
    "    discount = 0\n",
    "print(f\"Discount amount: {discount}\")\n"
   ]
  },
  {
   "cell_type": "code",
   "execution_count": 32,
   "id": "5dd1c3fb",
   "metadata": {},
   "outputs": [
    {
     "name": "stdout",
     "output_type": "stream",
     "text": [
      "25 is within the range.\n"
     ]
    }
   ],
   "source": [
    "'''9. Write a Python program to check if a number is within a specified range using if-else.'''\n",
    "number = 25\n",
    "if 10 <= number <= 50:\n",
    "    print(f\"{number} is within the range.\")\n",
    "else:\n",
    "    print(f\"{number} is not within the range.\")\n"
   ]
  },
  {
   "cell_type": "code",
   "execution_count": 33,
   "id": "5c6b63d7",
   "metadata": {},
   "outputs": [
    {
     "name": "stdout",
     "output_type": "stream",
     "text": [
      "Your grade is B.\n"
     ]
    }
   ],
   "source": [
    "'''10. Create a Python program that determines the grade of a student based on their score using\n",
    "if-else.'''\n",
    "score = 85\n",
    "if score >= 90:\n",
    "    grade = 'A'\n",
    "elif score >= 80:\n",
    "    grade = 'B'\n",
    "elif score >= 70:\n",
    "    grade = 'C'\n",
    "elif score >= 60:\n",
    "    grade = 'D'\n",
    "else:\n",
    "    grade = 'F'\n",
    "print(f\"Your grade is {grade}.\")\n"
   ]
  },
  {
   "cell_type": "code",
   "execution_count": 34,
   "id": "f0e98044",
   "metadata": {},
   "outputs": [
    {
     "name": "stdout",
     "output_type": "stream",
     "text": [
      "The string is empty.\n"
     ]
    }
   ],
   "source": [
    "'''11. Write a Python program to check if a string is empty or not using if-else.'''\n",
    "string = \"\"\n",
    "if string:\n",
    "    print(\"The string is not empty.\")\n",
    "else:\n",
    "    print(\"The string is empty.\")\n"
   ]
  },
  {
   "cell_type": "code",
   "execution_count": 35,
   "id": "605a31a5",
   "metadata": {},
   "outputs": [
    {
     "name": "stdout",
     "output_type": "stream",
     "text": [
      "The triangle is equilateral.\n"
     ]
    }
   ],
   "source": [
    "'''12. Create a Python program that identifies the type of a triangle (e.g., equilateral, isosceles, or\n",
    "scalene) based on input values using if-else.'''\n",
    "a, b, c = 5, 5, 5\n",
    "if a == b == c:\n",
    "    print(\"The triangle is equilateral.\")\n",
    "elif a == b or b == c or a == c:\n",
    "    print(\"The triangle is isosceles.\")\n",
    "else:\n",
    "    print(\"The triangle is scalene.\")\n"
   ]
  },
  {
   "cell_type": "code",
   "execution_count": 36,
   "id": "81ba3a8d",
   "metadata": {},
   "outputs": [
    {
     "name": "stdout",
     "output_type": "stream",
     "text": [
      "Wednesday\n"
     ]
    }
   ],
   "source": [
    "'''13. Write a Python program to determine the day of the week based on a user-provided number\n",
    "using if-else.'''\n",
    "day_num = 3\n",
    "if day_num == 1:\n",
    "    print(\"Monday\")\n",
    "elif day_num == 2:\n",
    "    print(\"Tuesday\")\n",
    "elif day_num == 3:\n",
    "    print(\"Wednesday\")\n",
    "elif day_num == 4:\n",
    "    print(\"Thursday\")\n",
    "elif day_num == 5:\n",
    "    print(\"Friday\")\n",
    "elif day_num == 6:\n",
    "    print(\"Saturday\")\n",
    "elif day_num == 7:\n",
    "    print(\"Sunday\")\n",
    "else:\n",
    "    print(\"Invalid day number.\")\n"
   ]
  },
  {
   "cell_type": "code",
   "execution_count": 37,
   "id": "c14857bc",
   "metadata": {},
   "outputs": [
    {
     "name": "stdout",
     "output_type": "stream",
     "text": [
      "2024 is a leap year.\n"
     ]
    }
   ],
   "source": [
    "'''14. Create a Python program that checks if a given year is a leap year using both if-else and a\n",
    "function.'''\n",
    "def is_leap_year(year):\n",
    "    if (year % 4 == 0 and year % 100 != 0) or (year % 400 == 0):\n",
    "        return True\n",
    "    else:\n",
    "        return False\n",
    "\n",
    "year = 2024\n",
    "if is_leap_year(year):\n",
    "    print(f\"{year} is a leap year.\")\n",
    "else:\n",
    "    print(f\"{year} is not a leap year.\")\n"
   ]
  },
  {
   "cell_type": "code",
   "execution_count": 38,
   "id": "16708f0f",
   "metadata": {},
   "outputs": [
    {
     "ename": "AssertionError",
     "evalue": "Number must be positive",
     "output_type": "error",
     "traceback": [
      "\u001b[1;31m---------------------------------------------------------------------------\u001b[0m",
      "\u001b[1;31mAssertionError\u001b[0m                            Traceback (most recent call last)",
      "Cell \u001b[1;32mIn[38], line 3\u001b[0m\n\u001b[0;32m      1\u001b[0m \u001b[38;5;124;03m'''15. How do you use the \"assert\" statement in Python to add debugging checks within if-else blocks?'''\u001b[39;00m\n\u001b[0;32m      2\u001b[0m number \u001b[38;5;241m=\u001b[39m \u001b[38;5;241m-\u001b[39m\u001b[38;5;241m5\u001b[39m\n\u001b[1;32m----> 3\u001b[0m \u001b[38;5;28;01massert\u001b[39;00m number \u001b[38;5;241m>\u001b[39m \u001b[38;5;241m0\u001b[39m, \u001b[38;5;124m\"\u001b[39m\u001b[38;5;124mNumber must be positive\u001b[39m\u001b[38;5;124m\"\u001b[39m\n\u001b[0;32m      4\u001b[0m \u001b[38;5;28mprint\u001b[39m(\u001b[38;5;124m\"\u001b[39m\u001b[38;5;124mNumber is positive\u001b[39m\u001b[38;5;124m\"\u001b[39m)\n",
      "\u001b[1;31mAssertionError\u001b[0m: Number must be positive"
     ]
    }
   ],
   "source": [
    "'''15. How do you use the \"assert\" statement in Python to add debugging checks within if-else blocks?'''\n",
    "number = -5\n",
    "assert number > 0, \"Number must be positive\"\n",
    "print(\"Number is positive\")\n"
   ]
  },
  {
   "cell_type": "code",
   "execution_count": 39,
   "id": "8c46b56a",
   "metadata": {},
   "outputs": [
    {
     "name": "stdout",
     "output_type": "stream",
     "text": [
      "Eligible for senior citizen discount.\n"
     ]
    }
   ],
   "source": [
    "'''16. Create a Python program that determines the eligibility of a person for a senior citizen discount\n",
    "based on age using if-else.'''\n",
    "age = 65\n",
    "if age >= 60:\n",
    "    print(\"Eligible for senior citizen discount.\")\n",
    "else:\n",
    "    print(\"Not eligible for senior citizen discount.\")\n"
   ]
  },
  {
   "cell_type": "code",
   "execution_count": 40,
   "id": "de022378",
   "metadata": {},
   "outputs": [
    {
     "name": "stdout",
     "output_type": "stream",
     "text": [
      "G is uppercase.\n"
     ]
    }
   ],
   "source": [
    "'''17. Write a Python program to categorize a given character as uppercase, lowercase, or neither\n",
    "using if-else.'''\n",
    "char = 'G'\n",
    "if char.isupper():\n",
    "    print(f\"{char} is uppercase.\")\n",
    "elif char.islower():\n",
    "    print(f\"{char} is lowercase.\")\n",
    "else:\n",
    "    print(f\"{char} is neither uppercase nor lowercase.\")\n"
   ]
  },
  {
   "cell_type": "code",
   "execution_count": 41,
   "id": "48ca9e9b",
   "metadata": {},
   "outputs": [
    {
     "name": "stdout",
     "output_type": "stream",
     "text": [
      "Roots are 4.0 and 3.0.\n"
     ]
    }
   ],
   "source": [
    "'''18. Write a Python program to determine the roots of a quadratic equation using if-else.'''\n",
    "import math\n",
    "\n",
    "a, b, c = 1, -7, 12\n",
    "discriminant = b**2 - 4*a*c\n",
    "\n",
    "if discriminant > 0:\n",
    "    root1 = (-b + math.sqrt(discriminant)) / (2 * a)\n",
    "    root2 = (-b - math.sqrt(discriminant)) / (2 * a)\n",
    "    print(f\"Roots are {root1} and {root2}.\")\n",
    "elif discriminant == 0:\n",
    "    root = -b / (2 * a)\n",
    "    print(f\"Root is {root}.\")\n",
    "else:\n",
    "    print(\"No real roots.\")\n"
   ]
  },
  {
   "cell_type": "code",
   "execution_count": 42,
   "id": "b00f14a3",
   "metadata": {},
   "outputs": [
    {
     "name": "stdout",
     "output_type": "stream",
     "text": [
      "1900 is a century year.\n"
     ]
    }
   ],
   "source": [
    "'''19. Create a Python program that checks if a given year is a century year or not using if-else.'''\n",
    "year = 1900\n",
    "if year % 100 == 0:\n",
    "    print(f\"{year} is a century year.\")\n",
    "else:\n",
    "    print(f\"{year} is not a century year.\")\n"
   ]
  },
  {
   "cell_type": "code",
   "execution_count": 43,
   "id": "6bf3d89f",
   "metadata": {},
   "outputs": [
    {
     "name": "stdout",
     "output_type": "stream",
     "text": [
      "16 is a perfect square.\n"
     ]
    }
   ],
   "source": [
    "'''20. Write a Python program to determine if a given number is a perfect square using if-else.'''\n",
    "import math\n",
    "\n",
    "number = 16\n",
    "root = math.isqrt(number)\n",
    "if root * root == number:\n",
    "    print(f\"{number} is a perfect square.\")\n",
    "else:\n",
    "    print(f\"{number} is not a perfect square.\")\n"
   ]
  },
  {
   "cell_type": "code",
   "execution_count": 44,
   "id": "279d9c2b",
   "metadata": {},
   "outputs": [
    {
     "data": {
      "text/plain": [
       "'break: Terminates the loop entirely and moves to the code after the loop.\\ncontinue: Skips the current iteration and moves to the next iteration of the loop.'"
      ]
     },
     "execution_count": 44,
     "metadata": {},
     "output_type": "execute_result"
    }
   ],
   "source": [
    "'''21. Explain the purpose of the \"continue\" and \"break\" statements within if-else loops.'''\n",
    "'''break: Terminates the loop entirely and moves to the code after the loop.\n",
    "continue: Skips the current iteration and moves to the next iteration of the loop.'''"
   ]
  },
  {
   "cell_type": "code",
   "execution_count": 45,
   "id": "46360f72",
   "metadata": {},
   "outputs": [
    {
     "name": "stdout",
     "output_type": "stream",
     "text": [
      "Normal weight\n"
     ]
    }
   ],
   "source": [
    "'''22. Create a Python program that calculates the BMI (Body Mass Index) of a person based on their\n",
    "weight and height using if-else.'''\n",
    "weight = 70  # in kg\n",
    "height = 1.75  # in meters\n",
    "bmi = weight / (height ** 2)\n",
    "\n",
    "if bmi < 18.5:\n",
    "    print(\"Underweight\")\n",
    "elif 18.5 <= bmi < 24.9:\n",
    "    print(\"Normal weight\")\n",
    "elif 25 <= bmi < 29.9:\n",
    "    print(\"Overweight\")\n",
    "else:\n",
    "    print(\"Obese\")\n"
   ]
  },
  {
   "cell_type": "code",
   "execution_count": 46,
   "id": "ff02bb89",
   "metadata": {},
   "outputs": [
    {
     "name": "stdout",
     "output_type": "stream",
     "text": [
      "[2, 4, 6, 8]\n"
     ]
    }
   ],
   "source": [
    "'''23. How can you use the \"filter()\" function with if-else statements to filter elements from a list?'''\n",
    "numbers = [1, 2, 3, 4, 5, 6, 7, 8]\n",
    "even_numbers = list(filter(lambda x: x % 2 == 0, numbers))\n",
    "print(even_numbers)\n"
   ]
  },
  {
   "cell_type": "code",
   "execution_count": 47,
   "id": "084cbd03",
   "metadata": {},
   "outputs": [
    {
     "name": "stdout",
     "output_type": "stream",
     "text": [
      "29 is a prime number.\n"
     ]
    }
   ],
   "source": [
    "'''24. Write a Python program to determine if a given number is prime or not using if-else.'''\n",
    "number = 29\n",
    "if number > 1:\n",
    "    for i in range(2, int(number ** 0.5) + 1):\n",
    "        if number % i == 0:\n",
    "            print(f\"{number} is not a prime number.\")\n",
    "            break\n",
    "    else:\n",
    "        print(f\"{number} is a prime number.\")\n",
    "else:\n",
    "    print(f\"{number} is not a prime number.\")\n"
   ]
  },
  {
   "cell_type": "markdown",
   "id": "35e17a40",
   "metadata": {},
   "source": [
    "# Map :-"
   ]
  },
  {
   "cell_type": "code",
   "execution_count": 48,
   "id": "c3cec2f6",
   "metadata": {},
   "outputs": [
    {
     "name": "stdout",
     "output_type": "stream",
     "text": [
      "[2, 4, 6, 8, 10]\n"
     ]
    }
   ],
   "source": [
    "'''1. Explain the purpose of the `map()` function in Python and provide an example of how it can be\n",
    "used to apply a function to each element of an iterable.'''\n",
    "\n",
    "'''Purpose of the map() function in Python\n",
    "The map() function in Python applies a given function to each item of an iterable (like a list, tuple, etc.) and returns an iterator that produces the results. It is used to perform a specific operation on each element of an iterable without writing explicit loops.'''\n",
    "# Purpose: Apply a function to double each number in a list\n",
    "numbers = [1, 2, 3, 4, 5]\n",
    "\n",
    "# Using map() to double each number\n",
    "doubled_numbers = map(lambda x: x * 2, numbers)\n",
    "\n",
    "# Converting the map object to a list\n",
    "print(list(doubled_numbers))  # Output: [2, 4, 6, 8, 10]\n"
   ]
  },
  {
   "cell_type": "code",
   "execution_count": 49,
   "id": "649cdd26",
   "metadata": {},
   "outputs": [
    {
     "name": "stdout",
     "output_type": "stream",
     "text": [
      "[1, 4, 9, 16, 25]\n"
     ]
    }
   ],
   "source": [
    "'''2. Write a Python program that uses the `map()` function to square each element of a list of\n",
    "numbers.'''\n",
    "# List of numbers\n",
    "numbers = [1, 2, 3, 4, 5]\n",
    "\n",
    "# Using map() to square each element\n",
    "squared_numbers = map(lambda x: x ** 2, numbers)\n",
    "\n",
    "# Convert the map object to a list\n",
    "print(list(squared_numbers))  # Output: [1, 4, 9, 16, 25]\n"
   ]
  },
  {
   "cell_type": "code",
   "execution_count": 50,
   "id": "9d5b6bfd",
   "metadata": {},
   "outputs": [
    {
     "name": "stdout",
     "output_type": "stream",
     "text": [
      "[1, 4, 9, 16, 25]\n",
      "[1, 4, 9, 16, 25]\n"
     ]
    }
   ],
   "source": [
    "'''3. How does the `map()` function differ from a list comprehension in Python, and when would you\n",
    "choose one over the other?'''\n",
    "\n",
    "'''map() vs. List Comprehension\n",
    "Differences:\n",
    "\n",
    "map(): Applies a function to each element of an iterable and returns an iterator. It’s typically more readable when you need to apply a single function to all elements.\n",
    "List Comprehension: Can achieve the same result with more flexibility and often in a more Pythonic and readable way for simple transformations.\n",
    "When to use:\n",
    "\n",
    "Use map() when applying a single function to elements (especially if the function is already defined).\n",
    "Use list comprehensions when transformations are simple and readability is a priority.'''\n",
    "\n",
    "numbers = [1, 2, 3, 4, 5]\n",
    "\n",
    "# Using map()\n",
    "squared = list(map(lambda x: x ** 2, numbers))\n",
    "\n",
    "# Using list comprehension\n",
    "squared_comprehension = [x ** 2 for x in numbers]\n",
    "\n",
    "print(squared)                # Output: [1, 4, 9, 16, 25]\n",
    "print(squared_comprehension)  # Output: [1, 4, 9, 16, 25]\n"
   ]
  },
  {
   "cell_type": "code",
   "execution_count": 51,
   "id": "159cb082",
   "metadata": {},
   "outputs": [
    {
     "name": "stdout",
     "output_type": "stream",
     "text": [
      "['ALICE', 'BOB', 'CHARLIE']\n"
     ]
    }
   ],
   "source": [
    "'''4. Create a Python program that uses the `map()` function to convert a list of names to uppercase.'''\n",
    "# List of names\n",
    "names = ['alice', 'bob', 'charlie']\n",
    "\n",
    "# Using map() to convert each name to uppercase\n",
    "uppercase_names = map(str.upper, names)\n",
    "\n",
    "# Convert the map object to a list\n",
    "print(list(uppercase_names))  # Output: ['ALICE', 'BOB', 'CHARLIE']\n"
   ]
  },
  {
   "cell_type": "code",
   "execution_count": 52,
   "id": "3d147207",
   "metadata": {},
   "outputs": [
    {
     "name": "stdout",
     "output_type": "stream",
     "text": [
      "[5, 5, 6]\n"
     ]
    }
   ],
   "source": [
    "'''5. Write a Python program that uses the `map()` function to calculate the length of each word in a\n",
    "list of strings.'''\n",
    "# List of words\n",
    "words = ['hello', 'world', 'python']\n",
    "\n",
    "# Using map() to calculate the length of each word\n",
    "lengths = map(len, words)\n",
    "\n",
    "# Convert the map object to a list\n",
    "print(list(lengths))  # Output: [5, 5, 6]\n"
   ]
  },
  {
   "cell_type": "code",
   "execution_count": 53,
   "id": "1991db55",
   "metadata": {},
   "outputs": [
    {
     "name": "stdout",
     "output_type": "stream",
     "text": [
      "[5, 7, 9]\n"
     ]
    }
   ],
   "source": [
    "'''6. How can you use the `map()` function to apply a custom function to elements of multiple lists\n",
    "simultaneously in Python?'''\n",
    "\n",
    "# map() can take multiple iterables and pass each element to the function in parallel.\n",
    "\n",
    "# Custom function to add corresponding elements of two lists\n",
    "def add(x, y):\n",
    "    return x + y\n",
    "\n",
    "# Two lists of numbers\n",
    "list1 = [1, 2, 3]\n",
    "list2 = [4, 5, 6]\n",
    "\n",
    "# Using map() to apply the add function to elements of both lists\n",
    "result = map(add, list1, list2)\n",
    "\n",
    "# Convert the map object to a list\n",
    "print(list(result))  # Output: [5, 7, 9]\n"
   ]
  },
  {
   "cell_type": "code",
   "execution_count": 54,
   "id": "6fb7829d",
   "metadata": {},
   "outputs": [
    {
     "name": "stdout",
     "output_type": "stream",
     "text": [
      "[32.0, 68.0, 98.6, 212.0]\n"
     ]
    }
   ],
   "source": [
    "'''7. Create a Python program that uses `map()` to convert a list of temperatures from Celsius to\n",
    "Fahrenheit.'''\n",
    "# List of temperatures in Celsius\n",
    "celsius = [0, 20, 37, 100]\n",
    "\n",
    "# Function to convert Celsius to Fahrenheit\n",
    "def celsius_to_fahrenheit(c):\n",
    "    return (c * 9/5) + 32\n",
    "\n",
    "# Using map() to convert each temperature\n",
    "fahrenheit = map(celsius_to_fahrenheit, celsius)\n",
    "\n",
    "# Convert the map object to a list\n",
    "print(list(fahrenheit))  # Output: [32.0, 68.0, 98.6, 212.0]\n"
   ]
  },
  {
   "cell_type": "code",
   "execution_count": 55,
   "id": "bfef5307",
   "metadata": {},
   "outputs": [
    {
     "name": "stdout",
     "output_type": "stream",
     "text": [
      "[1, 2, 4, 4]\n"
     ]
    }
   ],
   "source": [
    "'''8. Write a Python program that uses the `map()` function to round each element of a list of\n",
    "floating-point numbers to the nearest integer.'''\n",
    "# List of floating-point numbers\n",
    "floats = [1.2, 2.5, 3.8, 4.1]\n",
    "\n",
    "# Using map() to round each element\n",
    "rounded = map(round, floats)\n",
    "\n",
    "# Convert the map object to a list\n",
    "print(list(rounded))  # Output: [1, 2, 4, 4]\n"
   ]
  },
  {
   "cell_type": "markdown",
   "id": "c9aaf3b5",
   "metadata": {},
   "source": [
    "# Reduce :-"
   ]
  },
  {
   "cell_type": "code",
   "execution_count": 56,
   "id": "a4b25540",
   "metadata": {},
   "outputs": [
    {
     "name": "stdout",
     "output_type": "stream",
     "text": [
      "15\n"
     ]
    }
   ],
   "source": [
    "'''1. What is the `reduce()` function in Python, and what module should you import to use it? Provide\n",
    "an example of its basic usage.'''\n",
    "\n",
    "'''The reduce() function in Python applies a specified function cumulatively to the elements of an iterable, reducing the iterable to a single value. It’s part of the functools module, so you need to import it using from functools import reduce.'''\n",
    "from functools import reduce\n",
    "\n",
    "# Example: Find the sum of elements in a list\n",
    "numbers = [1, 2, 3, 4, 5]\n",
    "\n",
    "# Using reduce() to calculate the sum\n",
    "result = reduce(lambda x, y: x + y, numbers)\n",
    "\n",
    "print(result)  # Output: 15\n"
   ]
  },
  {
   "cell_type": "code",
   "execution_count": 57,
   "id": "73024fc9",
   "metadata": {},
   "outputs": [
    {
     "name": "stdout",
     "output_type": "stream",
     "text": [
      "120\n"
     ]
    }
   ],
   "source": [
    "'''2. Write a Python program that uses the `reduce()` function to find the product of all elements in a\n",
    "list.'''\n",
    "from functools import reduce\n",
    "\n",
    "# List of numbers\n",
    "numbers = [1, 2, 3, 4, 5]\n",
    "\n",
    "# Using reduce() to find the product of all elements\n",
    "product = reduce(lambda x, y: x * y, numbers)\n",
    "\n",
    "print(product)  # Output: 120\n"
   ]
  },
  {
   "cell_type": "code",
   "execution_count": 58,
   "id": "917c19bf",
   "metadata": {},
   "outputs": [
    {
     "name": "stdout",
     "output_type": "stream",
     "text": [
      "45\n"
     ]
    }
   ],
   "source": [
    "'''3. Create a Python program that uses `reduce()` to find the maximum element in a list of numbers.'''\n",
    "from functools import reduce\n",
    "\n",
    "# List of numbers\n",
    "numbers = [5, 12, 3, 45, 7]\n",
    "\n",
    "# Using reduce() to find the maximum element\n",
    "maximum = reduce(lambda x, y: x if x > y else y, numbers)\n",
    "\n",
    "print(maximum)  # Output: 45\n"
   ]
  },
  {
   "cell_type": "code",
   "execution_count": 59,
   "id": "97c137f3",
   "metadata": {},
   "outputs": [
    {
     "name": "stdout",
     "output_type": "stream",
     "text": [
      "Hello World!\n"
     ]
    }
   ],
   "source": [
    "'''4. How can you use the `reduce()` function to concatenate a list of strings into a single string?'''\n",
    "from functools import reduce\n",
    "\n",
    "# List of strings\n",
    "strings = ['Hello', ' ', 'World', '!']\n",
    "\n",
    "# Using reduce() to concatenate the strings\n",
    "concatenated_string = reduce(lambda x, y: x + y, strings)\n",
    "\n",
    "print(concatenated_string)  # Output: 'Hello World!'\n"
   ]
  },
  {
   "cell_type": "code",
   "execution_count": 60,
   "id": "631bc80a",
   "metadata": {},
   "outputs": [
    {
     "name": "stdout",
     "output_type": "stream",
     "text": [
      "120\n"
     ]
    }
   ],
   "source": [
    "'''5. Write a Python program that calculates the factorial of a number using the `reduce()` function.'''\n",
    "from functools import reduce\n",
    "\n",
    "# Function to calculate factorial using reduce()\n",
    "def factorial(n):\n",
    "    return reduce(lambda x, y: x * y, range(1, n + 1))\n",
    "\n",
    "# Example usage\n",
    "number = 5\n",
    "print(factorial(number))  # Output: 120\n"
   ]
  },
  {
   "cell_type": "code",
   "execution_count": 61,
   "id": "aa94eee0",
   "metadata": {},
   "outputs": [
    {
     "name": "stdout",
     "output_type": "stream",
     "text": [
      "16\n"
     ]
    }
   ],
   "source": [
    "'''6. Create a Python program that uses `reduce()` to find the GCD (Greatest Common Divisor) of a list\n",
    "of numbers.'''\n",
    "from functools import reduce\n",
    "import math\n",
    "\n",
    "# List of numbers\n",
    "numbers = [48, 64, 16]\n",
    "\n",
    "# Using reduce() with math.gcd to find the GCD of the list\n",
    "gcd = reduce(math.gcd, numbers)\n",
    "\n",
    "print(gcd)  # Output: 16\n"
   ]
  },
  {
   "cell_type": "code",
   "execution_count": 62,
   "id": "8b1c26d6",
   "metadata": {},
   "outputs": [
    {
     "name": "stdout",
     "output_type": "stream",
     "text": [
      "15\n"
     ]
    }
   ],
   "source": [
    "'''7. Write a Python program that uses the `reduce()` function to find the sum of the digits of a given\n",
    "number.'''\n",
    "from functools import reduce\n",
    "\n",
    "# Number as a string to iterate over its digits\n",
    "number = 12345\n",
    "\n",
    "# Using reduce() to find the sum of the digits\n",
    "sum_of_digits = reduce(lambda x, y: x + int(y), str(number), 0)\n",
    "\n",
    "print(sum_of_digits)  # Output: 15\n"
   ]
  },
  {
   "cell_type": "markdown",
   "id": "d9cb17e5",
   "metadata": {},
   "source": [
    "# Filter :-"
   ]
  },
  {
   "cell_type": "code",
   "execution_count": 63,
   "id": "49e89f5a",
   "metadata": {},
   "outputs": [
    {
     "name": "stdout",
     "output_type": "stream",
     "text": [
      "[1, 3, 5]\n"
     ]
    }
   ],
   "source": [
    "'''1. Explain the purpose of the `filter()` function in Python and provide an example of how it can be\n",
    "used to filter elements from an iterable.'''\n",
    "\n",
    "'''The filter() function in Python is used to filter elements from an iterable (like a list, tuple, etc.) based on a specified condition. It takes two arguments: a function that returns a Boolean value (True or False) and an iterable. The function is applied to each element of the iterable, and only those elements that return True are included in the resulting filtered iterable.'''\n",
    "\n",
    "# Example function to check if a number is odd\n",
    "def is_odd(num):\n",
    "    return num % 2 != 0\n",
    "\n",
    "# List of numbers\n",
    "numbers = [1, 2, 3, 4, 5, 6]\n",
    "\n",
    "# Using filter() to filter odd numbers\n",
    "odd_numbers = list(filter(is_odd, numbers))\n",
    "\n",
    "print(odd_numbers)  # Output: [1, 3, 5]\n"
   ]
  },
  {
   "cell_type": "code",
   "execution_count": 64,
   "id": "b26ea44b",
   "metadata": {},
   "outputs": [
    {
     "name": "stdout",
     "output_type": "stream",
     "text": [
      "[10, 22, 40, 60]\n"
     ]
    }
   ],
   "source": [
    "'''2. Write a Python program that uses the `filter()` function to select even numbers from a list of\n",
    "integers.'''\n",
    "# List of numbers\n",
    "numbers = [10, 15, 22, 33, 40, 55, 60]\n",
    "\n",
    "# Using filter() to select even numbers\n",
    "even_numbers = list(filter(lambda x: x % 2 == 0, numbers))\n",
    "\n",
    "print(even_numbers)  # Output: [10, 22, 40, 60]\n"
   ]
  },
  {
   "cell_type": "code",
   "execution_count": 65,
   "id": "b95cdd4a",
   "metadata": {},
   "outputs": [
    {
     "name": "stdout",
     "output_type": "stream",
     "text": [
      "['Alice', 'Anna']\n"
     ]
    }
   ],
   "source": [
    "'''3. Create a Python program that uses the `filter()` function to select names that start with a specific\n",
    "letter from a list of strings.'''\n",
    "# List of names\n",
    "names = ['Alice', 'Bob', 'Charlie', 'David', 'Anna']\n",
    "\n",
    "# Using filter() to select names that start with 'A'\n",
    "names_starting_with_A = list(filter(lambda x: x.startswith('A'), names))\n",
    "\n",
    "print(names_starting_with_A)  # Output: ['Alice', 'Anna']\n"
   ]
  },
  {
   "cell_type": "code",
   "execution_count": 66,
   "id": "60fb6ab6",
   "metadata": {},
   "outputs": [
    {
     "name": "stdout",
     "output_type": "stream",
     "text": [
      "[2, 3, 5, 7, 11, 13]\n"
     ]
    }
   ],
   "source": [
    "'''4. Write a Python program that uses the `filter()` function to select prime numbers from a list of\n",
    "integers.'''\n",
    "# Function to check if a number is prime\n",
    "def is_prime(num):\n",
    "    if num < 2:\n",
    "        return False\n",
    "    for i in range(2, int(num**0.5) + 1):\n",
    "        if num % i == 0:\n",
    "            return False\n",
    "    return True\n",
    "\n",
    "# List of numbers\n",
    "numbers = [2, 3, 4, 5, 6, 7, 8, 9, 10, 11, 13]\n",
    "\n",
    "# Using filter() to select prime numbers\n",
    "prime_numbers = list(filter(is_prime, numbers))\n",
    "\n",
    "print(prime_numbers)  # Output: [2, 3, 5, 7, 11, 13]\n"
   ]
  },
  {
   "cell_type": "code",
   "execution_count": 67,
   "id": "1b829441",
   "metadata": {},
   "outputs": [
    {
     "name": "stdout",
     "output_type": "stream",
     "text": [
      "[1, 2, 3, 4, 5]\n"
     ]
    }
   ],
   "source": [
    "'''5. How can you use the `filter()` function to remove None values from a list in Python?'''\n",
    "# List with None values\n",
    "values = [1, None, 2, None, 3, 4, None, 5]\n",
    "\n",
    "# Using filter() to remove None values\n",
    "non_none_values = list(filter(None, values))\n",
    "\n",
    "print(non_none_values)  # Output: [1, 2, 3, 4, 5]\n"
   ]
  },
  {
   "cell_type": "code",
   "execution_count": 68,
   "id": "097a4d31",
   "metadata": {},
   "outputs": [
    {
     "name": "stdout",
     "output_type": "stream",
     "text": [
      "['banana', 'blueberry']\n"
     ]
    }
   ],
   "source": [
    "'''6. Create a Python program that uses `filter()` to select words longer than a certain length from a\n",
    "list of strings.'''\n",
    "# List of words\n",
    "words = ['apple', 'banana', 'kiwi', 'mango', 'blueberry']\n",
    "\n",
    "# Minimum length of words to select\n",
    "min_length = 5\n",
    "\n",
    "# Using filter() to select words longer than min_length\n",
    "long_words = list(filter(lambda word: len(word) > min_length, words))\n",
    "\n",
    "print(long_words)  # Output: ['banana', 'blueberry']\n"
   ]
  },
  {
   "cell_type": "code",
   "execution_count": 69,
   "id": "38e225bb",
   "metadata": {},
   "outputs": [
    {
     "name": "stdout",
     "output_type": "stream",
     "text": [
      "[25, 30, 50]\n"
     ]
    }
   ],
   "source": [
    "'''7. Write a Python program that uses the filter() function to select elements greater than a specified threshold from a list of values.'''\n",
    "# List of values\n",
    "values = [10, 25, 8, 15, 30, 5, 20, 50]\n",
    "\n",
    "# Specified threshold\n",
    "threshold = 20\n",
    "\n",
    "# Using filter() to select elements greater than the threshold\n",
    "greater_than_threshold = list(filter(lambda x: x > threshold, values))\n",
    "\n",
    "print(greater_than_threshold)  # Output: [25, 30, 50]\n"
   ]
  },
  {
   "cell_type": "markdown",
   "id": "2038c421",
   "metadata": {},
   "source": [
    "# Recursion:-"
   ]
  },
  {
   "cell_type": "code",
   "execution_count": 70,
   "id": "48c9c091",
   "metadata": {},
   "outputs": [
    {
     "data": {
      "text/plain": [
       "'Recursion is a process in which a function calls itself directly or indirectly to solve a smaller instance of a problem until it reaches a base case. Recursion is used when a problem can be broken down into similar sub-problems of the same type.\\n\\nIteration, on the other hand, uses loops (for, while) to repeat a set of instructions until a condition is met.\\n\\nKey Differences:\\n\\nRecursion is more elegant and easier to understand when dealing with problems that have a natural recursive structure (e.g., tree traversal, factorials).\\nIteration is generally more efficient in terms of memory and speed, as recursion can lead to stack overflow if not properly handled.'"
      ]
     },
     "execution_count": 70,
     "metadata": {},
     "output_type": "execute_result"
    }
   ],
   "source": [
    "'''1. Explain the concept of recursion in Python. How does it differ from iteration?'''\n",
    "\n",
    "'''Recursion is a process in which a function calls itself directly or indirectly to solve a smaller instance of a problem until it reaches a base case. Recursion is used when a problem can be broken down into similar sub-problems of the same type.\n",
    "\n",
    "Iteration, on the other hand, uses loops (for, while) to repeat a set of instructions until a condition is met.\n",
    "\n",
    "Key Differences:\n",
    "\n",
    "Recursion is more elegant and easier to understand when dealing with problems that have a natural recursive structure (e.g., tree traversal, factorials).\n",
    "Iteration is generally more efficient in terms of memory and speed, as recursion can lead to stack overflow if not properly handled.'''"
   ]
  },
  {
   "cell_type": "code",
   "execution_count": 71,
   "id": "85f2d462",
   "metadata": {},
   "outputs": [
    {
     "name": "stdout",
     "output_type": "stream",
     "text": [
      "120\n"
     ]
    }
   ],
   "source": [
    "'''2. Write a Python program to calculate the factorial of a number using recursion'''\n",
    "def factorial(n):\n",
    "    # Base case: factorial of 0 or 1 is 1\n",
    "    if n == 0 or n == 1:\n",
    "        return 1\n",
    "    # Recursive case\n",
    "    else:\n",
    "        return n * factorial(n - 1)\n",
    "\n",
    "# Example usage\n",
    "print(factorial(5))  # Output: 120\n"
   ]
  },
  {
   "cell_type": "code",
   "execution_count": 73,
   "id": "20b2ccf7",
   "metadata": {},
   "outputs": [
    {
     "name": "stdout",
     "output_type": "stream",
     "text": [
      "13\n"
     ]
    }
   ],
   "source": [
    "'''3. Create a recursive Python function to find the nth Fibonacci number'''\n",
    "def fibonacci(n):\n",
    "    # Base cases\n",
    "    if n == 0:\n",
    "        return 0\n",
    "    elif n == 1:\n",
    "        return 1\n",
    "    # Recursive case\n",
    "    else:\n",
    "        return fibonacci(n - 1) + fibonacci(n - 2)\n",
    "\n",
    "# Example usage\n",
    "print(fibonacci(7))  # Output: 13\n"
   ]
  },
  {
   "cell_type": "code",
   "execution_count": 74,
   "id": "9e1bc80c",
   "metadata": {},
   "outputs": [
    {
     "name": "stdout",
     "output_type": "stream",
     "text": [
      "15\n"
     ]
    }
   ],
   "source": [
    "'''4. Write a recursive Python function to calculate the sum of all elements in a list.'''\n",
    "def sum_list(lst):\n",
    "    # Base case: empty list\n",
    "    if not lst:\n",
    "        return 0\n",
    "    # Recursive case\n",
    "    else:\n",
    "        return lst[0] + sum_list(lst[1:])\n",
    "\n",
    "# Example usage\n",
    "print(sum_list([1, 2, 3, 4, 5]))  # Output: 15\n"
   ]
  },
  {
   "cell_type": "code",
   "execution_count": 76,
   "id": "29eaee80",
   "metadata": {},
   "outputs": [
    {
     "data": {
      "text/plain": [
       "\"To prevent infinite recursion:\\n\\nBase Case: Ensure there is a well-defined base case that stops the recursion.\\nCheck Input: Validate input to avoid cases that would cause infinite recursion.\\nRecursion Limit: Python's recursion limit can be adjusted using sys.setrecursionlimit(), but increasing it too much can lead to crashes.\""
      ]
     },
     "execution_count": 76,
     "metadata": {},
     "output_type": "execute_result"
    }
   ],
   "source": [
    "'''5. How can you prevent a recursive function from running indefinitely, causing a stack overflow\n",
    "error?'''\n",
    "'''To prevent infinite recursion:\n",
    "\n",
    "Base Case: Ensure there is a well-defined base case that stops the recursion.\n",
    "Check Input: Validate input to avoid cases that would cause infinite recursion.\n",
    "Recursion Limit: Python's recursion limit can be adjusted using sys.setrecursionlimit(), but increasing it too much can lead to crashes.'''\n"
   ]
  },
  {
   "cell_type": "code",
   "execution_count": 77,
   "id": "e4ee0e35",
   "metadata": {},
   "outputs": [
    {
     "name": "stdout",
     "output_type": "stream",
     "text": [
      "6\n"
     ]
    }
   ],
   "source": [
    "'''6. Create a recursive Python function to find the greatest common divisor (GCD) of two numbers\n",
    "using the Euclidean algorithm.'''\n",
    "def gcd(a, b):\n",
    "    # Base case\n",
    "    if b == 0:\n",
    "        return a\n",
    "    # Recursive case\n",
    "    else:\n",
    "        return gcd(b, a % b)\n",
    "\n",
    "# Example usage\n",
    "print(gcd(48, 18))  # Output: 6\n"
   ]
  },
  {
   "cell_type": "code",
   "execution_count": 78,
   "id": "34585a45",
   "metadata": {},
   "outputs": [
    {
     "name": "stdout",
     "output_type": "stream",
     "text": [
      "olleh\n"
     ]
    }
   ],
   "source": [
    "'''7. Write a recursive Python function to reverse a string.'''\n",
    "def reverse_string(s):\n",
    "    # Base case\n",
    "    if len(s) == 0:\n",
    "        return s\n",
    "    # Recursive case\n",
    "    else:\n",
    "        return s[-1] + reverse_string(s[:-1])\n",
    "\n",
    "# Example usage\n",
    "print(reverse_string(\"hello\"))  # Output: \"olleh\"\n"
   ]
  },
  {
   "cell_type": "code",
   "execution_count": 79,
   "id": "37ad3360",
   "metadata": {},
   "outputs": [
    {
     "name": "stdout",
     "output_type": "stream",
     "text": [
      "8\n"
     ]
    }
   ],
   "source": [
    "'''8. Create a recursive Python function to calculate the power of a number (x^n).'''\n",
    "def power(x, n):\n",
    "    # Base case\n",
    "    if n == 0:\n",
    "        return 1\n",
    "    # Recursive case\n",
    "    else:\n",
    "        return x * power(x, n - 1)\n",
    "\n",
    "# Example usage\n",
    "print(power(2, 3))  # Output: 8\n"
   ]
  },
  {
   "cell_type": "code",
   "execution_count": 80,
   "id": "6ad8ce86",
   "metadata": {},
   "outputs": [
    {
     "name": "stdout",
     "output_type": "stream",
     "text": [
      "['abc', 'acb', 'bac', 'bca', 'cab', 'cba']\n"
     ]
    }
   ],
   "source": [
    "'''9. Write a recursive Python function to find all permutations of a given string.'''\n",
    "def permutations(s):\n",
    "    # Base case\n",
    "    if len(s) == 1:\n",
    "        return [s]\n",
    "    # Recursive case\n",
    "    perm_list = []  # Resultant list\n",
    "    for i, char in enumerate(s):\n",
    "        for perm in permutations(s[:i] + s[i+1:]):\n",
    "            perm_list.append(char + perm)\n",
    "    return perm_list\n",
    "\n",
    "# Example usage\n",
    "print(permutations(\"abc\"))  # Output: ['abc', 'acb', 'bac', 'bca', 'cab', 'cba']\n"
   ]
  },
  {
   "cell_type": "code",
   "execution_count": 81,
   "id": "69ae36e3",
   "metadata": {},
   "outputs": [
    {
     "name": "stdout",
     "output_type": "stream",
     "text": [
      "True\n"
     ]
    }
   ],
   "source": [
    "'''10. Write a recursive Python function to check if a string is a palindrome.'''\n",
    "def is_palindrome(s):\n",
    "    # Base case\n",
    "    if len(s) <= 1:\n",
    "        return True\n",
    "    # Recursive case\n",
    "    elif s[0] == s[-1]:\n",
    "        return is_palindrome(s[1:-1])\n",
    "    else:\n",
    "        return False\n",
    "\n",
    "# Example usage\n",
    "print(is_palindrome(\"racecar\"))  # Output: True\n"
   ]
  },
  {
   "cell_type": "code",
   "execution_count": 82,
   "id": "a022a179",
   "metadata": {},
   "outputs": [
    {
     "name": "stdout",
     "output_type": "stream",
     "text": [
      "[[], [3], [2], [2, 3], [1], [1, 3], [1, 2], [1, 2, 3]]\n"
     ]
    }
   ],
   "source": [
    "'''11. Create a recursive Python function to generate all possible combinations of a list of elements.'''\n",
    "def combinations(lst):\n",
    "    # Base case\n",
    "    if len(lst) == 0:\n",
    "        return [[]]\n",
    "    # Recursive case\n",
    "    first = lst[0]\n",
    "    rest_combinations = combinations(lst[1:])\n",
    "    return rest_combinations + [[first] + comb for comb in rest_combinations]\n",
    "\n",
    "# Example usage\n",
    "print(combinations([1, 2, 3]))  \n",
    "# Output: [[], [3], [2], [2, 3], [1], [1, 3], [1, 2], [1, 2, 3]]\n"
   ]
  },
  {
   "cell_type": "markdown",
   "id": "1073c4a5",
   "metadata": {},
   "source": [
    "# Basics of Functions:"
   ]
  },
  {
   "cell_type": "code",
   "execution_count": 83,
   "id": "7688b462",
   "metadata": {},
   "outputs": [
    {
     "data": {
      "text/plain": [
       "'A function in Python is a reusable block of code that performs a specific task. Functions help in organizing code into manageable chunks, making it easier to read, maintain, and debug. They allow you to encapsulate a piece of logic, so you can use it multiple times without rewriting the code.\\n\\nBenefits of Using Functions:\\n\\nCode Reusability: Write once, use multiple times.\\nModularity: Break down complex problems into simpler tasks.\\nMaintainability: Easier to manage and update code.\\nAbstraction: Hides complex logic behind a simple interface.'"
      ]
     },
     "execution_count": 83,
     "metadata": {},
     "output_type": "execute_result"
    }
   ],
   "source": [
    "'''1. What is a function in Python, and why is it used?'''\n",
    "\n",
    "'''A function in Python is a reusable block of code that performs a specific task. Functions help in organizing code into manageable chunks, making it easier to read, maintain, and debug. They allow you to encapsulate a piece of logic, so you can use it multiple times without rewriting the code.\n",
    "\n",
    "Benefits of Using Functions:\n",
    "\n",
    "Code Reusability: Write once, use multiple times.\n",
    "Modularity: Break down complex problems into simpler tasks.\n",
    "Maintainability: Easier to manage and update code.\n",
    "Abstraction: Hides complex logic behind a simple interface.'''"
   ]
  },
  {
   "cell_type": "code",
   "execution_count": 84,
   "id": "8f20f2f3",
   "metadata": {},
   "outputs": [
    {
     "name": "stdout",
     "output_type": "stream",
     "text": [
      "Hello, Alice!\n"
     ]
    }
   ],
   "source": [
    "'''2. How do you define a function in Python? Provide an example.'''\n",
    "\n",
    "'''To define a function in Python, you use the def keyword followed by the function name and parentheses () which may include parameters. The function body is then indented under the definition.'''\n",
    "def greet(name):\n",
    "    print(f\"Hello, {name}!\")\n",
    "\n",
    "# Calling the function\n",
    "greet(\"Alice\")  # Output: Hello, Alice!\n"
   ]
  },
  {
   "cell_type": "code",
   "execution_count": 86,
   "id": "4285aebe",
   "metadata": {},
   "outputs": [
    {
     "name": "stdout",
     "output_type": "stream",
     "text": [
      "8\n"
     ]
    }
   ],
   "source": [
    "'''3. Explain the difference between a function definition and a function call.'''\n",
    "'''Function Definition: This is where you specify what the function does. It includes the function name, parameters (if any), and the block of code that runs when the function is called.'''\n",
    "def add(a, b):\n",
    "    return a + b\n",
    "\n",
    "'''Function Call: This is where you use the function to execute its code. You call the function by its name and provide the necessary arguments.'''\n",
    "result = add(5, 3)\n",
    "print(result)  # Output: 8\n"
   ]
  },
  {
   "cell_type": "code",
   "execution_count": 87,
   "id": "b6f19ebb",
   "metadata": {},
   "outputs": [
    {
     "name": "stdout",
     "output_type": "stream",
     "text": [
      "The sum is: 30\n"
     ]
    }
   ],
   "source": [
    "'''4. Write a Python program that defines a function to calculate the sum of two numbers and then\n",
    "calls the function.'''\n",
    "def add_numbers(a, b):\n",
    "    return a + b\n",
    "\n",
    "# Calling the function\n",
    "result = add_numbers(10, 20)\n",
    "print(\"The sum is:\", result)  # Output: The sum is: 30\n"
   ]
  },
  {
   "cell_type": "code",
   "execution_count": 88,
   "id": "221b4bdf",
   "metadata": {},
   "outputs": [],
   "source": [
    "'''5. What is a function signature, and what information does it typically include?'''\n",
    "\n",
    "'''A function signature refers to the part of the function definition that specifies the function’s name, its parameters, and their types (if applicable). It includes:\n",
    "\n",
    "Function Name: Identifies the function.\n",
    "Parameters: List of variables that the function accepts as input.\n",
    "Return Type: Specifies what type of value the function will return (in strongly typed languages; Python does not require this).'''\n",
    "def multiply(x, y):  # Function signature\n",
    "    return x * y\n"
   ]
  },
  {
   "cell_type": "code",
   "execution_count": 89,
   "id": "869846ac",
   "metadata": {},
   "outputs": [
    {
     "name": "stdout",
     "output_type": "stream",
     "text": [
      "The product is: 20\n"
     ]
    }
   ],
   "source": [
    "'''6. Create a Python function that takes two arguments and returns their product.'''\n",
    "def multiply(x, y):\n",
    "    return x * y\n",
    "\n",
    "# Example usage\n",
    "product = multiply(4, 5)\n",
    "print(\"The product is:\", product)  # Output: The product is: 20\n"
   ]
  },
  {
   "cell_type": "markdown",
   "id": "b7550697",
   "metadata": {},
   "source": [
    "# Function Parameters and Arguments:"
   ]
  },
  {
   "cell_type": "code",
   "execution_count": 90,
   "id": "ca9f2a5c",
   "metadata": {},
   "outputs": [
    {
     "name": "stdout",
     "output_type": "stream",
     "text": [
      "Hello, Alice!\n"
     ]
    }
   ],
   "source": [
    "'''1. Explain the concepts of formal parameters and actual arguments in Python functions.'''\n",
    "\n",
    "'''Formal Parameters: These are the variables listed in the function definition. They act as placeholders for the values that will be passed into the function when it is called.'''\n",
    "def greet(name):  # 'name' is a formal parameter\n",
    "    print(f\"Hello, {name}!\")\n",
    "\n",
    "'''Actual Arguments: These are the values or expressions that you pass to the function when calling it. They correspond to the formal parameters.'''\n",
    "greet(\"Alice\")  # \"Alice\" is an actual argument\n"
   ]
  },
  {
   "cell_type": "code",
   "execution_count": 92,
   "id": "9712e6f0",
   "metadata": {},
   "outputs": [
    {
     "name": "stdout",
     "output_type": "stream",
     "text": [
      "Hello, Guest. Welcome!\n",
      "Hello, Alice. Welcome!\n",
      "Hello, Bob. Goodbye!\n"
     ]
    }
   ],
   "source": [
    "'''2. Write a Python program that defines a function with default argument values.'''\n",
    "'''Default argument values allow you to specify default values for parameters in a function definition. If no argument is provided for these parameters when the function is called, the default values are used.'''\n",
    "def greet(name=\"Guest\", message=\"Welcome!\"):\n",
    "    print(f\"Hello, {name}. {message}\")\n",
    "\n",
    "# Function calls\n",
    "greet()                     # Output: Hello, Guest. Welcome!\n",
    "greet(\"Alice\")              # Output: Hello, Alice. Welcome!\n",
    "greet(\"Bob\", \"Goodbye!\")    # Output: Hello, Bob. Goodbye!\n"
   ]
  },
  {
   "cell_type": "code",
   "execution_count": 93,
   "id": "3a8bca66",
   "metadata": {},
   "outputs": [
    {
     "name": "stdout",
     "output_type": "stream",
     "text": [
      "Name: John, Age: 30, City: New York\n"
     ]
    }
   ],
   "source": [
    "'''3. How do you use keyword arguments in Python function calls? Provide an example.'''\n",
    "'''Keyword Arguments are arguments that are passed to a function by explicitly specifying the parameter name. This improves code readability and allows you to specify arguments in any order.'''\n",
    "def describe_person(name, age, city):\n",
    "    print(f\"Name: {name}, Age: {age}, City: {city}\")\n",
    "\n",
    "# Using keyword arguments\n",
    "describe_person(age=30, city=\"New York\", name=\"John\")\n",
    "# Output: Name: John, Age: 30, City: New York\n"
   ]
  },
  {
   "cell_type": "code",
   "execution_count": 94,
   "id": "42df95b2",
   "metadata": {},
   "outputs": [
    {
     "name": "stdout",
     "output_type": "stream",
     "text": [
      "The sum is: 15\n"
     ]
    }
   ],
   "source": [
    "'''4. Create a Python function that accepts a variable number of arguments and calculates their sum.'''\n",
    "'''To handle a variable number of arguments, you can use the *args syntax. *args allows you to pass a variable number of positional arguments to a function.'''\n",
    "def sum_all(*args):\n",
    "    return sum(args)\n",
    "\n",
    "# Example usage\n",
    "result = sum_all(1, 2, 3, 4, 5)\n",
    "print(\"The sum is:\", result)  # Output: The sum is: 15\n"
   ]
  },
  {
   "cell_type": "code",
   "execution_count": 96,
   "id": "8d70f01e",
   "metadata": {},
   "outputs": [
    {
     "name": "stdout",
     "output_type": "stream",
     "text": [
      "1\n",
      "2\n",
      "3\n",
      "4\n",
      "name: Alice\n",
      "age: 30\n",
      "a: 1, b: 2\n",
      "Additional positional arguments: (3, 4)\n",
      "Keyword arguments: {'name': 'Alice', 'age': 30}\n"
     ]
    }
   ],
   "source": [
    "'''5. What is the purpose of the `*args` and `**kwargs` syntax in function parameter lists?'''\n",
    "'''*args: Allows a function to accept any number of positional arguments. The arguments are passed as a tuple.'''\n",
    "def print_args(*args):\n",
    "    for arg in args:\n",
    "        print(arg)\n",
    "\n",
    "print_args(1, 2, 3, 4)  # Output: 1, 2, 3, 4\n",
    "\n",
    "'''**kwargs: Allows a function to accept any number of keyword arguments. The arguments are passed as a dictionary where keys are parameter names and values are the arguments.'''\n",
    "def print_kwargs(**kwargs):\n",
    "    for key, value in kwargs.items():\n",
    "        print(f\"{key}: {value}\")\n",
    "\n",
    "print_kwargs(name=\"Alice\", age=30)  # Output: name: Alice, age: 30\n",
    "\n",
    "'''Combining *args and **kwargs:\n",
    "\n",
    "we can use both *args and **kwargs in the same function to accept both positional and keyword arguments.'''\n",
    "\n",
    "def mixed_args_and_kwargs(a, b, *args, **kwargs):\n",
    "    print(f\"a: {a}, b: {b}\")\n",
    "    print(\"Additional positional arguments:\", args)\n",
    "    print(\"Keyword arguments:\", kwargs)\n",
    "\n",
    "mixed_args_and_kwargs(1, 2, 3, 4, name=\"Alice\", age=30)\n",
    "# Output:\n",
    "# a: 1, b: 2\n",
    "# Additional positional arguments: (3, 4)\n",
    "# Keyword arguments: {'name': 'Alice', 'age': 30}\n"
   ]
  },
  {
   "cell_type": "markdown",
   "id": "983c37ba",
   "metadata": {},
   "source": [
    "# Return Values and Scoping:"
   ]
  },
  {
   "cell_type": "code",
   "execution_count": 97,
   "id": "37d7b0f8",
   "metadata": {},
   "outputs": [
    {
     "name": "stdout",
     "output_type": "stream",
     "text": [
      "8\n"
     ]
    }
   ],
   "source": [
    "'''1. Describe the role of the `return` statement in Python functions and provide examples.'''\n",
    "\n",
    "'''The return statement is used in Python functions to exit the function and return a value to the caller. It allows you to pass data from the function back to the point where it was called.'''\n",
    "def add(a, b):\n",
    "    return a + b\n",
    "\n",
    "result = add(5, 3)\n",
    "print(result)  # Output: 8\n"
   ]
  },
  {
   "cell_type": "code",
   "execution_count": 98,
   "id": "f1e025cb",
   "metadata": {},
   "outputs": [
    {
     "name": "stdout",
     "output_type": "stream",
     "text": [
      "10\n",
      "5\n"
     ]
    }
   ],
   "source": [
    "'''2. Explain the concept of variable scope in Python, including local and global variables.'''\n",
    "'''Local Variables: Variables defined inside a function are local to that function and can only be accessed within it.\n",
    "Global Variables: Variables defined outside any function are global and can be accessed from any function within the same module.'''\n",
    "global_var = 10\n",
    "\n",
    "def my_function():\n",
    "    local_var = 5\n",
    "    print(global_var)  # Accessing global variable\n",
    "    print(local_var)   # Accessing local variable\n",
    "\n",
    "my_function()\n",
    "# print(local_var)  # This would raise an error because local_var is not accessible outside the function\n"
   ]
  },
  {
   "cell_type": "code",
   "execution_count": 99,
   "id": "b5fc4860",
   "metadata": {},
   "outputs": [
    {
     "name": "stdout",
     "output_type": "stream",
     "text": [
      "Inside function: 30\n",
      "Outside function: 30\n"
     ]
    }
   ],
   "source": [
    "'''3. Write a Python program that demonstrates the use of global variables within functions.'''\n",
    "global_var = 20\n",
    "\n",
    "def modify_global():\n",
    "    global global_var\n",
    "    global_var += 10\n",
    "    print(\"Inside function:\", global_var)\n",
    "\n",
    "modify_global()\n",
    "print(\"Outside function:\", global_var)\n"
   ]
  },
  {
   "cell_type": "code",
   "execution_count": 100,
   "id": "43df28c9",
   "metadata": {},
   "outputs": [
    {
     "name": "stdout",
     "output_type": "stream",
     "text": [
      "120\n"
     ]
    }
   ],
   "source": [
    "'''4. Create a Python function that calculates the factorial of a number and returns it.'''\n",
    "def factorial(n):\n",
    "    if n == 0:\n",
    "        return 1\n",
    "    else:\n",
    "        return n * factorial(n - 1)\n",
    "\n",
    "print(factorial(5))  # Output: 120\n"
   ]
  },
  {
   "cell_type": "code",
   "execution_count": 108,
   "id": "2fdcce93",
   "metadata": {},
   "outputs": [
    {
     "name": "stdout",
     "output_type": "stream",
     "text": [
      "Before updating: 0\n",
      "After updating: 1\n",
      "Global counter value: 1\n"
     ]
    }
   ],
   "source": [
    "'''5. How can you access variables defined outside a function from within the function?'''\n",
    "\n",
    "'''\n",
    "To access variables defined outside a function from within the function, you can simply reference the global variable directly within the function. However, if you want to modify the global variable, you need to use the global keyword to indicate that you are referring to the global variable rather than creating a new local variable.'''\n",
    "# Define a global variable\n",
    "counter = 0\n",
    "\n",
    "# Function to access and modify the global variable\n",
    "def update_counter():\n",
    "    global counter  # Indicate that we're using the global variable 'counter'\n",
    "    print(\"Before updating:\", counter)  # Access the global variable\n",
    "    counter += 1   # Modify the global variable\n",
    "    print(\"After updating:\", counter)\n",
    "\n",
    "# Call the function\n",
    "update_counter()\n",
    "\n",
    "# Print the global variable from outside the function\n",
    "print(\"Global counter value:\", counter)\n"
   ]
  },
  {
   "cell_type": "markdown",
   "id": "5c95211e",
   "metadata": {},
   "source": [
    "# Lambda Functions and Higher-Order Functions:"
   ]
  },
  {
   "cell_type": "code",
   "execution_count": 103,
   "id": "1f12285b",
   "metadata": {},
   "outputs": [
    {
     "name": "stdout",
     "output_type": "stream",
     "text": [
      "16\n"
     ]
    }
   ],
   "source": [
    "'''1. What are lambda functions in Python, and when are they typically used?'''\n",
    "'''Lambda functions are small, anonymous functions defined using the lambda keyword. They are typically used for short-lived operations where defining a full function might be unnecessarily verbose.'''\n",
    "square = lambda x: x * x\n",
    "print(square(4))  # Output: 16\n"
   ]
  },
  {
   "cell_type": "code",
   "execution_count": 104,
   "id": "e71ab4d0",
   "metadata": {},
   "outputs": [
    {
     "name": "stdout",
     "output_type": "stream",
     "text": [
      "[(4, 1), (2, 2), (1, 3)]\n"
     ]
    }
   ],
   "source": [
    "'''2. Write a Python program that uses lambda functions to sort a list of tuples based on the second\n",
    "element.'''\n",
    "tuples = [(1, 3), (2, 2), (4, 1)]\n",
    "sorted_tuples = sorted(tuples, key=lambda x: x[1])\n",
    "print(sorted_tuples)  # Output: [(4, 1), (2, 2), (1, 3)]\n"
   ]
  },
  {
   "cell_type": "code",
   "execution_count": 106,
   "id": "a49a16ca",
   "metadata": {},
   "outputs": [
    {
     "name": "stdout",
     "output_type": "stream",
     "text": [
      "10\n"
     ]
    }
   ],
   "source": [
    "'''3. Explain the concept of higher-order functions in Python, and provide an example.'''\n",
    "'''Higher-order functions are functions that can take other functions as arguments or return functions as results. They allow for more abstract and flexible code.'''\n",
    "def apply_function(func, value):\n",
    "    return func(value)\n",
    "\n",
    "def double(x):\n",
    "    return x * 2\n",
    "\n",
    "print(apply_function(double, 5))  # Output: 10\n"
   ]
  },
  {
   "cell_type": "code",
   "execution_count": 107,
   "id": "b3f51fd5",
   "metadata": {},
   "outputs": [
    {
     "name": "stdout",
     "output_type": "stream",
     "text": [
      "[1, 4, 9, 16]\n"
     ]
    }
   ],
   "source": [
    "'''4. Create a Python function that takes a list of numbers and a function as arguments, applying the\n",
    "function to each element in the list.'''\n",
    "def apply_to_list(lst, func):\n",
    "    return [func(x) for x in lst]\n",
    "\n",
    "def square(x):\n",
    "    return x * x\n",
    "\n",
    "numbers = [1, 2, 3, 4]\n",
    "result = apply_to_list(numbers, square)\n",
    "print(result)  # Output: [1, 4, 9, 16]\n"
   ]
  },
  {
   "cell_type": "markdown",
   "id": "18c25fad",
   "metadata": {},
   "source": [
    "# Built-in Functions:"
   ]
  },
  {
   "cell_type": "code",
   "execution_count": 115,
   "id": "827cfe56",
   "metadata": {},
   "outputs": [
    {
     "name": "stdout",
     "output_type": "stream",
     "text": [
      "5\n",
      "13\n",
      "3\n",
      "50\n",
      "15\n",
      "p\n",
      "10\n",
      "5\n",
      "a\n"
     ]
    }
   ],
   "source": [
    "'''1. Describe the role of built-in functions like `len()`, `max()`, and `min()` in Python.'''\n",
    "'''Role of Built-in Functions:\n",
    "len() Function: The len() function returns the number of items in an object such as a list, tuple, string, or dictionary. It helps determine the size or length of the object.'''\n",
    "\n",
    "# Example with a list\n",
    "numbers = [10, 20, 30, 40, 50]\n",
    "print(len(numbers))  # Output: 5\n",
    "\n",
    "# Example with a string\n",
    "text = \"Hello, World!\"\n",
    "print(len(text))  # Output: 13\n",
    "\n",
    "# Example with a dictionary\n",
    "student = {\"name\": \"Alice\", \"age\": 21, \"grade\": \"A\"}\n",
    "print(len(student))  # Output: 3\n",
    "\n",
    "'''max() Function: The max() function returns the largest item in an iterable (like a list or tuple) or the largest of two or more arguments. It's useful for finding the maximum value in a collection or among values.'''\n",
    "# Example with a list\n",
    "numbers = [10, 20, 30, 40, 50]\n",
    "print(max(numbers))  # Output: 50\n",
    "\n",
    "# Example with multiple arguments\n",
    "a = 5\n",
    "b = 15\n",
    "c = 10\n",
    "print(max(a, b, c))  # Output: 15\n",
    "\n",
    "# Example with a string\n",
    "text = \"apple\"\n",
    "print(max(text))  # Output: 'p'\n",
    "'''Purpose: The min() function returns the smallest item in an iterable or the smallest of two or more arguments. It helps identify the minimum value in a collection or among values.'''\n",
    "# Example with a list\n",
    "numbers = [10, 20, 30, 40, 50]\n",
    "print(min(numbers))  # Output: 10\n",
    "\n",
    "# Example with multiple arguments\n",
    "a = 5\n",
    "b = 15\n",
    "c = 10\n",
    "print(min(a, b, c))  # Output: 5\n",
    "\n",
    "# Example with a string\n",
    "text = \"banana\"\n",
    "print(min(text))  # Output: 'a'\n"
   ]
  },
  {
   "cell_type": "code",
   "execution_count": 110,
   "id": "9dd8c90f",
   "metadata": {},
   "outputs": [
    {
     "name": "stdout",
     "output_type": "stream",
     "text": [
      "[1, 4, 9, 16, 25]\n"
     ]
    }
   ],
   "source": [
    "'''2. Write a Python program that uses the `map()` function to apply a function to each element of a\n",
    "list.'''\n",
    "# Define a function to square a number\n",
    "def square(x):\n",
    "    return x * x\n",
    "\n",
    "# List of numbers\n",
    "numbers = [1, 2, 3, 4, 5]\n",
    "\n",
    "# Use map() to apply the square function to each element\n",
    "squared_numbers = list(map(square, numbers))\n",
    "\n",
    "print(squared_numbers)\n"
   ]
  },
  {
   "cell_type": "code",
   "execution_count": 111,
   "id": "91645b48",
   "metadata": {},
   "outputs": [
    {
     "name": "stdout",
     "output_type": "stream",
     "text": [
      "[2, 4, 6]\n"
     ]
    }
   ],
   "source": [
    "'''3. How does the `filter()` function work in Python, and when would you use it?'''\n",
    "'''The filter() function applies a given function to each item in an iterable and returns only the items for which the function returns True. Use it when you need to filter out items from a list based on a condition.'''\n",
    "# Define a function to check if a number is even\n",
    "def is_even(x):\n",
    "    return x % 2 == 0\n",
    "\n",
    "# List of numbers\n",
    "numbers = [1, 2, 3, 4, 5, 6]\n",
    "\n",
    "# Use filter() to select even numbers\n",
    "even_numbers = list(filter(is_even, numbers))\n",
    "\n",
    "print(even_numbers)\n"
   ]
  },
  {
   "cell_type": "code",
   "execution_count": 112,
   "id": "e22d43fa",
   "metadata": {},
   "outputs": [
    {
     "name": "stdout",
     "output_type": "stream",
     "text": [
      "120\n"
     ]
    }
   ],
   "source": [
    "'''4. Create a Python program that uses the `reduce()` function to find the product of all elements in\n",
    "a list.'''\n",
    "from functools import reduce\n",
    "\n",
    "# Define a function to multiply two numbers\n",
    "def multiply(x, y):\n",
    "    return x * y\n",
    "\n",
    "# List of numbers\n",
    "numbers = [1, 2, 3, 4, 5]\n",
    "\n",
    "# Use reduce() to find the product of all elements\n",
    "product = reduce(multiply, numbers)\n",
    "\n",
    "print(product)\n"
   ]
  },
  {
   "cell_type": "markdown",
   "id": "9ec92e0f",
   "metadata": {},
   "source": [
    "# Function Documentation and Best Practices:"
   ]
  },
  {
   "cell_type": "code",
   "execution_count": 113,
   "id": "3f2825f7",
   "metadata": {},
   "outputs": [],
   "source": [
    "'''1. Explain the purpose of docstrings in Python functions and how to write them.'''\n",
    "'''Purpose of Docstrings:\n",
    "\n",
    "Docstrings provide a convenient way to associate documentation with functions, classes, and modules. They are used to describe what a function does, its parameters, and its return value.\n",
    "\n",
    "How to Write Docstrings:\n",
    "\n",
    "Use triple quotes \"\"\" for multi-line docstrings.\n",
    "Include a brief description of the function's purpose.\n",
    "Optionally, describe parameters and return values.'''\n",
    "def add(a, b):\n",
    "    \"\"\"\n",
    "    Add two numbers and return the result.\n",
    "\n",
    "    Parameters:\n",
    "    a (int): The first number.\n",
    "    b (int): The second number.\n",
    "\n",
    "    Returns:\n",
    "    int: The sum of the two numbers.\n",
    "    \"\"\"\n",
    "    return a + b\n"
   ]
  },
  {
   "cell_type": "code",
   "execution_count": 114,
   "id": "e76adffe",
   "metadata": {},
   "outputs": [
    {
     "data": {
      "text/plain": [
       "'Use Descriptive Names: Choose names that clearly describe the purpose of the function or variable.\\n\\nGood: calculate_total, user_age\\nBad: ct, ua\\nFollow Naming Conventions:\\n\\nFunction Names: Use lowercase_with_underscores. Example: compute_average.\\nVariable Names: Use lowercase_with_underscores. Example: total_amount.\\nConstants: Use UPPERCASE_WITH_UNDERSCORES. Example: MAX_ATTEMPTS.\\nAvoid Single Letter Names: Except for loop counters and similar cases. Example: i, j.\\n\\nBe Consistent: Use consistent naming conventions throughout your code to improve readability.\\n\\nKeep Function and Variable Names Meaningful: Avoid ambiguous names. A name should provide insight into what the function or variable does.'"
      ]
     },
     "execution_count": 114,
     "metadata": {},
     "output_type": "execute_result"
    }
   ],
   "source": [
    "'''2. Describe some best practices for naming functions and variables in Python, including naming\n",
    "conventions and guidelines.'''\n",
    "\n",
    "'''Use Descriptive Names: Choose names that clearly describe the purpose of the function or variable.\n",
    "\n",
    "Good: calculate_total, user_age\n",
    "Bad: ct, ua\n",
    "Follow Naming Conventions:\n",
    "\n",
    "Function Names: Use lowercase_with_underscores. Example: compute_average.\n",
    "Variable Names: Use lowercase_with_underscores. Example: total_amount.\n",
    "Constants: Use UPPERCASE_WITH_UNDERSCORES. Example: MAX_ATTEMPTS.\n",
    "Avoid Single Letter Names: Except for loop counters and similar cases. Example: i, j.\n",
    "\n",
    "Be Consistent: Use consistent naming conventions throughout your code to improve readability.\n",
    "\n",
    "Keep Function and Variable Names Meaningful: Avoid ambiguous names. A name should provide insight into what the function or variable does.'''"
   ]
  },
  {
   "cell_type": "code",
   "execution_count": null,
   "id": "bb007ae9",
   "metadata": {},
   "outputs": [],
   "source": []
  }
 ],
 "metadata": {
  "kernelspec": {
   "display_name": "Python 3 (ipykernel)",
   "language": "python",
   "name": "python3"
  },
  "language_info": {
   "codemirror_mode": {
    "name": "ipython",
    "version": 3
   },
   "file_extension": ".py",
   "mimetype": "text/x-python",
   "name": "python",
   "nbconvert_exporter": "python",
   "pygments_lexer": "ipython3",
   "version": "3.11.7"
  }
 },
 "nbformat": 4,
 "nbformat_minor": 5
}
