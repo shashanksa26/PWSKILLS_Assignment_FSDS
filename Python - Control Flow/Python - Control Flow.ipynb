{
 "cells": [
  {
   "cell_type": "markdown",
   "id": "0dfddf4f",
   "metadata": {},
   "source": [
    "# Basic If-Else Statements:"
   ]
  },
  {
   "cell_type": "code",
   "execution_count": 1,
   "id": "17826637",
   "metadata": {},
   "outputs": [
    {
     "name": "stdout",
     "output_type": "stream",
     "text": [
      "Enter a number: 5\n",
      "The number is positive.\n"
     ]
    }
   ],
   "source": [
    "'''1. Write a Python program to check if a given number is positive or negative.'''\n",
    "number = float(input(\"Enter a number: \"))\n",
    "if number > 0:\n",
    "    print(\"The number is positive.\")\n",
    "elif number < 0:\n",
    "    print(\"The number is negative.\")\n",
    "else:\n",
    "    print(\"The number is zero.\")\n"
   ]
  },
  {
   "cell_type": "code",
   "execution_count": 2,
   "id": "21858e54",
   "metadata": {},
   "outputs": [
    {
     "name": "stdout",
     "output_type": "stream",
     "text": [
      "Enter your age: 19\n",
      "You are eligible to vote.\n"
     ]
    }
   ],
   "source": [
    "'''2. Create a program that determines if a person is eligible to vote based on their age.'''\n",
    "age = int(input(\"Enter your age: \"))\n",
    "if age >= 18:\n",
    "    print(\"You are eligible to vote.\")\n",
    "else:\n",
    "    print(\"You are not eligible to vote.\")\n"
   ]
  },
  {
   "cell_type": "code",
   "execution_count": 3,
   "id": "b92f94d5",
   "metadata": {},
   "outputs": [
    {
     "name": "stdout",
     "output_type": "stream",
     "text": [
      "Enter the first number: 34\n",
      "Enter the second number: 56\n",
      "The maximum number is: 56.0\n"
     ]
    }
   ],
   "source": [
    "'''3. Develop a program to find the maximum of two numbers using if-else statements.'''\n",
    "num1 = float(input(\"Enter the first number: \"))\n",
    "num2 = float(input(\"Enter the second number: \"))\n",
    "if num1 > num2:\n",
    "    print(\"The maximum number is:\", num1)\n",
    "else:\n",
    "    print(\"The maximum number is:\", num2)\n"
   ]
  },
  {
   "cell_type": "code",
   "execution_count": 6,
   "id": "6d9392ad",
   "metadata": {},
   "outputs": [
    {
     "name": "stdout",
     "output_type": "stream",
     "text": [
      "Enter a year: 2024\n",
      "2024 is a leap year.\n"
     ]
    }
   ],
   "source": [
    "'''4. Write a Python script to classify a given year as a leap year or not.'''\n",
    "year = int(input(\"Enter a year: \"))\n",
    "if (year % 4 == 0 and year % 100 != 0) or (year % 400 == 0):\n",
    "    print(year, \"is a leap year.\")\n",
    "else:\n",
    "    print(year, \"is not a leap year.\")\n"
   ]
  },
  {
   "cell_type": "code",
   "execution_count": 7,
   "id": "6177e328",
   "metadata": {},
   "outputs": [
    {
     "name": "stdout",
     "output_type": "stream",
     "text": [
      "Enter a character: a\n",
      "a is a vowel.\n"
     ]
    }
   ],
   "source": [
    "'''5. Create a program that checks whether a character is a vowel or a consonant.'''\n",
    "char = input(\"Enter a character: \").lower()\n",
    "if char in 'aeiou':\n",
    "    print(char, \"is a vowel.\")\n",
    "else:\n",
    "    print(char, \"is a consonant.\")\n"
   ]
  },
  {
   "cell_type": "code",
   "execution_count": 8,
   "id": "12ab0ce8",
   "metadata": {},
   "outputs": [
    {
     "name": "stdout",
     "output_type": "stream",
     "text": [
      "Enter a number: 5\n",
      "5 is odd.\n"
     ]
    }
   ],
   "source": [
    "'''6. Implement a program to determine whether a given number is even or odd.'''\n",
    "number = int(input(\"Enter a number: \"))\n",
    "if number % 2 == 0:\n",
    "    print(number, \"is even.\")\n",
    "else:\n",
    "    print(number, \"is odd.\")\n"
   ]
  },
  {
   "cell_type": "code",
   "execution_count": 9,
   "id": "dfd0dac1",
   "metadata": {},
   "outputs": [
    {
     "name": "stdout",
     "output_type": "stream",
     "text": [
      "Enter a number: 5\n",
      "The absolute value is: 5.0\n"
     ]
    }
   ],
   "source": [
    "'''7. Write a Python function to calculate the absolute value of a number without using the `abs()` function.'''\n",
    "number = float(input(\"Enter a number: \"))\n",
    "if number < 0:\n",
    "    absolute_value = -number\n",
    "else:\n",
    "    absolute_value = number\n",
    "print(\"The absolute value is:\", absolute_value)\n"
   ]
  },
  {
   "cell_type": "code",
   "execution_count": 10,
   "id": "389472a9",
   "metadata": {},
   "outputs": [
    {
     "name": "stdout",
     "output_type": "stream",
     "text": [
      "Enter the first number: 34\n",
      "Enter the second number: 45\n",
      "Enter the third number: 67\n",
      "The largest number is: 67.0\n"
     ]
    }
   ],
   "source": [
    "'''8. Develop a program that determines the largest of three given numbers using if-else statements.'''\n",
    "num1 = float(input(\"Enter the first number: \"))\n",
    "num2 = float(input(\"Enter the second number: \"))\n",
    "num3 = float(input(\"Enter the third number: \"))\n",
    "if num1 >= num2 and num1 >= num3:\n",
    "    print(\"The largest number is:\", num1)\n",
    "elif num2 >= num1 and num2 >= num3:\n",
    "    print(\"The largest number is:\", num2)\n",
    "else:\n",
    "    print(\"The largest number is:\", num3)\n"
   ]
  },
  {
   "cell_type": "code",
   "execution_count": 11,
   "id": "55b4c7c8",
   "metadata": {},
   "outputs": [
    {
     "name": "stdout",
     "output_type": "stream",
     "text": [
      "Enter a string: lol\n",
      "The string is a palindrome.\n"
     ]
    }
   ],
   "source": [
    "'''9. Create a program that checks if a given string is a palindrome.'''\n",
    "string = input(\"Enter a string: \").lower()\n",
    "if string == string[::-1]:\n",
    "    print(\"The string is a palindrome.\")\n",
    "else:\n",
    "    print(\"The string is not a palindrome.\")\n"
   ]
  },
  {
   "cell_type": "code",
   "execution_count": 12,
   "id": "a0351915",
   "metadata": {},
   "outputs": [
    {
     "name": "stdout",
     "output_type": "stream",
     "text": [
      "Enter the student's score: 93\n",
      "The student's grade is: A\n"
     ]
    }
   ],
   "source": [
    "'''10. Write a Python program to calculate the grade based on a student's score.'''\n",
    "score = float(input(\"Enter the student's score: \"))\n",
    "if score >= 90:\n",
    "    grade = 'A'\n",
    "elif score >= 80:\n",
    "    grade = 'B'\n",
    "elif score >= 70:\n",
    "    grade = 'C'\n",
    "elif score >= 60:\n",
    "    grade = 'D'\n",
    "else:\n",
    "    grade = 'F'\n",
    "print(\"The student's grade is:\", grade)\n"
   ]
  },
  {
   "cell_type": "markdown",
   "id": "7aac678a",
   "metadata": {},
   "source": [
    "# Nested If-Else Statements:"
   ]
  },
  {
   "cell_type": "code",
   "execution_count": 13,
   "id": "0a04f2a4",
   "metadata": {},
   "outputs": [
    {
     "name": "stdout",
     "output_type": "stream",
     "text": [
      "Enter the first number: 23\n",
      "Enter the second number: 34\n",
      "Enter the third number: 56\n",
      "The largest number is: 56.0\n"
     ]
    }
   ],
   "source": [
    "'''11. Write a program to find the largest among three numbers using nested if-else statements.'''\n",
    "num1 = float(input(\"Enter the first number: \"))\n",
    "num2 = float(input(\"Enter the second number: \"))\n",
    "num3 = float(input(\"Enter the third number: \"))\n",
    "\n",
    "if num1 >= num2:\n",
    "    if num1 >= num3:\n",
    "        largest = num1\n",
    "    else:\n",
    "        largest = num3\n",
    "else:\n",
    "    if num2 >= num3:\n",
    "        largest = num2\n",
    "    else:\n",
    "        largest = num3\n",
    "\n",
    "print(\"The largest number is:\", largest)\n"
   ]
  },
  {
   "cell_type": "code",
   "execution_count": 14,
   "id": "9cc0f9e0",
   "metadata": {},
   "outputs": [
    {
     "name": "stdout",
     "output_type": "stream",
     "text": [
      "Enter the first side of the triangle: 7\n",
      "Enter the second side of the triangle: 8\n",
      "Enter the third side of the triangle: 9\n",
      "The triangle is scalene.\n"
     ]
    }
   ],
   "source": [
    "'''12. Implement a program to determine if a triangle is equilateral, isosceles, or scalene.'''\n",
    "side1 = float(input(\"Enter the first side of the triangle: \"))\n",
    "side2 = float(input(\"Enter the second side of the triangle: \"))\n",
    "side3 = float(input(\"Enter the third side of the triangle: \"))\n",
    "\n",
    "if side1 == side2 and side2 == side3:\n",
    "    print(\"The triangle is equilateral.\")\n",
    "elif side1 == side2 or side2 == side3 or side1 == side3:\n",
    "    print(\"The triangle is isosceles.\")\n",
    "else:\n",
    "    print(\"The triangle is scalene.\")\n"
   ]
  },
  {
   "cell_type": "code",
   "execution_count": 15,
   "id": "44b12470",
   "metadata": {},
   "outputs": [
    {
     "name": "stdout",
     "output_type": "stream",
     "text": [
      "Enter a year: 2022\n",
      "2022 is not a leap year.\n"
     ]
    }
   ],
   "source": [
    "'''13. Develop a program that checks if a year is a leap year and also if it is a century year.'''\n",
    "year = int(input(\"Enter a year: \"))\n",
    "\n",
    "if (year % 4 == 0 and year % 100 != 0) or (year % 400 == 0):\n",
    "    if year % 100 == 0:\n",
    "        print(year, \"is a leap year and a century year.\")\n",
    "    else:\n",
    "        print(year, \"is a leap year but not a century year.\")\n",
    "else:\n",
    "    print(year, \"is not a leap year.\")\n"
   ]
  },
  {
   "cell_type": "code",
   "execution_count": 16,
   "id": "9b1b95e3",
   "metadata": {},
   "outputs": [
    {
     "name": "stdout",
     "output_type": "stream",
     "text": [
      "Enter a number: -12\n",
      "The number is negative.\n"
     ]
    }
   ],
   "source": [
    "'''14. Write a Python script to determine if a number is positive, negative, or zero.'''\n",
    "\n",
    "number = float(input(\"Enter a number: \"))\n",
    "\n",
    "if number > 0:\n",
    "    print(\"The number is positive.\")\n",
    "elif number < 0:\n",
    "    print(\"The number is negative.\")\n",
    "else:\n",
    "    print(\"The number is zero.\")\n"
   ]
  },
  {
   "cell_type": "code",
   "execution_count": 17,
   "id": "03ee3e77",
   "metadata": {},
   "outputs": [
    {
     "name": "stdout",
     "output_type": "stream",
     "text": [
      "Enter the person's age: 19\n",
      "The person is a teenager.\n"
     ]
    }
   ],
   "source": [
    "'''15. Create a program to check if a person is a teenager (between 13 and 19 years old).'''\n",
    "age = int(input(\"Enter the person's age: \"))\n",
    "\n",
    "if age >= 13:\n",
    "    if age <= 19:\n",
    "        print(\"The person is a teenager.\")\n",
    "    else:\n",
    "        print(\"The person is not a teenager.\")\n",
    "else:\n",
    "    print(\"The person is not a teenager.\")\n"
   ]
  },
  {
   "cell_type": "code",
   "execution_count": 18,
   "id": "99d8b1a0",
   "metadata": {},
   "outputs": [
    {
     "name": "stdout",
     "output_type": "stream",
     "text": [
      "Enter the angle in degrees: 91\n",
      "The angle is obtuse.\n"
     ]
    }
   ],
   "source": [
    "'''16. Develop a program that determines the type of angle based on its measure (acute, obtuse, or right).'''\n",
    "angle = float(input(\"Enter the angle in degrees: \"))\n",
    "\n",
    "if angle < 90:\n",
    "    print(\"The angle is acute.\")\n",
    "elif angle == 90:\n",
    "    print(\"The angle is a right angle.\")\n",
    "else:\n",
    "    print(\"The angle is obtuse.\")\n"
   ]
  },
  {
   "cell_type": "code",
   "execution_count": 19,
   "id": "92205818",
   "metadata": {},
   "outputs": [
    {
     "name": "stdout",
     "output_type": "stream",
     "text": [
      "Enter the coefficient a: 4\n",
      "Enter the coefficient b: 5\n",
      "Enter the coefficient c: 6\n",
      "The roots are complex and different.\n"
     ]
    }
   ],
   "source": [
    "'''17. Write a Python program to calculate the roots of a quadratic equation.'''\n",
    "import math\n",
    "\n",
    "a = float(input(\"Enter the coefficient a: \"))\n",
    "b = float(input(\"Enter the coefficient b: \"))\n",
    "c = float(input(\"Enter the coefficient c: \"))\n",
    "\n",
    "if a != 0:\n",
    "    discriminant = b**2 - 4*a*c\n",
    "    if discriminant > 0:\n",
    "        root1 = (-b + math.sqrt(discriminant)) / (2*a)\n",
    "        root2 = (-b - math.sqrt(discriminant)) / (2*a)\n",
    "        print(f\"The roots are real and different: {root1} and {root2}.\")\n",
    "    elif discriminant == 0:\n",
    "        root = -b / (2*a)\n",
    "        print(f\"The roots are real and the same: {root}.\")\n",
    "    else:\n",
    "        print(\"The roots are complex and different.\")\n",
    "else:\n",
    "    print(\"The equation is not quadratic.\")\n"
   ]
  },
  {
   "cell_type": "code",
   "execution_count": 20,
   "id": "be927670",
   "metadata": {},
   "outputs": [
    {
     "name": "stdout",
     "output_type": "stream",
     "text": [
      "Enter a number (1 for Monday, 2 for Tuesday, etc.): 2\n",
      "Tuesday\n"
     ]
    }
   ],
   "source": [
    "'''18. Implement a program to determine the day of the week based on a user-provided number (1 for Monday, 2 for Tuesday, etc.).'''\n",
    "day_number = int(input(\"Enter a number (1 for Monday, 2 for Tuesday, etc.): \"))\n",
    "\n",
    "if day_number == 1:\n",
    "    print(\"Monday\")\n",
    "elif day_number == 2:\n",
    "    print(\"Tuesday\")\n",
    "elif day_number == 3:\n",
    "    print(\"Wednesday\")\n",
    "elif day_number == 4:\n",
    "    print(\"Thursday\")\n",
    "elif day_number == 5:\n",
    "    print(\"Friday\")\n",
    "elif day_number == 6:\n",
    "    print(\"Saturday\")\n",
    "elif day_number == 7:\n",
    "    print(\"Sunday\")\n",
    "else:\n",
    "    print(\"Invalid input. Please enter a number between 1 and 7.\")\n"
   ]
  },
  {
   "cell_type": "code",
   "execution_count": 21,
   "id": "9b63e0d8",
   "metadata": {},
   "outputs": [
    {
     "name": "stdout",
     "output_type": "stream",
     "text": [
      "Enter a year: 2019\n",
      "2019 is not a leap year.\n"
     ]
    }
   ],
   "source": [
    "'''19. Create a program that determines if a year is a leap year and also if it is evenly divisible by 400.'''\n",
    "year = int(input(\"Enter a year: \"))\n",
    "\n",
    "if (year % 4 == 0 and year % 100 != 0) or (year % 400 == 0):\n",
    "    if year % 400 == 0:\n",
    "        print(f\"{year} is a leap year and divisible by 400.\")\n",
    "    else:\n",
    "        print(f\"{year} is a leap year but not divisible by 400.\")\n",
    "else:\n",
    "    print(f\"{year} is not a leap year.\")\n"
   ]
  },
  {
   "cell_type": "code",
   "execution_count": 22,
   "id": "e9e15eda",
   "metadata": {},
   "outputs": [
    {
     "name": "stdout",
     "output_type": "stream",
     "text": [
      "Enter a number: 2\n",
      "2 is a prime number.\n"
     ]
    }
   ],
   "source": [
    "'''20. Develop a program that checks if a given number is prime or not using nested if-else statements.'''\n",
    "number = int(input(\"Enter a number: \"))\n",
    "\n",
    "if number > 1:\n",
    "    for i in range(2, int(number ** 0.5) + 1):\n",
    "        if number % i == 0:\n",
    "            print(number, \"is not a prime number.\")\n",
    "            break\n",
    "    else:\n",
    "        print(number, \"is a prime number.\")\n",
    "else:\n",
    "    print(number, \"is not a prime number.\")\n"
   ]
  },
  {
   "cell_type": "markdown",
   "id": "60ff0236",
   "metadata": {},
   "source": [
    "# Elif Statements:"
   ]
  },
  {
   "cell_type": "code",
   "execution_count": 24,
   "id": "96afa72a",
   "metadata": {},
   "outputs": [
    {
     "name": "stdout",
     "output_type": "stream",
     "text": [
      "Enter the score: 81\n",
      "The grade is: B\n"
     ]
    }
   ],
   "source": [
    "'''21. Write a Python program to assign grades based on different ranges of scores using elif statements.'''\n",
    "score = float(input(\"Enter the score: \"))\n",
    "\n",
    "if score >= 90:\n",
    "    grade = 'A'\n",
    "elif score >= 80:\n",
    "    grade = 'B'\n",
    "elif score >= 70:\n",
    "    grade = 'C'\n",
    "elif score >= 60:\n",
    "    grade = 'D'\n",
    "elif score >= 50:\n",
    "    grade = 'E'\n",
    "else:\n",
    "    grade = 'F'\n",
    "\n",
    "print(f\"The grade is: {grade}\")\n"
   ]
  },
  {
   "cell_type": "code",
   "execution_count": 30,
   "id": "a6a33402",
   "metadata": {},
   "outputs": [
    {
     "name": "stdout",
     "output_type": "stream",
     "text": [
      "Enter the first angle: 60\n",
      "Enter the second angle: 60\n",
      "Enter the third angle: 60\n",
      "The triangle is an acute triangle.\n"
     ]
    }
   ],
   "source": [
    "'''22. Implement a program to determine the type of a triangle based on its angles.'''\n",
    "angle1 = float(input(\"Enter the first angle: \"))\n",
    "angle2 = float(input(\"Enter the second angle: \"))\n",
    "angle3 = float(input(\"Enter the third angle: \"))\n",
    "\n",
    "if angle1 + angle2 + angle3 == 180:\n",
    "    if angle1 == 90 or angle2 == 90 or angle3 == 90:\n",
    "        print(\"The triangle is a right triangle.\")\n",
    "    elif angle1 > 90 or angle2 > 90 or angle3 > 90:\n",
    "        print(\"The triangle is an obtuse triangle.\")\n",
    "    else:\n",
    "        print(\"The triangle is an acute triangle.\")\n",
    "else:\n",
    "    print(\"The angles do not form a triangle.\")\n"
   ]
  },
  {
   "cell_type": "code",
   "execution_count": 32,
   "id": "9552fb4b",
   "metadata": {},
   "outputs": [
    {
     "name": "stdout",
     "output_type": "stream",
     "text": [
      "Enter weight in kg: 85\n",
      "Enter height in meters: 1.7\n",
      "BMI: 29.41, Category: Overweight\n"
     ]
    }
   ],
   "source": [
    "'''23. Develop a program to categorize a given person's BMI into underweight, normal, overweight, or obese using elif statements.'''\n",
    "weight = float(input(\"Enter weight in kg: \"))\n",
    "height = float(input(\"Enter height in meters: \"))\n",
    "\n",
    "bmi = weight / (height ** 2)\n",
    "\n",
    "if bmi < 18.5:\n",
    "    category = 'Underweight'\n",
    "elif bmi < 24.9:\n",
    "    category = 'Normal weight'\n",
    "elif bmi < 29.9:\n",
    "    category = 'Overweight'\n",
    "else:\n",
    "    category = 'Obese'\n",
    "\n",
    "print(f\"BMI: {bmi:.2f}, Category: {category}\")\n"
   ]
  },
  {
   "cell_type": "code",
   "execution_count": 33,
   "id": "b880a6a4",
   "metadata": {},
   "outputs": [
    {
     "name": "stdout",
     "output_type": "stream",
     "text": [
      "Enter a number: 56\n",
      "The number is positive.\n"
     ]
    }
   ],
   "source": [
    "'''24. Create a program that determines whether a given number is positive, negative, or zero using elif\n",
    "statements.'''\n",
    "number = float(input(\"Enter a number: \"))\n",
    "\n",
    "if number > 0:\n",
    "    print(\"The number is positive.\")\n",
    "elif number < 0:\n",
    "    print(\"The number is negative.\")\n",
    "else:\n",
    "    print(\"The number is zero.\")\n"
   ]
  },
  {
   "cell_type": "code",
   "execution_count": 34,
   "id": "a979acc4",
   "metadata": {},
   "outputs": [
    {
     "name": "stdout",
     "output_type": "stream",
     "text": [
      "Enter a character: HELLO\n",
      "The character is uppercase.\n"
     ]
    }
   ],
   "source": [
    "'''25. Write a Python script to determine the type of a character (uppercase, lowercase, or special) using elif\n",
    "statements.'''\n",
    "char = input(\"Enter a character: \")\n",
    "\n",
    "if char.isupper():\n",
    "    print(\"The character is uppercase.\")\n",
    "elif char.islower():\n",
    "    print(\"The character is lowercase.\")\n",
    "elif char.isdigit():\n",
    "    print(\"The character is a digit.\")\n",
    "else:\n",
    "    print(\"The character is a special character.\")\n"
   ]
  },
  {
   "cell_type": "code",
   "execution_count": 36,
   "id": "a6dd548b",
   "metadata": {},
   "outputs": [
    {
     "name": "stdout",
     "output_type": "stream",
     "text": [
      "Enter the purchase amount: 211\n",
      "Discounted price: $200.45\n"
     ]
    }
   ],
   "source": [
    "'''26. Implement a program to calculate the discounted price based on different purchase amounts using elif\n",
    "statements.'''\n",
    "purchase_amount = float(input(\"Enter the purchase amount: \"))\n",
    "\n",
    "if purchase_amount > 1000:\n",
    "    discount = 0.2\n",
    "elif purchase_amount > 500:\n",
    "    discount = 0.1\n",
    "elif purchase_amount > 200:\n",
    "    discount = 0.05\n",
    "else:\n",
    "    discount = 0\n",
    "\n",
    "discounted_price = purchase_amount * (1 - discount)\n",
    "\n",
    "print(f\"Discounted price: ${discounted_price:.2f}\")\n"
   ]
  },
  {
   "cell_type": "code",
   "execution_count": 37,
   "id": "da75fe91",
   "metadata": {},
   "outputs": [
    {
     "name": "stdout",
     "output_type": "stream",
     "text": [
      "Enter the number of units consumed: 102\n",
      "The total electricity bill is: $154.00\n"
     ]
    }
   ],
   "source": [
    "'''27. Develop a program to calculate the electricity bill based on different consumption slabs using elif\n",
    "statements.'''\n",
    "units = float(input(\"Enter the number of units consumed: \"))\n",
    "\n",
    "if units <= 100:\n",
    "    cost = units * 1.5\n",
    "elif units <= 200:\n",
    "    cost = 100 * 1.5 + (units - 100) * 2\n",
    "elif units <= 300:\n",
    "    cost = 100 * 1.5 + 100 * 2 + (units - 200) * 3\n",
    "else:\n",
    "    cost = 100 * 1.5 + 100 * 2 + 100 * 3 + (units - 300) * 4\n",
    "\n",
    "print(f\"The total electricity bill is: ${cost:.2f}\")\n"
   ]
  },
  {
   "cell_type": "code",
   "execution_count": 39,
   "id": "d903726a",
   "metadata": {},
   "outputs": [
    {
     "name": "stdout",
     "output_type": "stream",
     "text": [
      "Enter the first side: 4\n",
      "Enter the second side: 4\n",
      "Enter the third side: 4\n",
      "Enter the fourth side: 4\n",
      "Enter the first angle: 40\n",
      "Enter the second angle: 90\n",
      "Enter the third angle: 90\n",
      "Enter the fourth angle: 140\n",
      "The quadrilateral is an irregular quadrilateral.\n"
     ]
    }
   ],
   "source": [
    "'''28. Create a program to determine the type of quadrilateral based on its angles and sides using elif\n",
    "statements.'''\n",
    "side1 = float(input(\"Enter the first side: \"))\n",
    "side2 = float(input(\"Enter the second side: \"))\n",
    "side3 = float(input(\"Enter the third side: \"))\n",
    "side4 = float(input(\"Enter the fourth side: \"))\n",
    "angle1 = float(input(\"Enter the first angle: \"))\n",
    "angle2 = float(input(\"Enter the second angle: \"))\n",
    "angle3 = float(input(\"Enter the third angle: \"))\n",
    "angle4 = float(input(\"Enter the fourth angle: \"))\n",
    "\n",
    "if side1 == side2 == side3 == side4 and angle1 == angle2 == angle3 == angle4 == 90:\n",
    "    print(\"The quadrilateral is a square.\")\n",
    "elif side1 == side3 and side2 == side4 and angle1 == angle2 == angle3 == angle4 == 90:\n",
    "    print(\"The quadrilateral is a rectangle.\")\n",
    "elif angle1 == angle3 and angle2 == angle4 and angle1 + angle2 == 180:\n",
    "    print(\"The quadrilateral is a parallelogram.\")\n",
    "else:\n",
    "    print(\"The quadrilateral is an irregular quadrilateral.\")\n"
   ]
  },
  {
   "cell_type": "code",
   "execution_count": 40,
   "id": "f8185156",
   "metadata": {},
   "outputs": [
    {
     "name": "stdout",
     "output_type": "stream",
     "text": [
      "Enter the month: january\n",
      "The season is: Winter\n"
     ]
    }
   ],
   "source": [
    "'''29. Write a Python script to determine the season based on a user-provided month using elif statements.'''\n",
    "month = input(\"Enter the month: \").lower()\n",
    "\n",
    "if month in ['december', 'january', 'february']:\n",
    "    season = 'Winter'\n",
    "elif month in ['march', 'april', 'may']:\n",
    "    season = 'Spring'\n",
    "elif month in ['june', 'july', 'august']:\n",
    "    season = 'Summer'\n",
    "elif month in ['september', 'october', 'november']:\n",
    "    season = 'Autumn'\n",
    "else:\n",
    "    season = 'Invalid month'\n",
    "\n",
    "print(f\"The season is: {season}\")\n"
   ]
  },
  {
   "cell_type": "code",
   "execution_count": 41,
   "id": "ec468d6e",
   "metadata": {},
   "outputs": [
    {
     "name": "stdout",
     "output_type": "stream",
     "text": [
      "Enter a year: 2023\n",
      "Enter a month: february\n",
      "The year is a common year and february has 28 days.\n"
     ]
    }
   ],
   "source": [
    "'''30. Implement a program to determine the type of a year (leap or common) and month (30 or 31 days) using\n",
    "elif statements.'''\n",
    "year = int(input(\"Enter a year: \"))\n",
    "month = input(\"Enter a month: \").lower()\n",
    "\n",
    "# Check for leap year\n",
    "if (year % 4 == 0 and year % 100 != 0) or (year % 400 == 0):\n",
    "    leap = True\n",
    "else:\n",
    "    leap = False\n",
    "\n",
    "# Check days in the month\n",
    "if month in ['april', 'june', 'september', 'november']:\n",
    "    days = 30\n",
    "elif month == 'february':\n",
    "    days = 29 if leap else 28\n",
    "elif month in ['january', 'march', 'may', 'july', 'august', 'october', 'december']:\n",
    "    days = 31\n",
    "else:\n",
    "    days = 'Invalid month'\n",
    "\n",
    "print(f\"The year is {'a leap year' if leap else 'a common year'} and {month} has {days} days.\")\n"
   ]
  },
  {
   "cell_type": "markdown",
   "id": "6eac78d3",
   "metadata": {},
   "source": [
    "# Basic Level:"
   ]
  },
  {
   "cell_type": "code",
   "execution_count": 42,
   "id": "02eecd0e",
   "metadata": {},
   "outputs": [
    {
     "name": "stdout",
     "output_type": "stream",
     "text": [
      "Enter a number: 2\n",
      "The number is positive.\n"
     ]
    }
   ],
   "source": [
    "'''1. Write a Python program that checks if a given number is positive, negative, or zero.'''\n",
    "number = float(input(\"Enter a number: \"))\n",
    "if number > 0:\n",
    "    print(\"The number is positive.\")\n",
    "elif number < 0:\n",
    "    print(\"The number is negative.\")\n",
    "else:\n",
    "    print(\"The number is zero.\")\n"
   ]
  },
  {
   "cell_type": "code",
   "execution_count": 43,
   "id": "78c5b79b",
   "metadata": {},
   "outputs": [
    {
     "name": "stdout",
     "output_type": "stream",
     "text": [
      "Enter your age: 20\n",
      "You are eligible to vote.\n"
     ]
    }
   ],
   "source": [
    "'''2. Create a program to determine if a person is eligible to vote based on their age.'''\n",
    "age = int(input(\"Enter your age: \"))\n",
    "if age >= 18:\n",
    "    print(\"You are eligible to vote.\")\n",
    "else:\n",
    "    print(\"You are not eligible to vote.\")\n"
   ]
  },
  {
   "cell_type": "code",
   "execution_count": 44,
   "id": "e466e921",
   "metadata": {},
   "outputs": [
    {
     "name": "stdout",
     "output_type": "stream",
     "text": [
      "Enter the first number: 56\n",
      "Enter the second number: 67\n",
      "The maximum is 67.0.\n"
     ]
    }
   ],
   "source": [
    "'''3. Write a program to find the maximum of two given numbers using conditional statements.'''\n",
    "a = float(input(\"Enter the first number: \"))\n",
    "b = float(input(\"Enter the second number: \"))\n",
    "if a > b:\n",
    "    print(f\"The maximum is {a}.\")\n",
    "else:\n",
    "    print(f\"The maximum is {b}.\")\n"
   ]
  },
  {
   "cell_type": "code",
   "execution_count": 45,
   "id": "18cdb842",
   "metadata": {},
   "outputs": [
    {
     "name": "stdout",
     "output_type": "stream",
     "text": [
      "Enter the exam score: 92\n",
      "The grade is A.\n"
     ]
    }
   ],
   "source": [
    "'''4. Develop a program that calculates the grade of a student based on their exam score.'''\n",
    "score = float(input(\"Enter the exam score: \"))\n",
    "if score >= 90:\n",
    "    grade = 'A'\n",
    "elif score >= 80:\n",
    "    grade = 'B'\n",
    "elif score >= 70:\n",
    "    grade = 'C'\n",
    "elif score >= 60:\n",
    "    grade = 'D'\n",
    "else:\n",
    "    grade = 'F'\n",
    "print(f\"The grade is {grade}.\")\n"
   ]
  },
  {
   "cell_type": "code",
   "execution_count": 46,
   "id": "2df7708f",
   "metadata": {},
   "outputs": [
    {
     "name": "stdout",
     "output_type": "stream",
     "text": [
      "Enter a year: 2025\n",
      "2025 is not a leap year.\n"
     ]
    }
   ],
   "source": [
    "'''5. Create a program that checks if a year is a leap year or not.'''\n",
    "year = int(input(\"Enter a year: \"))\n",
    "if (year % 4 == 0 and year % 100 != 0) or (year % 400 == 0):\n",
    "    print(f\"{year} is a leap year.\")\n",
    "else:\n",
    "    print(f\"{year} is not a leap year.\")\n"
   ]
  },
  {
   "cell_type": "code",
   "execution_count": 47,
   "id": "01e6d284",
   "metadata": {},
   "outputs": [
    {
     "name": "stdout",
     "output_type": "stream",
     "text": [
      "Enter the first side: 60\n",
      "Enter the second side: 60\n",
      "Enter the third side: 60\n",
      "The triangle is equilateral.\n"
     ]
    }
   ],
   "source": [
    "'''6. Write a program to classify a triangle based on its sides' lengths.'''\n",
    "a = float(input(\"Enter the first side: \"))\n",
    "b = float(input(\"Enter the second side: \"))\n",
    "c = float(input(\"Enter the third side: \"))\n",
    "if a == b == c:\n",
    "    print(\"The triangle is equilateral.\")\n",
    "elif a == b or b == c or a == c:\n",
    "    print(\"The triangle is isosceles.\")\n",
    "else:\n",
    "    print(\"The triangle is scalene.\")\n"
   ]
  },
  {
   "cell_type": "code",
   "execution_count": 48,
   "id": "839da021",
   "metadata": {},
   "outputs": [
    {
     "name": "stdout",
     "output_type": "stream",
     "text": [
      "Enter the first number: 34\n",
      "Enter the second number: 45\n",
      "Enter the third number: 67\n",
      "The largest number is 67.0.\n"
     ]
    }
   ],
   "source": [
    "'''7. Build a program that determines the largest of three given numbers.'''\n",
    "a = float(input(\"Enter the first number: \"))\n",
    "b = float(input(\"Enter the second number: \"))\n",
    "c = float(input(\"Enter the third number: \"))\n",
    "if a >= b and a >= c:\n",
    "    print(f\"The largest number is {a}.\")\n",
    "elif b >= a and b >= c:\n",
    "    print(f\"The largest number is {b}.\")\n",
    "else:\n",
    "    print(f\"The largest number is {c}.\")\n"
   ]
  },
  {
   "cell_type": "code",
   "execution_count": 49,
   "id": "9d621d83",
   "metadata": {},
   "outputs": [
    {
     "name": "stdout",
     "output_type": "stream",
     "text": [
      "Enter a character: a\n",
      "The character is a vowel.\n"
     ]
    }
   ],
   "source": [
    "'''8. Develop a program that checks whether a character is a vowel or a consonant.'''\n",
    "char = input(\"Enter a character: \").lower()\n",
    "if char in 'aeiou':\n",
    "    print(\"The character is a vowel.\")\n",
    "elif char.isalpha():\n",
    "    print(\"The character is a consonant.\")\n",
    "else:\n",
    "    print(\"The input is not a valid alphabet character.\")\n"
   ]
  },
  {
   "cell_type": "code",
   "execution_count": 53,
   "id": "1d281a1b",
   "metadata": {},
   "outputs": [
    {
     "name": "stdout",
     "output_type": "stream",
     "text": [
      "Enter the total amount: 1200\n",
      "Total cost after discount: $1020.00\n"
     ]
    }
   ],
   "source": [
    "'''9. Create a program to calculate the total cost of a shopping cart based on discounts.'''\n",
    "total = float(input(\"Enter the total amount: \"))\n",
    "if total > 1000:\n",
    "    discount = 0.15\n",
    "elif total > 500:\n",
    "    discount = 0.1\n",
    "else:\n",
    "    discount = 0.05\n",
    "final_price = total * (1 - discount)\n",
    "print(f\"Total cost after discount: ${final_price:.2f}\")\n"
   ]
  },
  {
   "cell_type": "code",
   "execution_count": 51,
   "id": "b1b71521",
   "metadata": {},
   "outputs": [
    {
     "name": "stdout",
     "output_type": "stream",
     "text": [
      "Enter a number: 21\n",
      "The number is odd.\n"
     ]
    }
   ],
   "source": [
    "'''10. Write a program that checks if a given number is even or odd.'''\n",
    "number = int(input(\"Enter a number: \"))\n",
    "if number % 2 == 0:\n",
    "    print(\"The number is even.\")\n",
    "else:\n",
    "    print(\"The number is odd.\")\n"
   ]
  },
  {
   "cell_type": "markdown",
   "id": "b4eea5a3",
   "metadata": {},
   "source": [
    "# Intermediate Level:"
   ]
  },
  {
   "cell_type": "code",
   "execution_count": 54,
   "id": "660315ee",
   "metadata": {},
   "outputs": [
    {
     "name": "stdout",
     "output_type": "stream",
     "text": [
      "Enter coefficient a: 3\n",
      "Enter coefficient b: 5\n",
      "Enter coefficient c: 6\n",
      "The roots are (-0.8333333333333334+1.1426091000668406j) and (-0.8333333333333334-1.1426091000668406j).\n"
     ]
    }
   ],
   "source": [
    "'''11. Write a program that calculates the roots of a quadratic equation .'''\n",
    "import cmath\n",
    "a = float(input(\"Enter coefficient a: \"))\n",
    "b = float(input(\"Enter coefficient b: \"))\n",
    "c = float(input(\"Enter coefficient c: \"))\n",
    "d = b ** 2 - 4 * a * c  # Discriminant\n",
    "root1 = (-b + cmath.sqrt(d)) / (2 * a)\n",
    "root2 = (-b - cmath.sqrt(d)) / (2 * a)\n",
    "print(f\"The roots are {root1} and {root2}.\")\n"
   ]
  },
  {
   "cell_type": "code",
   "execution_count": 55,
   "id": "aa95b7ab",
   "metadata": {},
   "outputs": [
    {
     "name": "stdout",
     "output_type": "stream",
     "text": [
      "Enter a number (1-7): 3\n",
      "Wednesday\n"
     ]
    }
   ],
   "source": [
    "'''12. Create a program that determines the day of the week based on the day number (1-7).'''\n",
    "day_number = int(input(\"Enter a number (1-7): \"))\n",
    "days = {1: \"Monday\", 2: \"Tuesday\", 3: \"Wednesday\", 4: \"Thursday\", 5: \"Friday\", 6: \"Saturday\", 7: \"Sunday\"}\n",
    "print(days.get(day_number, \"Invalid day number\"))\n"
   ]
  },
  {
   "cell_type": "code",
   "execution_count": 56,
   "id": "e76049e6",
   "metadata": {},
   "outputs": [
    {
     "name": "stdout",
     "output_type": "stream",
     "text": [
      "Enter a number: 45\n",
      "Factorial of 45 is 119622220865480194561963161495657715064383733760000000000.\n"
     ]
    }
   ],
   "source": [
    "'''13. Develop a program that calculates the factorial of a given number using recursion.'''\n",
    "def factorial(n):\n",
    "    if n == 0 or n == 1:\n",
    "        return 1\n",
    "    else:\n",
    "        return n * factorial(n - 1)\n",
    "\n",
    "num = int(input(\"Enter a number: \"))\n",
    "print(f\"Factorial of {num} is {factorial(num)}.\")\n"
   ]
  },
  {
   "cell_type": "code",
   "execution_count": 1,
   "id": "86146e53",
   "metadata": {},
   "outputs": [
    {
     "name": "stdout",
     "output_type": "stream",
     "text": [
      "Enter the first number: 34\n",
      "Enter the second number: 45\n",
      "Enter the third number: 67\n",
      "The largest number is 67.0.\n"
     ]
    }
   ],
   "source": [
    "'''14. Write a program to find the largest among three numbers without using the `max()` function.'''\n",
    "a = float(input(\"Enter the first number: \"))\n",
    "b = float(input(\"Enter the second number: \"))\n",
    "c = float(input(\"Enter the third number: \"))\n",
    "largest = a\n",
    "if b > largest:\n",
    "    largest = b\n",
    "if c > largest:\n",
    "    largest = c\n",
    "print(f\"The largest number is {largest}.\")\n"
   ]
  },
  {
   "cell_type": "code",
   "execution_count": 2,
   "id": "9336499d",
   "metadata": {},
   "outputs": [
    {
     "name": "stdout",
     "output_type": "stream",
     "text": [
      "\n",
      "1. Check Balance\n",
      "2. Deposit\n",
      "3. Withdraw\n",
      "4. Exit\n",
      "Enter your choice: 2\n",
      "Enter amount to deposit: 34\n",
      "$34.0 deposited successfully.\n",
      "\n",
      "1. Check Balance\n",
      "2. Deposit\n",
      "3. Withdraw\n",
      "4. Exit\n",
      "Enter your choice: 1\n",
      "Current Balance: $1034.0\n",
      "\n",
      "1. Check Balance\n",
      "2. Deposit\n",
      "3. Withdraw\n",
      "4. Exit\n",
      "Enter your choice: 3\n",
      "Enter amount to withdraw: 23\n",
      "$23.0 withdrawn successfully.\n",
      "\n",
      "1. Check Balance\n",
      "2. Deposit\n",
      "3. Withdraw\n",
      "4. Exit\n",
      "Enter your choice: 4\n",
      "Exiting... Thank you for using the ATM.\n"
     ]
    }
   ],
   "source": [
    "'''15. Create a program that simulates a basic ATM transaction menu.'''\n",
    "balance = 1000\n",
    "while True:\n",
    "    print(\"\\n1. Check Balance\\n2. Deposit\\n3. Withdraw\\n4. Exit\")\n",
    "    choice = int(input(\"Enter your choice: \"))\n",
    "    if choice == 1:\n",
    "        print(f\"Current Balance: ${balance}\")\n",
    "    elif choice == 2:\n",
    "        amount = float(input(\"Enter amount to deposit: \"))\n",
    "        balance += amount\n",
    "        print(f\"${amount} deposited successfully.\")\n",
    "    elif choice == 3:\n",
    "        amount = float(input(\"Enter amount to withdraw: \"))\n",
    "        if amount > balance:\n",
    "            print(\"Insufficient balance.\")\n",
    "        else:\n",
    "            balance -= amount\n",
    "            print(f\"${amount} withdrawn successfully.\")\n",
    "    elif choice == 4:\n",
    "        print(\"Exiting... Thank you for using the ATM.\")\n",
    "        break\n",
    "    else:\n",
    "        print(\"Invalid choice. Try again.\")\n"
   ]
  },
  {
   "cell_type": "code",
   "execution_count": 3,
   "id": "57ba7455",
   "metadata": {},
   "outputs": [
    {
     "name": "stdout",
     "output_type": "stream",
     "text": [
      "Enter a string: lol\n",
      "The string is a palindrome.\n"
     ]
    }
   ],
   "source": [
    "'''16. Build a program that checks if a given string is a palindrome or not.'''\n",
    "text = input(\"Enter a string: \").lower()\n",
    "if text == text[::-1]:\n",
    "    print(\"The string is a palindrome.\")\n",
    "else:\n",
    "    print(\"The string is not a palindrome.\")\n"
   ]
  },
  {
   "cell_type": "code",
   "execution_count": 5,
   "id": "47c2779c",
   "metadata": {},
   "outputs": [
    {
     "name": "stdout",
     "output_type": "stream",
     "text": [
      "Enter numbers separated by space: 56 78 89 34 56\n",
      "The average is 63.33.\n"
     ]
    }
   ],
   "source": [
    "'''17. Write a program that calculates the average of a list of numbers, excluding the smallest and largest values.'''\n",
    "numbers = list(map(float, input(\"Enter numbers separated by space: \").split()))\n",
    "if len(numbers) < 3:\n",
    "    print(\"Not enough numbers to exclude min and max.\")\n",
    "else:\n",
    "    numbers.remove(min(numbers))\n",
    "    numbers.remove(max(numbers))\n",
    "    average = sum(numbers) / len(numbers)\n",
    "    print(f\"The average is {average:.2f}.\")\n"
   ]
  },
  {
   "cell_type": "code",
   "execution_count": 6,
   "id": "ca2b4519",
   "metadata": {},
   "outputs": [
    {
     "name": "stdout",
     "output_type": "stream",
     "text": [
      "Enter temperature in Celsius: 37\n",
      "Temperature in Fahrenheit: 98.60\n"
     ]
    }
   ],
   "source": [
    "'''18. Develop a program that converts a given temperature from Celsius to Fahrenheit.'''\n",
    "celsius = float(input(\"Enter temperature in Celsius: \"))\n",
    "fahrenheit = (celsius * 9/5) + 32\n",
    "print(f\"Temperature in Fahrenheit: {fahrenheit:.2f}\")\n"
   ]
  },
  {
   "cell_type": "code",
   "execution_count": 7,
   "id": "63d2b1ae",
   "metadata": {},
   "outputs": [
    {
     "name": "stdout",
     "output_type": "stream",
     "text": [
      "Enter first number: 34\n",
      "Enter second number: 56\n",
      "Enter operation (+, -, *, /): +\n",
      "Result: 90.0\n"
     ]
    }
   ],
   "source": [
    "'''19. Create a program that simulates a basic calculator for addition, subtraction, multiplication, and division.'''\n",
    "def calculator(a, b, op):\n",
    "    if op == '+':\n",
    "        return a + b\n",
    "    elif op == '-':\n",
    "        return a - b\n",
    "    elif op == '*':\n",
    "        return a * b\n",
    "    elif op == '/':\n",
    "        if b != 0:\n",
    "            return a / b\n",
    "        else:\n",
    "            return \"Cannot divide by zero.\"\n",
    "    else:\n",
    "        return \"Invalid operation.\"\n",
    "\n",
    "num1 = float(input(\"Enter first number: \"))\n",
    "num2 = float(input(\"Enter second number: \"))\n",
    "operation = input(\"Enter operation (+, -, *, /): \")\n",
    "result = calculator(num1, num2, operation)\n",
    "print(f\"Result: {result}\")\n"
   ]
  },
  {
   "cell_type": "code",
   "execution_count": 8,
   "id": "7b7c2099",
   "metadata": {},
   "outputs": [
    {
     "name": "stdout",
     "output_type": "stream",
     "text": [
      "Enter the coefficients (a, b, c, d) of the cubic equation ax^3 + bx^2 + cx + d: 3 5 6 7\n",
      "The roots of the equation are: [-1.41719277+0.j         -0.12473695+1.27706229j -0.12473695-1.27706229j]\n"
     ]
    }
   ],
   "source": [
    "'''20. Write a program that determines the roots of a cubic equation using the Cardano formula.'''\n",
    "import numpy as np\n",
    "coeffs = list(map(float, input(\"Enter the coefficients (a, b, c, d) of the cubic equation ax^3 + bx^2 + cx + d: \").split()))\n",
    "roots = np.roots(coeffs)\n",
    "print(f\"The roots of the equation are: {roots}\")\n"
   ]
  },
  {
   "cell_type": "markdown",
   "id": "b3295975",
   "metadata": {},
   "source": [
    "# Advanced Level:"
   ]
  },
  {
   "cell_type": "code",
   "execution_count": 11,
   "id": "459444e7",
   "metadata": {},
   "outputs": [
    {
     "name": "stdout",
     "output_type": "stream",
     "text": [
      "Enter your annual income: 60000\n",
      "Your income tax is: $8000.00\n"
     ]
    }
   ],
   "source": [
    "'''21. Create a program that calculates the income tax based on the user's income and tax brackets.'''\n",
    "def calculate_tax(income):\n",
    "    if income <= 10000:\n",
    "        tax = 0\n",
    "    elif income <= 30000:\n",
    "        tax = (income - 10000) * 0.1\n",
    "    elif income <= 100000:\n",
    "        tax = 2000 + (income - 30000) * 0.2\n",
    "    else:\n",
    "        tax = 16000 + (income - 100000) * 0.3\n",
    "    return tax\n",
    "\n",
    "income = float(input(\"Enter your annual income: \"))\n",
    "tax = calculate_tax(income)\n",
    "print(f\"Your income tax is: ${tax:.2f}\")"
   ]
  },
  {
   "cell_type": "code",
   "execution_count": 12,
   "id": "d3e9fe66",
   "metadata": {},
   "outputs": [
    {
     "name": "stdout",
     "output_type": "stream",
     "text": [
      "Enter your choice (rock, paper, or scissors): paper\n",
      "Computer chose: paper\n",
      "It's a tie!\n"
     ]
    }
   ],
   "source": [
    "'''22. Write a program that simulates a rock-paper-scissors game against the computer.'''\n",
    "import random\n",
    "\n",
    "options = ['rock', 'paper', 'scissors']\n",
    "\n",
    "def determine_winner(player, computer):\n",
    "    if player == computer:\n",
    "        return \"It's a tie!\"\n",
    "    elif (player == 'rock' and computer == 'scissors') or \\\n",
    "         (player == 'scissors' and computer == 'paper') or \\\n",
    "         (player == 'paper' and computer == 'rock'):\n",
    "        return \"You win!\"\n",
    "    else:\n",
    "        return \"You lose!\"\n",
    "\n",
    "player_choice = input(\"Enter your choice (rock, paper, or scissors): \").lower()\n",
    "computer_choice = random.choice(options)\n",
    "\n",
    "print(f\"Computer chose: {computer_choice}\")\n",
    "result = determine_winner(player_choice, computer_choice)\n",
    "print(result)\n"
   ]
  },
  {
   "cell_type": "code",
   "execution_count": 13,
   "id": "74a381cd",
   "metadata": {},
   "outputs": [
    {
     "name": "stdout",
     "output_type": "stream",
     "text": [
      "Enter the desired password length: 8\n",
      "Enter complexity level (1-4): 3\n",
      "Generated password: KvpSPvql\n"
     ]
    }
   ],
   "source": [
    "'''23. Develop a program that generates a random password based on user preferences (length, complexity).'''\n",
    "import random\n",
    "import string\n",
    "\n",
    "def generate_password(length, complexity):\n",
    "    characters = string.ascii_lowercase\n",
    "    if complexity > 1:\n",
    "        characters += string.ascii_uppercase\n",
    "    if complexity > 2:\n",
    "        characters += string.digits\n",
    "    if complexity > 3:\n",
    "        characters += string.punctuation\n",
    "    \n",
    "    password = ''.join(random.choice(characters) for _ in range(length))\n",
    "    return password\n",
    "\n",
    "length = int(input(\"Enter the desired password length: \"))\n",
    "complexity = int(input(\"Enter complexity level (1-4): \"))\n",
    "password = generate_password(length, complexity)\n",
    "print(f\"Generated password: {password}\")\n"
   ]
  },
  {
   "cell_type": "code",
   "execution_count": 14,
   "id": "af0a43f3",
   "metadata": {},
   "outputs": [
    {
     "name": "stdout",
     "output_type": "stream",
     "text": [
      "You find yourself in a dark forest.\n",
      "Do you want to go left or right? right\n",
      "You find a treasure chest!\n",
      "Do you open it or leave it? open\n",
      "You found gold! Congratulations!\n"
     ]
    }
   ],
   "source": [
    "'''24. Create a program that implements a simple text-based adventure game with branching scenarios.'''\n",
    "def start_adventure():\n",
    "    print(\"You find yourself in a dark forest.\")\n",
    "    choice1 = input(\"Do you want to go left or right? \").lower()\n",
    "    if choice1 == \"left\":\n",
    "        print(\"You encounter a wild bear! What do you do?\")\n",
    "        choice2 = input(\"Do you run or fight? \").lower()\n",
    "        if choice2 == \"run\":\n",
    "            print(\"You escaped safely. Well done!\")\n",
    "        else:\n",
    "            print(\"The bear was too strong. You lost.\")\n",
    "    else:\n",
    "        print(\"You find a treasure chest!\")\n",
    "        choice2 = input(\"Do you open it or leave it? \").lower()\n",
    "        if choice2 == \"open\":\n",
    "            print(\"You found gold! Congratulations!\")\n",
    "        else:\n",
    "            print(\"You left the treasure untouched. Maybe next time.\")\n",
    "\n",
    "start_adventure()\n"
   ]
  },
  {
   "cell_type": "code",
   "execution_count": 15,
   "id": "d15dd2b8",
   "metadata": {},
   "outputs": [
    {
     "name": "stdout",
     "output_type": "stream",
     "text": [
      "Enter coefficient a: 3\n",
      "Enter constant b: 4\n",
      "x = -1.3333333333333333\n"
     ]
    }
   ],
   "source": [
    "'''25. Build a program that solves a linear equation for x, considering different cases.'''\n",
    "def solve_linear_equation(a, b):\n",
    "    if a == 0 and b == 0:\n",
    "        return \"Infinite solutions.\"\n",
    "    elif a == 0:\n",
    "        return \"No solution.\"\n",
    "    else:\n",
    "        return f\"x = {-b/a}\"\n",
    "\n",
    "a = float(input(\"Enter coefficient a: \"))\n",
    "b = float(input(\"Enter constant b: \"))\n",
    "solution = solve_linear_equation(a, b)\n",
    "print(solution)\n"
   ]
  },
  {
   "cell_type": "code",
   "execution_count": 16,
   "id": "d0847696",
   "metadata": {},
   "outputs": [
    {
     "name": "stdout",
     "output_type": "stream",
     "text": [
      "What is the capital of France?\n",
      "A) Paris\n",
      "B) London\n",
      "C) Rome\n",
      "Enter your answer (A, B, or C): a\n",
      "Correct!\n",
      "What is 2 + 2?\n",
      "A) 3\n",
      "B) 4\n",
      "C) 5\n",
      "Enter your answer (A, B, or C): b\n",
      "Correct!\n",
      "Who wrote '1984'?\n",
      "A) Orwell\n",
      "B) Huxley\n",
      "C) Shakespeare\n",
      "Enter your answer (A, B, or C): c\n",
      "Wrong answer.\n",
      "Your final score is 2/3.\n"
     ]
    }
   ],
   "source": [
    "'''26. Write a program that simulates a basic quiz game with multiple-choice questions and scoring.'''\n",
    "questions = [\n",
    "    {\"question\": \"What is the capital of France?\", \"options\": [\"A) Paris\", \"B) London\", \"C) Rome\"], \"answer\": \"A\"},\n",
    "    {\"question\": \"What is 2 + 2?\", \"options\": [\"A) 3\", \"B) 4\", \"C) 5\"], \"answer\": \"B\"},\n",
    "    {\"question\": \"Who wrote '1984'?\", \"options\": [\"A) Orwell\", \"B) Huxley\", \"C) Shakespeare\"], \"answer\": \"A\"}\n",
    "]\n",
    "\n",
    "score = 0\n",
    "\n",
    "for q in questions:\n",
    "    print(q[\"question\"])\n",
    "    for option in q[\"options\"]:\n",
    "        print(option)\n",
    "    answer = input(\"Enter your answer (A, B, or C): \").upper()\n",
    "    if answer == q[\"answer\"]:\n",
    "        score += 1\n",
    "        print(\"Correct!\")\n",
    "    else:\n",
    "        print(\"Wrong answer.\")\n",
    "\n",
    "print(f\"Your final score is {score}/{len(questions)}.\")\n"
   ]
  },
  {
   "cell_type": "code",
   "execution_count": 17,
   "id": "b13d9e80",
   "metadata": {},
   "outputs": [
    {
     "name": "stdout",
     "output_type": "stream",
     "text": [
      "Enter a year: 2024\n",
      "2024 is not a prime number.\n"
     ]
    }
   ],
   "source": [
    "'''27. Develop a program that determines whether a given year is a prime number or not.'''\n",
    "def is_prime(n):\n",
    "    if n <= 1:\n",
    "        return False\n",
    "    for i in range(2, int(n**0.5) + 1):\n",
    "        if n % i == 0:\n",
    "            return False\n",
    "    return True\n",
    "\n",
    "year = int(input(\"Enter a year: \"))\n",
    "if is_prime(year):\n",
    "    print(f\"{year} is a prime number.\")\n",
    "else:\n",
    "    print(f\"{year} is not a prime number.\")\n"
   ]
  },
  {
   "cell_type": "code",
   "execution_count": 18,
   "id": "d36fc372",
   "metadata": {},
   "outputs": [
    {
     "name": "stdout",
     "output_type": "stream",
     "text": [
      "Enter the first number: 45\n",
      "Enter the second number: 56\n",
      "Enter the third number: 78\n",
      "The numbers in ascending order are: 45.0, 56.0, 78.0\n"
     ]
    }
   ],
   "source": [
    "'''28. Create a program that sorts three numbers in ascending order using conditional statements.'''\n",
    "a = float(input(\"Enter the first number: \"))\n",
    "b = float(input(\"Enter the second number: \"))\n",
    "c = float(input(\"Enter the third number: \"))\n",
    "\n",
    "if a > b:\n",
    "    a, b = b, a\n",
    "if b > c:\n",
    "    b, c = c, b\n",
    "if a > b:\n",
    "    a, b = b, a\n",
    "\n",
    "print(f\"The numbers in ascending order are: {a}, {b}, {c}\")\n"
   ]
  },
  {
   "cell_type": "code",
   "execution_count": 19,
   "id": "f242b25d",
   "metadata": {},
   "outputs": [
    {
     "name": "stdout",
     "output_type": "stream",
     "text": [
      "Enter coefficient a: 4\n",
      "Enter coefficient b: 5\n",
      "Enter coefficient c: 6\n",
      "Enter coefficient d: 7\n",
      "Enter constant e: 8\n",
      "The roots of the quartic equation are: [ 0.34306934+1.13567166j  0.34306934-1.13567166j -0.96806934+0.69559666j\n",
      " -0.96806934-0.69559666j]\n"
     ]
    }
   ],
   "source": [
    "'''29. Build a program that determines the roots of a quartic equation using numerical methods.'''\n",
    "import numpy as np\n",
    "\n",
    "def solve_quartic(a, b, c, d, e):\n",
    "    coeffs = [a, b, c, d, e]\n",
    "    roots = np.roots(coeffs)\n",
    "    return roots\n",
    "\n",
    "a = float(input(\"Enter coefficient a: \"))\n",
    "b = float(input(\"Enter coefficient b: \"))\n",
    "c = float(input(\"Enter coefficient c: \"))\n",
    "d = float(input(\"Enter coefficient d: \"))\n",
    "e = float(input(\"Enter constant e: \"))\n",
    "\n",
    "roots = solve_quartic(a, b, c, d, e)\n",
    "print(f\"The roots of the quartic equation are: {roots}\")\n"
   ]
  },
  {
   "cell_type": "code",
   "execution_count": 20,
   "id": "d9974d3a",
   "metadata": {},
   "outputs": [
    {
     "name": "stdout",
     "output_type": "stream",
     "text": [
      "Enter your weight in kg: 86\n",
      "Enter your height in meters: 1.7\n",
      "Your BMI is 29.76. Overweight. Consider losing weight.\n"
     ]
    }
   ],
   "source": [
    "'''30. Write a program that calculates the BMI (Body Mass Index) and provides health recommendations based\n",
    "on the user's input.'''\n",
    "def calculate_bmi(weight, height):\n",
    "    bmi = weight / (height ** 2)\n",
    "    return bmi\n",
    "\n",
    "def health_recommendation(bmi):\n",
    "    if bmi < 18.5:\n",
    "        return \"Underweight. Consider gaining weight.\"\n",
    "    elif 18.5 <= bmi < 24.9:\n",
    "        return \"Normal weight. Keep up the good work!\"\n",
    "    elif 25 <= bmi < 29.9:\n",
    "        return \"Overweight. Consider losing weight.\"\n",
    "    else:\n",
    "        return \"Obese. Seek advice on weight loss.\"\n",
    "\n",
    "weight = float(input(\"Enter your weight in kg: \"))\n",
    "height = float(input(\"Enter your height in meters: \"))\n",
    "bmi = calculate_bmi(weight, height)\n",
    "recommendation = health_recommendation(bmi)\n",
    "\n",
    "print(f\"Your BMI is {bmi:.2f}. {recommendation}\")\n"
   ]
  },
  {
   "cell_type": "markdown",
   "id": "a22413d1",
   "metadata": {},
   "source": [
    "# Challenge Level:"
   ]
  },
  {
   "cell_type": "code",
   "execution_count": 22,
   "id": "feca28a1",
   "metadata": {},
   "outputs": [
    {
     "name": "stdout",
     "output_type": "stream",
     "text": [
      "Enter a password: 1KcPEcvrt@\n",
      "Password is valid.\n"
     ]
    }
   ],
   "source": [
    "'''31. Create a program that validates a password based on complexity rules (length, characters, etc.).'''\n",
    "import re\n",
    "\n",
    "def validate_password(password):\n",
    "    if len(password) < 8:\n",
    "        return \"Password must be at least 8 characters long.\"\n",
    "    if not re.search(\"[a-z]\", password):\n",
    "        return \"Password must contain at least one lowercase letter.\"\n",
    "    if not re.search(\"[A-Z]\", password):\n",
    "        return \"Password must contain at least one uppercase letter.\"\n",
    "    if not re.search(\"[0-9]\", password):\n",
    "        return \"Password must contain at least one digit.\"\n",
    "    if not re.search(\"[@#$%^&+=]\", password):\n",
    "        return \"Password must contain at least one special character (@#$%^&+=).\"\n",
    "    return \"Password is valid.\"\n",
    "\n",
    "password = input(\"Enter a password: \")\n",
    "result = validate_password(password)\n",
    "print(result)\n"
   ]
  },
  {
   "cell_type": "code",
   "execution_count": 28,
   "id": "77a45bad",
   "metadata": {},
   "outputs": [
    {
     "name": "stdout",
     "output_type": "stream",
     "text": [
      "Enter the first matrix:\n",
      "Enter number of rows: 2\n",
      "Enter number of columns: 2\n",
      "Enter row 1 elements: 3\n",
      "Enter row 2 elements: 4\n",
      "Enter the second matrix:\n",
      "Enter number of rows: 2\n",
      "Enter number of columns: 2\n",
      "Enter row 1 elements: 3\n",
      "Enter row 2 elements: 4\n",
      "Choose an operation - Addition (A) or Subtraction (S): \n",
      "a\n",
      "Resultant Matrix after Addition:\n",
      "[[6]\n",
      " [8]]\n"
     ]
    }
   ],
   "source": [
    "'''32. Develop a program that performs matrix addition and subtraction based on user input.'''\n",
    "import numpy as np\n",
    "\n",
    "def matrix_input():\n",
    "    rows = int(input(\"Enter number of rows: \"))\n",
    "    cols = int(input(\"Enter number of columns: \"))\n",
    "    matrix = []\n",
    "    for r in range(rows):\n",
    "        row = list(map(int, input(f\"Enter row {r+1} elements: \").split()))\n",
    "        matrix.append(row)\n",
    "    return np.array(matrix)\n",
    "\n",
    "print(\"Enter the first matrix:\")\n",
    "matrix1 = matrix_input()\n",
    "\n",
    "print(\"Enter the second matrix:\")\n",
    "matrix2 = matrix_input()\n",
    "\n",
    "print(\"Choose an operation - Addition (A) or Subtraction (S): \")\n",
    "operation = input().upper()\n",
    "\n",
    "if operation == 'A':\n",
    "    result = matrix1 + matrix2\n",
    "    print(\"Resultant Matrix after Addition:\")\n",
    "elif operation == 'S':\n",
    "    result = matrix1 - matrix2\n",
    "    print(\"Resultant Matrix after Subtraction:\")\n",
    "else:\n",
    "    print(\"Invalid operation.\")\n",
    "\n",
    "print(result)"
   ]
  },
  {
   "cell_type": "code",
   "execution_count": 29,
   "id": "814c8cd8",
   "metadata": {},
   "outputs": [
    {
     "name": "stdout",
     "output_type": "stream",
     "text": [
      "Enter the first number: 34\n",
      "Enter the second number: 45\n",
      "The GCD of 34 and 45 is 1.\n"
     ]
    }
   ],
   "source": [
    "'''33. Write a program that calculates the greatest common divisor (GCD) of two numbers using the Euclidean\n",
    "algorithm.'''\n",
    "def gcd(a, b):\n",
    "    while b:\n",
    "        a, b = b, a % b\n",
    "    return a\n",
    "\n",
    "num1 = int(input(\"Enter the first number: \"))\n",
    "num2 = int(input(\"Enter the second number: \"))\n",
    "\n",
    "result = gcd(num1, num2)\n",
    "print(f\"The GCD of {num1} and {num2} is {result}.\")\n"
   ]
  },
  {
   "cell_type": "code",
   "execution_count": 30,
   "id": "0bb13683",
   "metadata": {},
   "outputs": [
    {
     "name": "stdout",
     "output_type": "stream",
     "text": [
      "Enter A[0][0]: 2\n",
      "Enter A[0][1]: 3\n",
      "Enter A[1][0]: 2\n",
      "Enter A[1][1]: 3\n",
      "Enter B[0][0]: 2\n",
      "Enter B[0][1]: 3\n",
      "Enter B[1][0]: 2\n",
      "Enter B[1][1]: 3\n",
      "Matrix multiplication result:\n",
      "[10, 15]\n",
      "[10, 15]\n"
     ]
    }
   ],
   "source": [
    "'''34. Build a program that performs matrix multiplication using nested loops and conditional statements.'''\n",
    "def matrix_multiply(A, B):\n",
    "    result = [[0 for _ in range(len(B[0]))] for _ in range(len(A))]\n",
    "    for i in range(len(A)):\n",
    "        for j in range(len(B[0])):\n",
    "            for k in range(len(B)):\n",
    "                result[i][j] += A[i][k] * B[k][j]\n",
    "    return result\n",
    "\n",
    "A = [[int(input(f\"Enter A[{i}][{j}]: \")) for j in range(2)] for i in range(2)]\n",
    "B = [[int(input(f\"Enter B[{i}][{j}]: \")) for j in range(2)] for i in range(2)]\n",
    "\n",
    "result = matrix_multiply(A, B)\n",
    "print(\"Matrix multiplication result:\")\n",
    "for row in result:\n",
    "    print(row)\n"
   ]
  },
  {
   "cell_type": "code",
   "execution_count": 36,
   "id": "8534aa7b",
   "metadata": {},
   "outputs": [
    {
     "name": "stdout",
     "output_type": "stream",
     "text": [
      "  |   |  \n",
      "---------\n",
      "  |   |  \n",
      "---------\n",
      "  |   |  \n",
      "---------\n",
      "O |   |  \n",
      "---------\n",
      "  |   |  \n",
      "---------\n",
      "  |   |  \n",
      "---------\n",
      "Enter row and column (0, 1, or 2): 0 1\n",
      "O | X |  \n",
      "---------\n",
      "  |   |  \n",
      "---------\n",
      "  |   |  \n",
      "---------\n",
      "O | X |  \n",
      "---------\n",
      "O |   |  \n",
      "---------\n",
      "  |   |  \n",
      "---------\n",
      "Enter row and column (0, 1, or 2): 0 2\n",
      "O | X | X\n",
      "---------\n",
      "O |   |  \n",
      "---------\n",
      "  |   |  \n",
      "---------\n",
      "O | X | X\n",
      "---------\n",
      "O |   | O\n",
      "---------\n",
      "  |   |  \n",
      "---------\n",
      "Enter row and column (0, 1, or 2): 1 1\n",
      "O | X | X\n",
      "---------\n",
      "O | X | O\n",
      "---------\n",
      "  |   |  \n",
      "---------\n",
      "O | X | X\n",
      "---------\n",
      "O | X | O\n",
      "---------\n",
      "  |   |  \n",
      "---------\n",
      "O | X | X\n",
      "---------\n",
      "O | X | O\n",
      "---------\n",
      "  |   |  \n",
      "---------\n",
      "It's a tie!\n"
     ]
    }
   ],
   "source": [
    "'''35. Create a program that simulates a basic text-based tic-tac-toe game against the computer.'''\n",
    "import random\n",
    "\n",
    "def print_board(board):\n",
    "    for row in board:\n",
    "        print(\" | \".join(row))\n",
    "        print(\"-\" * 9)\n",
    "\n",
    "def check_winner(board, player):\n",
    "    for row in board:\n",
    "        if all([cell == player for cell in row]):\n",
    "            return True\n",
    "    for col in range(3):\n",
    "        if all([board[row][col] == player for row in range(3)]):\n",
    "            return True\n",
    "    if all([board[i][i] == player for i in range(3)]) or all([board[i][2-i] == player for i in range(3)]):\n",
    "        return True\n",
    "    return False\n",
    "\n",
    "def tic_tac_toe():\n",
    "    board = [[\" \" for _ in range(3)] for _ in range(3)]\n",
    "    players = ['X', 'O']\n",
    "    current_player = random.choice(players)\n",
    "    \n",
    "    for _ in range(9):\n",
    "        print_board(board)\n",
    "        if current_player == 'X':\n",
    "            row, col = map(int, input(\"Enter row and column (0, 1, or 2): \").split())\n",
    "        else:\n",
    "            row, col = random.randint(0, 2), random.randint(0, 2)\n",
    "        if board[row][col] == \" \":\n",
    "            board[row][col] = current_player\n",
    "            if check_winner(board, current_player):\n",
    "                print_board(board)\n",
    "                print(f\"{current_player} wins!\")\n",
    "                return\n",
    "            current_player = 'X' if current_player == 'O' else 'O'\n",
    "    print(\"It's a tie!\")\n",
    "\n",
    "tic_tac_toe()\n"
   ]
  },
  {
   "cell_type": "code",
   "execution_count": 37,
   "id": "0fc72bb5",
   "metadata": {},
   "outputs": [
    {
     "name": "stdout",
     "output_type": "stream",
     "text": [
      "Enter the number of Fibonacci terms to generate: 4\n",
      "Fibonacci sequence: [0, 1, 1, 2]\n"
     ]
    }
   ],
   "source": [
    "'''36. Write a program that generates Fibonacci numbers up to a specified term using iterative methods.'''\n",
    "def generate_fibonacci(n):\n",
    "    fib_seq = [0, 1]\n",
    "    for i in range(2, n):\n",
    "        fib_seq.append(fib_seq[-1] + fib_seq[-2])\n",
    "    return fib_seq\n",
    "\n",
    "n = int(input(\"Enter the number of Fibonacci terms to generate: \"))\n",
    "fib_numbers = generate_fibonacci(n)\n",
    "print(f\"Fibonacci sequence: {fib_numbers}\")\n"
   ]
  },
  {
   "cell_type": "code",
   "execution_count": 38,
   "id": "8a5bced7",
   "metadata": {},
   "outputs": [
    {
     "name": "stdout",
     "output_type": "stream",
     "text": [
      "Enter the nth term to calculate: 4\n",
      "The 4th term of the Fibonacci sequence is 3\n"
     ]
    }
   ],
   "source": [
    "'''37. Develop a program that calculates the nth term of the Fibonacci sequence using memoization.'''\n",
    "def fibonacci_memo(n, memo={}):\n",
    "    if n in memo:\n",
    "        return memo[n]\n",
    "    if n <= 2:\n",
    "        return 1\n",
    "    memo[n] = fibonacci_memo(n-1, memo) + fibonacci_memo(n-2, memo)\n",
    "    return memo[n]\n",
    "\n",
    "n = int(input(\"Enter the nth term to calculate: \"))\n",
    "nth_term = fibonacci_memo(n)\n",
    "print(f\"The {n}th term of the Fibonacci sequence is {nth_term}\")\n"
   ]
  },
  {
   "cell_type": "code",
   "execution_count": 39,
   "id": "9e666845",
   "metadata": {},
   "outputs": [
    {
     "name": "stdout",
     "output_type": "stream",
     "text": [
      "Enter year: 2021\n",
      "Enter month (1-12): 2\n",
      "   February 2021\n",
      "Mo Tu We Th Fr Sa Su\n",
      " 1  2  3  4  5  6  7\n",
      " 8  9 10 11 12 13 14\n",
      "15 16 17 18 19 20 21\n",
      "22 23 24 25 26 27 28\n",
      "\n"
     ]
    }
   ],
   "source": [
    "'''38. Create a program that generates a calendar for a given month and year using conditional statements.'''\n",
    "import calendar\n",
    "\n",
    "year = int(input(\"Enter year: \"))\n",
    "month = int(input(\"Enter month (1-12): \"))\n",
    "\n",
    "if 1 <= month <= 12:\n",
    "    print(calendar.month(year, month))\n",
    "else:\n",
    "    print(\"Invalid month.\")\n"
   ]
  },
  {
   "cell_type": "code",
   "execution_count": 40,
   "id": "c271f2bd",
   "metadata": {},
   "outputs": [
    {
     "name": "stdout",
     "output_type": "stream",
     "text": [
      "Your hand: ['5', '6']\n",
      "Computer's first card: A\n",
      "Do you want to hit (h) or stand (s)? h\n",
      "Your hand: ['5', '6', '6']\n",
      "Do you want to hit (h) or stand (s)? h\n",
      "Your hand: ['5', '6', '6', '10']\n",
      "You busted! Computer wins.\n"
     ]
    }
   ],
   "source": [
    "'''39. Build a program that simulates a basic text-based blackjack game against the computer.'''\n",
    "import random\n",
    "\n",
    "def draw_card():\n",
    "    return random.choice(['2', '3', '4', '5', '6', '7', '8', '9', '10', 'J', 'Q', 'K', 'A'])\n",
    "\n",
    "def card_value(card):\n",
    "    if card in ['J', 'Q', 'K']:\n",
    "        return 10\n",
    "    elif card == 'A':\n",
    "        return 11\n",
    "    else:\n",
    "        return int(card)\n",
    "\n",
    "def play_blackjack():\n",
    "    player_hand = [draw_card(), draw_card()]\n",
    "    computer_hand = [draw_card(), draw_card()]\n",
    "    \n",
    "    print(f\"Your hand: {player_hand}\")\n",
    "    print(f\"Computer's first card: {computer_hand[0]}\")\n",
    "    \n",
    "    while True:\n",
    "        action = input(\"Do you want to hit (h) or stand (s)? \").lower()\n",
    "        if action == 'h':\n",
    "            player_hand.append(draw_card())\n",
    "            print(f\"Your hand: {player_hand}\")\n",
    "            if sum(map(card_value, player_hand)) > 21:\n",
    "                print(\"You busted! Computer wins.\")\n",
    "                return\n",
    "        elif action == 's':\n",
    "            break\n",
    "    \n",
    "    while sum(map(card_value, computer_hand)) < 17:\n",
    "        computer_hand.append(draw_card())\n",
    "    \n",
    "    player_score = sum(map(card_value, player_hand))\n",
    "    computer_score = sum(map(card_value, computer_hand))\n",
    "    \n",
    "    print(f\"Your final hand: {player_hand}, score: {player_score}\")\n",
    "    print(f\"Computer's final hand: {computer_hand}, score: {computer_score}\")\n",
    "    \n",
    "    if computer_score > 21 or player_score > computer_score:\n",
    "        print(\"You win!\")\n",
    "    elif player_score < computer_score:\n",
    "        print(\"Computer wins!\")\n",
    "    else:\n",
    "        print(\"It's a tie!\")\n",
    "\n",
    "play_blackjack()\n"
   ]
  },
  {
   "cell_type": "code",
   "execution_count": 42,
   "id": "27303902",
   "metadata": {},
   "outputs": [
    {
     "name": "stdout",
     "output_type": "stream",
     "text": [
      "Enter a number: 20\n",
      "Prime factors of 20 are: [2, 2, 5]\n"
     ]
    }
   ],
   "source": [
    "'''40. Write a program that generates the prime factors of a given number using trial division.'''\n",
    "def prime_factors(n):\n",
    "    factors = []\n",
    "    while n % 2 == 0:\n",
    "        factors.append(2)\n",
    "        n = n // 2\n",
    "    for i in range(3, int(n**0.5) + 1, 2):\n",
    "        while n % i == 0:\n",
    "            factors.append(i)\n",
    "            n = n // i\n",
    "    if n > 2:\n",
    "        factors.append(n)\n",
    "    return factors\n",
    "\n",
    "num = int(input(\"Enter a number: \"))\n",
    "factors = prime_factors(num)\n",
    "print(f\"Prime factors of {num} are: {factors}\")\n"
   ]
  },
  {
   "cell_type": "code",
   "execution_count": null,
   "id": "a29e018c",
   "metadata": {},
   "outputs": [],
   "source": []
  }
 ],
 "metadata": {
  "kernelspec": {
   "display_name": "Python 3 (ipykernel)",
   "language": "python",
   "name": "python3"
  },
  "language_info": {
   "codemirror_mode": {
    "name": "ipython",
    "version": 3
   },
   "file_extension": ".py",
   "mimetype": "text/x-python",
   "name": "python",
   "nbconvert_exporter": "python",
   "pygments_lexer": "ipython3",
   "version": "3.11.7"
  }
 },
 "nbformat": 4,
 "nbformat_minor": 5
}
