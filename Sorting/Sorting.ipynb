{
 "cells": [
  {
   "cell_type": "code",
   "execution_count": 1,
   "id": "d4c329cb",
   "metadata": {},
   "outputs": [
    {
     "name": "stdout",
     "output_type": "stream",
     "text": [
      "4\n"
     ]
    }
   ],
   "source": [
    "'''Problem 1.Given an array of n numbers, give an algorithm which gives the element appearing maximum\n",
    "number of times?'''\n",
    "def find_max_frequency_element(arr):\n",
    "    frequency = {}\n",
    "    max_count = 0\n",
    "    max_element = None\n",
    "    for num in arr:\n",
    "        frequency[num] = frequency.get(num, 0) + 1\n",
    "        if frequency[num] > max_count:\n",
    "            max_count = frequency[num]\n",
    "            max_element = num\n",
    "    return max_element\n",
    "\n",
    "# Example usage:\n",
    "arr = [1, 2, 2, 4, 4, 4, 5, 6, 4]\n",
    "output = find_max_frequency_element(arr)\n",
    "print(output)  # Output: 4\n"
   ]
  },
  {
   "cell_type": "code",
   "execution_count": 2,
   "id": "8160c4c5",
   "metadata": {},
   "outputs": [
    {
     "name": "stdout",
     "output_type": "stream",
     "text": [
      "5\n"
     ]
    }
   ],
   "source": [
    "'''Problem 2 : We are given a list of n-1 integers and these integers are in the range of 1 to n . There are no\n",
    "duplicates in the list. One of the integers is missing in the list. Give an algorithm to find that element Ex:\n",
    "[1,2,4,6,3,7,8] 5 is the missing num.'''\n",
    "def find_missing_number(arr):\n",
    "    n = len(arr) + 1\n",
    "    total_sum = n * (n + 1) // 2\n",
    "    actual_sum = sum(arr)\n",
    "    return total_sum - actual_sum\n",
    "\n",
    "# Example usage:\n",
    "arr = [1, 2, 4, 6, 3, 7, 8]\n",
    "output = find_missing_number(arr)\n",
    "print(output)  # Output: 5\n"
   ]
  },
  {
   "cell_type": "code",
   "execution_count": 3,
   "id": "4ee109d3",
   "metadata": {},
   "outputs": [
    {
     "name": "stdout",
     "output_type": "stream",
     "text": [
      "3\n"
     ]
    }
   ],
   "source": [
    "'''Problem 3 : Given an array of n positive numbers. All numbers occurs even number of times except 1 which\n",
    "occurs odd number of times. Find that number in O(n) time and O(1) space. Ex: [1,2,3,2,3,1,3]. 3 is repeats odd\n",
    "times.'''\n",
    "def find_odd_occurrence(arr):\n",
    "    result = 0\n",
    "    for num in arr:\n",
    "        result ^= num\n",
    "    return result\n",
    "\n",
    "# Example usage:\n",
    "arr = [1, 2, 3, 2, 3, 1, 3]\n",
    "output = find_odd_occurrence(arr)\n",
    "print(output)  # Output: 3\n"
   ]
  },
  {
   "cell_type": "code",
   "execution_count": 4,
   "id": "841c555d",
   "metadata": {},
   "outputs": [
    {
     "name": "stdout",
     "output_type": "stream",
     "text": [
      "(6, 10)\n"
     ]
    }
   ],
   "source": [
    "'''Problem 4 : Given an array of n elements. Find two elements in the array such that their sum is equal to given\n",
    "element K.'''\n",
    "def find_pair_with_sum(arr, K):\n",
    "    seen = set()\n",
    "    for num in arr:\n",
    "        complement = K - num\n",
    "        if complement in seen:\n",
    "            return (complement, num)\n",
    "        seen.add(num)\n",
    "    return None\n",
    "\n",
    "# Example usage:\n",
    "arr = [1, 4, 45, 6, 10, -8]\n",
    "K = 16\n",
    "output = find_pair_with_sum(arr, K)\n",
    "print(output)  # Output: (10, 6)\n"
   ]
  },
  {
   "cell_type": "code",
   "execution_count": 5,
   "id": "2480adeb",
   "metadata": {},
   "outputs": [
    {
     "name": "stdout",
     "output_type": "stream",
     "text": [
      "(-80, 85)\n"
     ]
    }
   ],
   "source": [
    "'''Problem 5 : Given an array of both positive and negative numbers, find two numbers such that their sum is\n",
    "closest to 0. Ex: [ 1 ,60 ,-10, 70, -80,85]. Ans : -80,85.'''\n",
    "def find_closest_to_zero(arr):\n",
    "    arr.sort()\n",
    "    left, right = 0, len(arr) - 1\n",
    "    min_sum = float('inf')\n",
    "    closest_pair = (arr[left], arr[right])\n",
    "    while left < right:\n",
    "        current_sum = arr[left] + arr[right]\n",
    "        if abs(current_sum) < abs(min_sum):\n",
    "            min_sum = current_sum\n",
    "            closest_pair = (arr[left], arr[right])\n",
    "        if current_sum < 0:\n",
    "            left += 1\n",
    "        else:\n",
    "            right -= 1\n",
    "    return closest_pair\n",
    "\n",
    "# Example usage:\n",
    "arr = [1, 60, -10, 70, -80, 85]\n",
    "output = find_closest_to_zero(arr)\n",
    "print(output)  # Output: (-80, 85)\n"
   ]
  },
  {
   "cell_type": "code",
   "execution_count": 6,
   "id": "c7693bc0",
   "metadata": {},
   "outputs": [
    {
     "name": "stdout",
     "output_type": "stream",
     "text": [
      "(1, 2, 6)\n"
     ]
    }
   ],
   "source": [
    "'''Problem 6 : Given an array of n elements . Find three elements such that their sum is equal to the given\n",
    "number.'''\n",
    "def find_triplet_with_sum(arr, target_sum):\n",
    "    arr.sort()\n",
    "    for i in range(len(arr) - 2):\n",
    "        left, right = i + 1, len(arr) - 1\n",
    "        while left < right:\n",
    "            current_sum = arr[i] + arr[left] + arr[right]\n",
    "            if current_sum == target_sum:\n",
    "                return (arr[i], arr[left], arr[right])\n",
    "            elif current_sum < target_sum:\n",
    "                left += 1\n",
    "            else:\n",
    "                right -= 1\n",
    "    return None\n",
    "\n",
    "# Example usage:\n",
    "arr = [1, 2, 4, 3, 6]\n",
    "target_sum = 9\n",
    "output = find_triplet_with_sum(arr, target_sum)\n",
    "print(output)  # Output: (1, 3, 5)\n"
   ]
  },
  {
   "cell_type": "code",
   "execution_count": 7,
   "id": "6300c664",
   "metadata": {},
   "outputs": [
    {
     "name": "stdout",
     "output_type": "stream",
     "text": [
      "(3, 4, 5)\n"
     ]
    }
   ],
   "source": [
    "'''Problem 7 : Given an array of n elements . Find three elements i, j, k in the array such that\n",
    "i * i + j * j = k*k.'''\n",
    "def find_pythagorean_triplet(arr):\n",
    "    arr = [x*x for x in arr]\n",
    "    arr.sort()\n",
    "    for k in range(len(arr) - 1, 1, -1):\n",
    "        i, j = 0, k - 1\n",
    "        while i < j:\n",
    "            if arr[i] + arr[j] == arr[k]:\n",
    "                return (int(arr[i]**0.5), int(arr[j]**0.5), int(arr[k]**0.5))\n",
    "            elif arr[i] + arr[j] < arr[k]:\n",
    "                i += 1\n",
    "            else:\n",
    "                j -= 1\n",
    "    return None\n",
    "\n",
    "# Example usage:\n",
    "arr = [3, 1, 4, 6, 5]\n",
    "output = find_pythagorean_triplet(arr)\n",
    "print(output)  # Output: (3, 4, 5)\n"
   ]
  },
  {
   "cell_type": "code",
   "execution_count": 8,
   "id": "11c2b387",
   "metadata": {},
   "outputs": [
    {
     "name": "stdout",
     "output_type": "stream",
     "text": [
      "4\n"
     ]
    }
   ],
   "source": [
    "'''Problem 8 : An element is a majority if it appears more than n/2 times. Give an algorithm takes an array of n\n",
    "element as argument and identifies a majority (if it exists).'''\n",
    "def find_majority_element(arr):\n",
    "    candidate, count = None, 0\n",
    "    for num in arr:\n",
    "        if count == 0:\n",
    "            candidate = num\n",
    "        count += 1 if num == candidate else -1\n",
    "    \n",
    "    # Validation step to ensure candidate is majority\n",
    "    if arr.count(candidate) > len(arr) // 2:\n",
    "        return candidate\n",
    "    return None\n",
    "\n",
    "# Example usage:\n",
    "arr = [3, 3, 4, 2, 4, 4, 2, 4, 4]\n",
    "output = find_majority_element(arr)\n",
    "print(output)  # Output: 4\n"
   ]
  },
  {
   "cell_type": "code",
   "execution_count": 9,
   "id": "5d65ca01",
   "metadata": {},
   "outputs": [
    {
     "name": "stdout",
     "output_type": "stream",
     "text": [
      "1\n"
     ]
    }
   ],
   "source": [
    "'''Problem 9 : Given n × n matrix, and in each row all 1’s are followed by 0’s. Find the row with the maximum\n",
    "number of 0’s.'''\n",
    "def find_row_with_max_zeros(matrix):\n",
    "    max_zeros = 0\n",
    "    row_index = 0\n",
    "    j = len(matrix[0]) - 1\n",
    "    \n",
    "    for i in range(len(matrix)):\n",
    "        while j >= 0 and matrix[i][j] == 0:\n",
    "            j -= 1\n",
    "        zeros = len(matrix[0]) - 1 - j\n",
    "        if zeros > max_zeros:\n",
    "            max_zeros = zeros\n",
    "            row_index = i\n",
    "    return row_index\n",
    "\n",
    "# Example usage:\n",
    "matrix = [\n",
    "    [1, 1, 0, 0],\n",
    "    [1, 0, 0, 0],\n",
    "    [1, 1, 1, 0]\n",
    "]\n",
    "output = find_row_with_max_zeros(matrix)\n",
    "print(output)  # Output: 1\n"
   ]
  },
  {
   "cell_type": "code",
   "execution_count": 10,
   "id": "edfc52d3",
   "metadata": {},
   "outputs": [
    {
     "name": "stdout",
     "output_type": "stream",
     "text": [
      "[0, 0, 0, 0, 0, 1, 1, 1, 1, 1, 2, 2]\n"
     ]
    }
   ],
   "source": [
    "'''Problem 10 : Sort an array of 0’s, 1’s and 2’s [or R’s, G’s and B’s]: Given an array A[] consisting of 0’s, 1’s and\n",
    "2’s, give an algorithm for sorting A[].The algorithm should put all 0’s first, then all 1’s and finally all 2’s at the\n",
    "end. Example Input = {0,1,1,0,1,2,1,2,0,0,0,1}, Output = {0,0,0,0,0,1,1,1,1,1,2,2}'''\n",
    "def sort_array(arr):\n",
    "    low, mid, high = 0, 0, len(arr) - 1\n",
    "    while mid <= high:\n",
    "        if arr[mid] == 0:\n",
    "            arr[low], arr[mid] = arr[mid], arr[low]\n",
    "            low += 1\n",
    "            mid += 1\n",
    "        elif arr[mid] == 1:\n",
    "            mid += 1\n",
    "        else:\n",
    "            arr[mid], arr[high] = arr[high], arr[mid]\n",
    "            high -= 1\n",
    "    return arr\n",
    "\n",
    "# Example usage:\n",
    "arr = [0, 1, 1, 0, 1, 2, 1, 2, 0, 0, 0, 1]\n",
    "output = sort_array(arr)\n",
    "print(output)  # Output: [0, 0, 0, 0, 1, 1, 1, 1, 1, 2, 2]\n"
   ]
  },
  {
   "cell_type": "code",
   "execution_count": null,
   "id": "718d1f5e",
   "metadata": {},
   "outputs": [],
   "source": []
  }
 ],
 "metadata": {
  "kernelspec": {
   "display_name": "Python 3 (ipykernel)",
   "language": "python",
   "name": "python3"
  },
  "language_info": {
   "codemirror_mode": {
    "name": "ipython",
    "version": 3
   },
   "file_extension": ".py",
   "mimetype": "text/x-python",
   "name": "python",
   "nbconvert_exporter": "python",
   "pygments_lexer": "ipython3",
   "version": "3.11.7"
  }
 },
 "nbformat": 4,
 "nbformat_minor": 5
}
